{
  "cells": [
    {
      "cell_type": "markdown",
      "metadata": {
        "id": "view-in-github",
        "colab_type": "text"
      },
      "source": [
        "<a href=\"https://colab.research.google.com/github/mirpouya/Northwind-DWH/blob/main/Analytics_2_(SQLlite)_Northwind_Traders_.ipynb\" target=\"_parent\"><img src=\"https://colab.research.google.com/assets/colab-badge.svg\" alt=\"Open In Colab\"/></a>"
      ]
    },
    {
      "cell_type": "code",
      "execution_count": 1,
      "metadata": {
        "id": "SPKc50XV57Fc"
      },
      "outputs": [],
      "source": [
        "import pandas as pd\n",
        "import numpy as np\n",
        "import matplotlib.pyplot as plt\n",
        "import seaborn as sns\n",
        "import scipy.stats as stats\n",
        "import statsmodels.api as sm\n",
        "from statsmodels.formula.api import ols\n",
        "from statsmodels.stats.multicomp import tukeyhsd\n",
        "from statsmodels.stats.multicomp import MultiComparison\n",
        "from scipy.stats import f_oneway\n",
        "from scipy.stats import chi2_contingency\n",
        "\n",
        "import warnings\n",
        "warnings.filterwarnings('ignore')"
      ]
    },
    {
      "cell_type": "code",
      "execution_count": 2,
      "metadata": {
        "id": "wNTXIlY357Fc"
      },
      "outputs": [],
      "source": [
        "# Connect to SQL database\n",
        "import sqlalchemy\n",
        "from sqlalchemy import create_engine\n",
        "from sqlalchemy.orm import Session, sessionmaker\n",
        "\n",
        "engine = create_engine('sqlite:///Northwind_small.sqlite', echo=True)\n",
        "Session = sessionmaker(bind=engine)\n",
        "session = Session()"
      ]
    },
    {
      "cell_type": "code",
      "execution_count": 3,
      "metadata": {
        "colab": {
          "base_uri": "https://localhost:8080/"
        },
        "id": "7T7wz2vA57Fc",
        "outputId": "af667522-69e2-462c-8f26-c03bca0a111d"
      },
      "outputs": [
        {
          "output_type": "stream",
          "name": "stdout",
          "text": [
            "2023-12-06 17:57:23,147 INFO sqlalchemy.engine.Engine BEGIN (implicit)\n"
          ]
        },
        {
          "output_type": "stream",
          "name": "stderr",
          "text": [
            "INFO:sqlalchemy.engine.Engine:BEGIN (implicit)\n"
          ]
        },
        {
          "output_type": "stream",
          "name": "stdout",
          "text": [
            "2023-12-06 17:57:23,168 INFO sqlalchemy.engine.Engine SELECT name FROM sqlite_master WHERE type='table' AND name NOT LIKE 'sqlite~_%' ESCAPE '~' ORDER BY name\n"
          ]
        },
        {
          "output_type": "stream",
          "name": "stderr",
          "text": [
            "INFO:sqlalchemy.engine.Engine:SELECT name FROM sqlite_master WHERE type='table' AND name NOT LIKE 'sqlite~_%' ESCAPE '~' ORDER BY name\n"
          ]
        },
        {
          "output_type": "stream",
          "name": "stdout",
          "text": [
            "2023-12-06 17:57:23,174 INFO sqlalchemy.engine.Engine [raw sql] ()\n"
          ]
        },
        {
          "output_type": "stream",
          "name": "stderr",
          "text": [
            "INFO:sqlalchemy.engine.Engine:[raw sql] ()\n"
          ]
        },
        {
          "output_type": "stream",
          "name": "stdout",
          "text": [
            "2023-12-06 17:57:23,192 INFO sqlalchemy.engine.Engine ROLLBACK\n"
          ]
        },
        {
          "output_type": "stream",
          "name": "stderr",
          "text": [
            "INFO:sqlalchemy.engine.Engine:ROLLBACK\n"
          ]
        },
        {
          "output_type": "execute_result",
          "data": {
            "text/plain": [
              "[]"
            ]
          },
          "metadata": {},
          "execution_count": 3
        }
      ],
      "source": [
        "# Get Table Names and Table Information\n",
        "from sqlalchemy import inspect\n",
        "inspector = inspect(engine)\n",
        "inspector.get_table_names()"
      ]
    },
    {
      "cell_type": "markdown",
      "metadata": {
        "id": "tGDElxNm57Fd"
      },
      "source": [
        "Note: Table names listed in the ERD are all plural (e.g. 'Employees'), while in reality, the table names are actually singular (e.g. 'Employee')"
      ]
    },
    {
      "cell_type": "code",
      "execution_count": null,
      "metadata": {
        "id": "K2fJoQFA57Fd",
        "outputId": "182b4992-e26e-4c2f-f31a-5a4bc0dde0b5"
      },
      "outputs": [
        {
          "name": "stdout",
          "output_type": "stream",
          "text": [
            "2019-03-11 16:45:37,203 INFO sqlalchemy.engine.base.Engine SELECT * FROM OrderDetail\n",
            "2019-03-11 16:45:37,205 INFO sqlalchemy.engine.base.Engine ()\n"
          ]
        },
        {
          "data": {
            "text/html": [
              "<div>\n",
              "<style scoped>\n",
              "    .dataframe tbody tr th:only-of-type {\n",
              "        vertical-align: middle;\n",
              "    }\n",
              "\n",
              "    .dataframe tbody tr th {\n",
              "        vertical-align: top;\n",
              "    }\n",
              "\n",
              "    .dataframe thead th {\n",
              "        text-align: right;\n",
              "    }\n",
              "</style>\n",
              "<table border=\"1\" class=\"dataframe\">\n",
              "  <thead>\n",
              "    <tr style=\"text-align: right;\">\n",
              "      <th></th>\n",
              "      <th>Id</th>\n",
              "      <th>OrderId</th>\n",
              "      <th>ProductId</th>\n",
              "      <th>UnitPrice</th>\n",
              "      <th>Quantity</th>\n",
              "      <th>Discount</th>\n",
              "    </tr>\n",
              "  </thead>\n",
              "  <tbody>\n",
              "    <tr>\n",
              "      <th>0</th>\n",
              "      <td>10248/11</td>\n",
              "      <td>10248</td>\n",
              "      <td>11</td>\n",
              "      <td>14.0</td>\n",
              "      <td>12</td>\n",
              "      <td>0.0</td>\n",
              "    </tr>\n",
              "    <tr>\n",
              "      <th>1</th>\n",
              "      <td>10248/42</td>\n",
              "      <td>10248</td>\n",
              "      <td>42</td>\n",
              "      <td>9.8</td>\n",
              "      <td>10</td>\n",
              "      <td>0.0</td>\n",
              "    </tr>\n",
              "    <tr>\n",
              "      <th>2</th>\n",
              "      <td>10248/72</td>\n",
              "      <td>10248</td>\n",
              "      <td>72</td>\n",
              "      <td>34.8</td>\n",
              "      <td>5</td>\n",
              "      <td>0.0</td>\n",
              "    </tr>\n",
              "    <tr>\n",
              "      <th>3</th>\n",
              "      <td>10249/14</td>\n",
              "      <td>10249</td>\n",
              "      <td>14</td>\n",
              "      <td>18.6</td>\n",
              "      <td>9</td>\n",
              "      <td>0.0</td>\n",
              "    </tr>\n",
              "    <tr>\n",
              "      <th>4</th>\n",
              "      <td>10249/51</td>\n",
              "      <td>10249</td>\n",
              "      <td>51</td>\n",
              "      <td>42.4</td>\n",
              "      <td>40</td>\n",
              "      <td>0.0</td>\n",
              "    </tr>\n",
              "  </tbody>\n",
              "</table>\n",
              "</div>"
            ],
            "text/plain": [
              "         Id  OrderId  ProductId  UnitPrice  Quantity  Discount\n",
              "0  10248/11    10248         11       14.0        12       0.0\n",
              "1  10248/42    10248         42        9.8        10       0.0\n",
              "2  10248/72    10248         72       34.8         5       0.0\n",
              "3  10249/14    10249         14       18.6         9       0.0\n",
              "4  10249/51    10249         51       42.4        40       0.0"
            ]
          },
          "execution_count": 4,
          "metadata": {},
          "output_type": "execute_result"
        }
      ],
      "source": [
        "# Get all the information from the OrderDetails table.\n",
        "# Will use Quantity column to examine of discount has an effect on amount of quantity ordered by customers\n",
        "order_details_df = pd.read_sql_query('''SELECT * FROM OrderDetail''', engine)\n",
        "order_details_df.head()"
      ]
    },
    {
      "cell_type": "code",
      "execution_count": null,
      "metadata": {
        "id": "0yAAZ8Ue57Fd",
        "outputId": "92e93828-ce08-47a1-8a45-db5f74080b77"
      },
      "outputs": [
        {
          "data": {
            "text/plain": [
              "Id           0\n",
              "OrderId      0\n",
              "ProductId    0\n",
              "UnitPrice    0\n",
              "Quantity     0\n",
              "Discount     0\n",
              "dtype: int64"
            ]
          },
          "execution_count": 5,
          "metadata": {},
          "output_type": "execute_result"
        }
      ],
      "source": [
        "# Check for nulls\n",
        "order_details_df.isna().sum()"
      ]
    },
    {
      "cell_type": "code",
      "execution_count": null,
      "metadata": {
        "id": "Tbz8uCD757Fe",
        "outputId": "3f3d1e2e-4720-49af-8a17-b4da953422c6"
      },
      "outputs": [
        {
          "data": {
            "text/plain": [
              "(2155, 6)"
            ]
          },
          "execution_count": 6,
          "metadata": {},
          "output_type": "execute_result"
        }
      ],
      "source": [
        "order_details_df.shape"
      ]
    },
    {
      "cell_type": "code",
      "execution_count": null,
      "metadata": {
        "id": "ZBWVb-mR57Fe",
        "outputId": "dac871be-466f-4551-9b11-14d0912682f7"
      },
      "outputs": [
        {
          "data": {
            "text/html": [
              "<div>\n",
              "<style scoped>\n",
              "    .dataframe tbody tr th:only-of-type {\n",
              "        vertical-align: middle;\n",
              "    }\n",
              "\n",
              "    .dataframe tbody tr th {\n",
              "        vertical-align: top;\n",
              "    }\n",
              "\n",
              "    .dataframe thead th {\n",
              "        text-align: right;\n",
              "    }\n",
              "</style>\n",
              "<table border=\"1\" class=\"dataframe\">\n",
              "  <thead>\n",
              "    <tr style=\"text-align: right;\">\n",
              "      <th></th>\n",
              "      <th>OrderId</th>\n",
              "      <th>ProductId</th>\n",
              "      <th>UnitPrice</th>\n",
              "      <th>Quantity</th>\n",
              "      <th>Discount</th>\n",
              "    </tr>\n",
              "  </thead>\n",
              "  <tbody>\n",
              "    <tr>\n",
              "      <th>count</th>\n",
              "      <td>2155.000000</td>\n",
              "      <td>2155.000000</td>\n",
              "      <td>2155.000000</td>\n",
              "      <td>2155.000000</td>\n",
              "      <td>2155.000000</td>\n",
              "    </tr>\n",
              "    <tr>\n",
              "      <th>mean</th>\n",
              "      <td>10659.375870</td>\n",
              "      <td>40.793039</td>\n",
              "      <td>26.218520</td>\n",
              "      <td>23.812993</td>\n",
              "      <td>0.056167</td>\n",
              "    </tr>\n",
              "    <tr>\n",
              "      <th>std</th>\n",
              "      <td>241.378032</td>\n",
              "      <td>22.159019</td>\n",
              "      <td>29.827418</td>\n",
              "      <td>19.022047</td>\n",
              "      <td>0.083450</td>\n",
              "    </tr>\n",
              "    <tr>\n",
              "      <th>min</th>\n",
              "      <td>10248.000000</td>\n",
              "      <td>1.000000</td>\n",
              "      <td>2.000000</td>\n",
              "      <td>1.000000</td>\n",
              "      <td>0.000000</td>\n",
              "    </tr>\n",
              "    <tr>\n",
              "      <th>25%</th>\n",
              "      <td>10451.000000</td>\n",
              "      <td>22.000000</td>\n",
              "      <td>12.000000</td>\n",
              "      <td>10.000000</td>\n",
              "      <td>0.000000</td>\n",
              "    </tr>\n",
              "    <tr>\n",
              "      <th>50%</th>\n",
              "      <td>10657.000000</td>\n",
              "      <td>41.000000</td>\n",
              "      <td>18.400000</td>\n",
              "      <td>20.000000</td>\n",
              "      <td>0.000000</td>\n",
              "    </tr>\n",
              "    <tr>\n",
              "      <th>75%</th>\n",
              "      <td>10862.500000</td>\n",
              "      <td>60.000000</td>\n",
              "      <td>32.000000</td>\n",
              "      <td>30.000000</td>\n",
              "      <td>0.100000</td>\n",
              "    </tr>\n",
              "    <tr>\n",
              "      <th>max</th>\n",
              "      <td>11077.000000</td>\n",
              "      <td>77.000000</td>\n",
              "      <td>263.500000</td>\n",
              "      <td>130.000000</td>\n",
              "      <td>0.250000</td>\n",
              "    </tr>\n",
              "  </tbody>\n",
              "</table>\n",
              "</div>"
            ],
            "text/plain": [
              "            OrderId    ProductId    UnitPrice     Quantity     Discount\n",
              "count   2155.000000  2155.000000  2155.000000  2155.000000  2155.000000\n",
              "mean   10659.375870    40.793039    26.218520    23.812993     0.056167\n",
              "std      241.378032    22.159019    29.827418    19.022047     0.083450\n",
              "min    10248.000000     1.000000     2.000000     1.000000     0.000000\n",
              "25%    10451.000000    22.000000    12.000000    10.000000     0.000000\n",
              "50%    10657.000000    41.000000    18.400000    20.000000     0.000000\n",
              "75%    10862.500000    60.000000    32.000000    30.000000     0.100000\n",
              "max    11077.000000    77.000000   263.500000   130.000000     0.250000"
            ]
          },
          "execution_count": 7,
          "metadata": {},
          "output_type": "execute_result"
        }
      ],
      "source": [
        "order_details_df.describe()"
      ]
    },
    {
      "cell_type": "code",
      "execution_count": null,
      "metadata": {
        "id": "udW9o_8w57Fe",
        "outputId": "aeaee2c7-0aae-4c97-f84f-e9198b94b49a"
      },
      "outputs": [
        {
          "data": {
            "image/png": "[encoded data removed]",
            "text/plain": [
              "<Figure size 576x360 with 1 Axes>"
            ]
          },
          "metadata": {
            "needs_background": "light"
          },
          "output_type": "display_data"
        },
        {
          "data": {
            "image/png": "[encoded data removed]",
            "text/plain": [
              "<Figure size 432x288 with 1 Axes>"
            ]
          },
          "metadata": {
            "needs_background": "light"
          },
          "output_type": "display_data"
        }
      ],
      "source": [
        "# Visualize data for normality\n",
        "plt.figure(figsize=(8,5))\n",
        "sns.distplot(order_details_df.Quantity)\n",
        "plt.title('Distribution of Quantities Ordered')\n",
        "sm.qqplot(order_details_df.Quantity, line='s')\n",
        "plt.show()"
      ]
    },
    {
      "cell_type": "markdown",
      "metadata": {
        "id": "DeAk4LlI57Fe"
      },
      "source": [
        "Looking at the histogram and the QQ Plot of the data, we see that it isn't normally distributed.\n",
        "<br>\n",
        "However, this shouldn't be an issue since our population size is very large, over 2,000, and the samples we pull from it will be large enough where a t-test is still valid due to it assuming that the means of the samples are from a normal distribution through the CLT, rather than assuming the population is from a normal distribution."
      ]
    },
    {
      "cell_type": "markdown",
      "metadata": {
        "id": "Xhc0OAez57Fe"
      },
      "source": [
        "## Create control and experiement group\n",
        "\n",
        "The control group will be the data of orders without a discount.\n",
        "<br>\n",
        "The experiment group will be the data of orders with a discount."
      ]
    },
    {
      "cell_type": "code",
      "execution_count": null,
      "metadata": {
        "id": "CJYjF3WO57Ff"
      },
      "outputs": [],
      "source": [
        "no_discount = order_details_df[order_details_df['Discount'] == 0.0]['Quantity']\n",
        "discount = order_details_df[order_details_df['Discount'] != 0.0]['Quantity']"
      ]
    },
    {
      "cell_type": "code",
      "execution_count": null,
      "metadata": {
        "id": "p0FmUNrd57Ff",
        "outputId": "5267c231-fd8f-4fd9-fc58-368d9d2d3aa6"
      },
      "outputs": [
        {
          "name": "stdout",
          "output_type": "stream",
          "text": [
            "1317 838\n"
          ]
        }
      ],
      "source": [
        "print(len(no_discount), len(discount))"
      ]
    },
    {
      "cell_type": "code",
      "execution_count": null,
      "metadata": {
        "id": "eOrA4set57Ff",
        "outputId": "4c84bfae-a809-4ecd-dffd-ff725b7f4383"
      },
      "outputs": [
        {
          "data": {
            "image/png": "[encoded data removed]",
            "text/plain": [
              "<Figure size 576x360 with 1 Axes>"
            ]
          },
          "metadata": {
            "needs_background": "light"
          },
          "output_type": "display_data"
        }
      ],
      "source": [
        "# Visualize Groups\n",
        "plt.figure(figsize=(8,5))\n",
        "sns.distplot(no_discount, label='No discount')\n",
        "sns.distplot(discount, label='Discount')\n",
        "plt.axvline(np.mean(no_discount), color='blue', label='No discount mean')\n",
        "plt.axvline(np.mean(discount), color='red', label='Discount mean')\n",
        "plt.title('Distribution of Discount vs No-Discount Quantities Ordered')\n",
        "plt.legend()\n",
        "plt.show()"
      ]
    },
    {
      "cell_type": "code",
      "execution_count": null,
      "metadata": {
        "scrolled": true,
        "id": "Q7dIdUue57Ff",
        "outputId": "057cb2ec-ab0a-4b5a-f553-b8f9dbcc6c99"
      },
      "outputs": [
        {
          "name": "stdout",
          "output_type": "stream",
          "text": [
            "Mean for no discount: 21.715261958997722\n",
            "Mean for discount: 27.10978520286396\n",
            "Mean difference: 5.394523243866239\n"
          ]
        }
      ],
      "source": [
        "print('Mean for no discount:', np.mean(no_discount))\n",
        "print('Mean for discount:', np.mean(discount))\n",
        "print('Mean difference:', np.mean(discount) - np.mean(no_discount))"
      ]
    },
    {
      "cell_type": "markdown",
      "metadata": {
        "id": "y1wC3-5Y57Ff"
      },
      "source": [
        "## Hypothesis\n",
        "Null Hypothesis: The average amount ordered with no discount(control) is at least the same as the average amount ordered with a discount(experiment).\n",
        "<br>\n",
        "\n",
        "$H_0: \\mu_c $\\>=$ \\mu_e$\n",
        "<br>\n",
        "\n",
        "Alternative Hypothesis: The average amount ordered with a discount(experiment) is greater than the average amount ordered with no discount(control).\n",
        "<br>\n",
        "\n",
        "$H_a: \\mu_c < \\mu_e$\n",
        "<br>\n",
        "\n",
        "Basically we want to see if customers order a statistically significant amount more when there is a discount on products or does the discount not have any statistical significance."
      ]
    },
    {
      "cell_type": "markdown",
      "metadata": {
        "id": "A9ZaQQuf57Fg"
      },
      "source": [
        "## Select Alpha"
      ]
    },
    {
      "cell_type": "markdown",
      "metadata": {
        "id": "wR-nnNig57Fg"
      },
      "source": [
        "We will be using an Alpha $\\alpha$ of 0.05, this is a common alpha in order to reduce both type I and type II to an acceptable level.  "
      ]
    },
    {
      "cell_type": "markdown",
      "metadata": {
        "id": "IxcFkmoH57Fg"
      },
      "source": [
        "## Two Sample T-Test (one tail)\n",
        "For this hypothesis test, since we are comparing two sample means from continuous data against each other to test for significance, we will use a two sample t-test."
      ]
    },
    {
      "cell_type": "code",
      "execution_count": null,
      "metadata": {
        "id": "anmCTHHU57Fg",
        "outputId": "24147540-f100-4aca-df78-38139cfc1f9b"
      },
      "outputs": [
        {
          "name": "stdout",
          "output_type": "stream",
          "text": [
            "Variance No discount: 306.2795924332757\n",
            "Variance Discount: 430.93782787748984\n"
          ]
        }
      ],
      "source": [
        "# Check to see if variance is the same between the samples\n",
        "print('Variance No discount:', np.var(no_discount))\n",
        "print('Variance Discount:', np.var(discount))"
      ]
    },
    {
      "cell_type": "markdown",
      "metadata": {
        "id": "_9H719YF57Fg"
      },
      "source": [
        "Since the variance for our samples are different we will use a Welche's two sample t-test"
      ]
    },
    {
      "cell_type": "code",
      "execution_count": null,
      "metadata": {
        "id": "6GBfpcYW57Fg",
        "outputId": "36ccdba2-f87e-4d4e-a221-51694f87f850"
      },
      "outputs": [
        {
          "name": "stdout",
          "output_type": "stream",
          "text": [
            "P-Value: 2.828207145152165e-10\n"
          ]
        }
      ],
      "source": [
        "t_stat, p_val = stats.ttest_ind(no_discount, discount, equal_var=False)\n",
        "print('P-Value:', p_val/2)"
      ]
    },
    {
      "cell_type": "markdown",
      "metadata": {
        "id": "w-rdu16J57Fg"
      },
      "source": [
        "## Accept or Reject\n",
        "This p-value is divided by 2 because it is a one tail t-test. We get a p-value < 0.05 which means that we can reject our Null Hypothesis and accept the Alternative Hypothesis that there is a statistical significance between the samples.  From our alpha, we can be 95% sure that there is a statistical significance that shows the average amount of items sold with a discount is greater than the average amount sold of items without a discount without this being due to random chance."
      ]
    },
    {
      "cell_type": "markdown",
      "metadata": {
        "id": "bdVWY7UC57Fg"
      },
      "source": [
        "## Effect Size\n",
        "We can use Cohen's $d$ in order to measure the effect size or represent the differentiation between our two sample groups.  "
      ]
    },
    {
      "cell_type": "code",
      "execution_count": null,
      "metadata": {
        "id": "a91T9fil57Fg"
      },
      "outputs": [],
      "source": [
        "def Cohen_d(group1, group2):\n",
        "\n",
        "    # Compute Cohen's d.\n",
        "\n",
        "    diff = group1.mean() - group2.mean()\n",
        "\n",
        "    n1, n2 = len(group1), len(group2)\n",
        "    var1 = group1.var()\n",
        "    var2 = group2.var()\n",
        "\n",
        "    # Calculate the pooled threshold as shown earlier\n",
        "    pooled_var = (n1 * var1 + n2 * var2) / (n1 + n2)\n",
        "\n",
        "    # Calculate Cohen's d statistic\n",
        "    d = diff / np.sqrt(pooled_var)\n",
        "\n",
        "    return d"
      ]
    },
    {
      "cell_type": "code",
      "execution_count": null,
      "metadata": {
        "id": "HlUaZ8Yp57Fh",
        "outputId": "e770a97a-3d5a-400b-dac3-30f346d1dfb0"
      },
      "outputs": [
        {
          "name": "stdout",
          "output_type": "stream",
          "text": [
            "d = 0.2862724481729282\n"
          ]
        }
      ],
      "source": [
        "d = Cohen_d(discount, no_discount)\n",
        "print('d = {}'.format(d))"
      ]
    },
    {
      "cell_type": "markdown",
      "metadata": {
        "id": "D19u06lq57Fh"
      },
      "source": [
        "An effect of 0.28 is considered a small effect.  Although it is small, it still means that there is a an effect happening but it is not so obvious to see without investigating like we have with our hypothesis testing."
      ]
    },
    {
      "cell_type": "markdown",
      "metadata": {
        "id": "YkPKYqHu57Fh"
      },
      "source": [
        "## ANOVA Test\n",
        "Since we have rejected the Null Hypothesis, we will run ANOVA test to see if there is any significance among the different discounts."
      ]
    },
    {
      "cell_type": "code",
      "execution_count": null,
      "metadata": {
        "id": "VQm1yx4c57Fh",
        "outputId": "9e56ffda-7676-46e3-ea68-277cfd2af36e"
      },
      "outputs": [
        {
          "name": "stdout",
          "output_type": "stream",
          "text": [
            "                 df         sum_sq     mean_sq         F        PR(>F)\n",
            "C(Discount)    10.0   21258.403604  2125.84036  6.011811  4.704231e-09\n",
            "Residual     2144.0  758141.232591   353.61065       NaN           NaN\n"
          ]
        }
      ],
      "source": [
        "# Wrap Discount in C for categorical\n",
        "formula  = 'Quantity ~ C(Discount)'\n",
        "lm = ols(formula, data=order_details_df).fit()\n",
        "table = sm.stats.anova_lm(lm, type=2)\n",
        "print(table)"
      ]
    },
    {
      "cell_type": "markdown",
      "metadata": {
        "id": "1e-j40CB57Fh"
      },
      "source": [
        "The model shows from our p-value: PR(>F) 4.7e-09 that it is less than our alpha of 0.05 meaning there is a statistical significance between the discounts, but we cannot tell from this test which discount levels exactly."
      ]
    },
    {
      "cell_type": "markdown",
      "metadata": {
        "id": "88Qv0b0f57Fh"
      },
      "source": [
        "## Tukey Test\n",
        "Now that we have shown that discounts have a statistically significant effect on the number of products customers order, we want to know at what level of discounts specifically this effect takes place. For this we will use a Tukey test since this will tell us specifically which discounts have significance."
      ]
    },
    {
      "cell_type": "code",
      "execution_count": null,
      "metadata": {
        "id": "3MuXnwyc57Fh",
        "outputId": "d6a6adcb-3a9f-43bb-b2b2-9eb357e8dd7c"
      },
      "outputs": [
        {
          "data": {
            "text/plain": [
              "array([0.  , 0.15, 0.05, 0.2 , 0.25, 0.1 , 0.02, 0.03, 0.04, 0.06, 0.01])"
            ]
          },
          "execution_count": 17,
          "metadata": {},
          "output_type": "execute_result"
        }
      ],
      "source": [
        "# Different discounts given\n",
        "order_details_df.Discount.unique()"
      ]
    },
    {
      "cell_type": "code",
      "execution_count": null,
      "metadata": {
        "id": "JESkl5Qc57Fh",
        "outputId": "3d6d98f3-340d-4f23-9775-c0a6ee020408"
      },
      "outputs": [
        {
          "data": {
            "text/html": [
              "<div>\n",
              "<style scoped>\n",
              "    .dataframe tbody tr th:only-of-type {\n",
              "        vertical-align: middle;\n",
              "    }\n",
              "\n",
              "    .dataframe tbody tr th {\n",
              "        vertical-align: top;\n",
              "    }\n",
              "\n",
              "    .dataframe thead th {\n",
              "        text-align: right;\n",
              "    }\n",
              "</style>\n",
              "<table border=\"1\" class=\"dataframe\">\n",
              "  <thead>\n",
              "    <tr style=\"text-align: right;\">\n",
              "      <th></th>\n",
              "      <th>count</th>\n",
              "      <th>mean</th>\n",
              "      <th>std</th>\n",
              "      <th>min</th>\n",
              "      <th>25%</th>\n",
              "      <th>50%</th>\n",
              "      <th>75%</th>\n",
              "      <th>max</th>\n",
              "    </tr>\n",
              "    <tr>\n",
              "      <th>Discount</th>\n",
              "      <th></th>\n",
              "      <th></th>\n",
              "      <th></th>\n",
              "      <th></th>\n",
              "      <th></th>\n",
              "      <th></th>\n",
              "      <th></th>\n",
              "      <th></th>\n",
              "    </tr>\n",
              "  </thead>\n",
              "  <tbody>\n",
              "    <tr>\n",
              "      <th>0.00</th>\n",
              "      <td>1317.0</td>\n",
              "      <td>21.715262</td>\n",
              "      <td>17.507493</td>\n",
              "      <td>1.0</td>\n",
              "      <td>10.0</td>\n",
              "      <td>18.0</td>\n",
              "      <td>30.0</td>\n",
              "      <td>130.0</td>\n",
              "    </tr>\n",
              "    <tr>\n",
              "      <th>0.01</th>\n",
              "      <td>1.0</td>\n",
              "      <td>2.000000</td>\n",
              "      <td>NaN</td>\n",
              "      <td>2.0</td>\n",
              "      <td>2.0</td>\n",
              "      <td>2.0</td>\n",
              "      <td>2.0</td>\n",
              "      <td>2.0</td>\n",
              "    </tr>\n",
              "    <tr>\n",
              "      <th>0.02</th>\n",
              "      <td>2.0</td>\n",
              "      <td>2.000000</td>\n",
              "      <td>1.414214</td>\n",
              "      <td>1.0</td>\n",
              "      <td>1.5</td>\n",
              "      <td>2.0</td>\n",
              "      <td>2.5</td>\n",
              "      <td>3.0</td>\n",
              "    </tr>\n",
              "    <tr>\n",
              "      <th>0.03</th>\n",
              "      <td>3.0</td>\n",
              "      <td>1.666667</td>\n",
              "      <td>0.577350</td>\n",
              "      <td>1.0</td>\n",
              "      <td>1.5</td>\n",
              "      <td>2.0</td>\n",
              "      <td>2.0</td>\n",
              "      <td>2.0</td>\n",
              "    </tr>\n",
              "    <tr>\n",
              "      <th>0.04</th>\n",
              "      <td>1.0</td>\n",
              "      <td>1.000000</td>\n",
              "      <td>NaN</td>\n",
              "      <td>1.0</td>\n",
              "      <td>1.0</td>\n",
              "      <td>1.0</td>\n",
              "      <td>1.0</td>\n",
              "      <td>1.0</td>\n",
              "    </tr>\n",
              "    <tr>\n",
              "      <th>0.05</th>\n",
              "      <td>185.0</td>\n",
              "      <td>28.010811</td>\n",
              "      <td>22.187685</td>\n",
              "      <td>1.0</td>\n",
              "      <td>14.0</td>\n",
              "      <td>20.0</td>\n",
              "      <td>40.0</td>\n",
              "      <td>120.0</td>\n",
              "    </tr>\n",
              "    <tr>\n",
              "      <th>0.06</th>\n",
              "      <td>1.0</td>\n",
              "      <td>2.000000</td>\n",
              "      <td>NaN</td>\n",
              "      <td>2.0</td>\n",
              "      <td>2.0</td>\n",
              "      <td>2.0</td>\n",
              "      <td>2.0</td>\n",
              "      <td>2.0</td>\n",
              "    </tr>\n",
              "    <tr>\n",
              "      <th>0.10</th>\n",
              "      <td>173.0</td>\n",
              "      <td>25.236994</td>\n",
              "      <td>21.186503</td>\n",
              "      <td>2.0</td>\n",
              "      <td>10.0</td>\n",
              "      <td>20.0</td>\n",
              "      <td>30.0</td>\n",
              "      <td>130.0</td>\n",
              "    </tr>\n",
              "    <tr>\n",
              "      <th>0.15</th>\n",
              "      <td>157.0</td>\n",
              "      <td>28.382166</td>\n",
              "      <td>20.923099</td>\n",
              "      <td>2.0</td>\n",
              "      <td>15.0</td>\n",
              "      <td>21.0</td>\n",
              "      <td>40.0</td>\n",
              "      <td>100.0</td>\n",
              "    </tr>\n",
              "    <tr>\n",
              "      <th>0.20</th>\n",
              "      <td>161.0</td>\n",
              "      <td>27.024845</td>\n",
              "      <td>18.832801</td>\n",
              "      <td>2.0</td>\n",
              "      <td>12.0</td>\n",
              "      <td>21.0</td>\n",
              "      <td>40.0</td>\n",
              "      <td>100.0</td>\n",
              "    </tr>\n",
              "    <tr>\n",
              "      <th>0.25</th>\n",
              "      <td>154.0</td>\n",
              "      <td>28.240260</td>\n",
              "      <td>20.120570</td>\n",
              "      <td>2.0</td>\n",
              "      <td>15.0</td>\n",
              "      <td>25.0</td>\n",
              "      <td>36.0</td>\n",
              "      <td>120.0</td>\n",
              "    </tr>\n",
              "  </tbody>\n",
              "</table>\n",
              "</div>"
            ],
            "text/plain": [
              "           count       mean        std  min   25%   50%   75%    max\n",
              "Discount                                                            \n",
              "0.00      1317.0  21.715262  17.507493  1.0  10.0  18.0  30.0  130.0\n",
              "0.01         1.0   2.000000        NaN  2.0   2.0   2.0   2.0    2.0\n",
              "0.02         2.0   2.000000   1.414214  1.0   1.5   2.0   2.5    3.0\n",
              "0.03         3.0   1.666667   0.577350  1.0   1.5   2.0   2.0    2.0\n",
              "0.04         1.0   1.000000        NaN  1.0   1.0   1.0   1.0    1.0\n",
              "0.05       185.0  28.010811  22.187685  1.0  14.0  20.0  40.0  120.0\n",
              "0.06         1.0   2.000000        NaN  2.0   2.0   2.0   2.0    2.0\n",
              "0.10       173.0  25.236994  21.186503  2.0  10.0  20.0  30.0  130.0\n",
              "0.15       157.0  28.382166  20.923099  2.0  15.0  21.0  40.0  100.0\n",
              "0.20       161.0  27.024845  18.832801  2.0  12.0  21.0  40.0  100.0\n",
              "0.25       154.0  28.240260  20.120570  2.0  15.0  25.0  36.0  120.0"
            ]
          },
          "execution_count": 18,
          "metadata": {},
          "output_type": "execute_result"
        }
      ],
      "source": [
        "# Group our orders by discount\n",
        "# Note discounts below 5% and at 6% rarely have happened\n",
        "order_details_df.Quantity.groupby(order_details_df.Discount).describe()"
      ]
    },
    {
      "cell_type": "code",
      "execution_count": null,
      "metadata": {
        "id": "x2peynwz57Fi",
        "outputId": "69f3124f-294a-4a41-a367-c347aafbfbf4"
      },
      "outputs": [
        {
          "name": "stdout",
          "output_type": "stream",
          "text": [
            "Multiple Comparison of Means - Tukey HSD,FWER=0.05\n",
            "==============================================\n",
            "group1 group2 meandiff  lower    upper  reject\n",
            "----------------------------------------------\n",
            " 0.0    0.01  -19.7153 -80.3306 40.9001 False \n",
            " 0.0    0.02  -19.7153 -62.593  23.1625 False \n",
            " 0.0    0.03  -20.0486 -55.0714 14.9742 False \n",
            " 0.0    0.04  -20.7153 -81.3306 39.9001 False \n",
            " 0.0    0.05   6.2955   1.5381   11.053  True \n",
            " 0.0    0.06  -19.7153 -80.3306 40.9001 False \n",
            " 0.0    0.1    3.5217  -1.3783   8.4217 False \n",
            " 0.0    0.15   6.6669   1.551   11.7828  True \n",
            " 0.0    0.2    5.3096   0.2508  10.3684  True \n",
            " 0.0    0.25   6.525    1.3647  11.6852  True \n",
            " 0.01   0.02    0.0    -74.2101 74.2101 False \n",
            " 0.01   0.03  -0.3333  -70.2993 69.6326 False \n",
            " 0.01   0.04    -1.0   -86.6905 84.6905 False \n",
            " 0.01   0.05  26.0108  -34.745  86.7667 False \n",
            " 0.01   0.06    0.0    -85.6905 85.6905 False \n",
            " 0.01   0.1    23.237  -37.5302 84.0042 False \n",
            " 0.01   0.15  26.3822  -34.4028 87.1671 False \n",
            " 0.01   0.2   25.0248  -35.7554  85.805 False \n",
            " 0.01   0.25  26.2403  -34.5485  87.029 False \n",
            " 0.02   0.03  -0.3333  -55.6463 54.9796 False \n",
            " 0.02   0.04    -1.0   -75.2101 73.2101 False \n",
            " 0.02   0.05  26.0108  -17.0654  69.087 False \n",
            " 0.02   0.06    0.0    -74.2101 74.2101 False \n",
            " 0.02   0.1    23.237  -19.8552 66.3292 False \n",
            " 0.02   0.15  26.3822  -16.7351 69.4994 False \n",
            " 0.02   0.2   25.0248  -18.0857 68.1354 False \n",
            " 0.02   0.25  26.2403  -16.8823 69.3628 False \n",
            " 0.03   0.04  -0.6667  -70.6326 69.2993 False \n",
            " 0.03   0.05  26.3441  -8.9214  61.6096 False \n",
            " 0.03   0.06   0.3333  -69.6326 70.2993 False \n",
            " 0.03   0.1   23.5703  -11.7147 58.8553 False \n",
            " 0.03   0.15  26.7155  -8.6001  62.0311 False \n",
            " 0.03   0.2   25.3582  -9.9492  60.6656 False \n",
            " 0.03   0.25  26.5736  -8.7485  61.8957 False \n",
            " 0.04   0.05  27.0108  -33.745  87.7667 False \n",
            " 0.04   0.06    1.0    -84.6905 86.6905 False \n",
            " 0.04   0.1    24.237  -36.5302 85.0042 False \n",
            " 0.04   0.15  27.3822  -33.4028 88.1671 False \n",
            " 0.04   0.2   26.0248  -34.7554  86.805 False \n",
            " 0.04   0.25  27.2403  -33.5485  88.029 False \n",
            " 0.05   0.06  -26.0108 -86.7667  34.745 False \n",
            " 0.05   0.1   -2.7738  -9.1822   3.6346 False \n",
            " 0.05   0.15   0.3714  -6.2036   6.9463 False \n",
            " 0.05   0.2    -0.986  -7.5166   5.5447 False \n",
            " 0.05   0.25   0.2294  -6.3801   6.839  False \n",
            " 0.06   0.1    23.237  -37.5302 84.0042 False \n",
            " 0.06   0.15  26.3822  -34.4028 87.1671 False \n",
            " 0.06   0.2   25.0248  -35.7554  85.805 False \n",
            " 0.06   0.25  26.2403  -34.5485  87.029 False \n",
            " 0.1    0.15   3.1452  -3.5337   9.824  False \n",
            " 0.1    0.2    1.7879  -4.8474   8.4231 False \n",
            " 0.1    0.25   3.0033  -3.7096   9.7161 False \n",
            " 0.15   0.2   -1.3573  -8.1536   5.4389 False \n",
            " 0.15   0.25  -0.1419   -7.014   6.7302 False \n",
            " 0.2    0.25   1.2154  -5.6143   8.0451 False \n",
            "----------------------------------------------\n",
            "[0.   0.01 0.02 0.03 0.04 0.05 0.06 0.1  0.15 0.2  0.25]\n"
          ]
        }
      ],
      "source": [
        "mc = MultiComparison(order_details_df.Quantity, order_details_df.Discount)\n",
        "result = mc.tukeyhsd()\n",
        "print(result)\n",
        "print(mc.groupsunique)"
      ]
    },
    {
      "cell_type": "markdown",
      "metadata": {
        "id": "uYy6S7O_57Fi"
      },
      "source": [
        "## Results\n",
        "Here the Tukey test shows that at discount levels of 5%, 15%, 20%, and 25% there is a significant difference in the quantity ordered compared to when there is no discount. With 95% confidence this significance isn't due to random chance.  This information is valuable for Northwind because this means that they don't need to offer discounts of the other ranges since it has no statistically significant effect on the amount customers will buy.  Essentially meaning that with the discounts with no significance, they are offering the products cheaper when it has no effect and customers would most likely purchase the same amount with or without the insignificant discount."
      ]
    },
    {
      "cell_type": "markdown",
      "metadata": {
        "id": "KBWTt0Nt57Fi"
      },
      "source": [
        "\n",
        "\n",
        "**_Is there a statistically significant difference between the amount of revenue brought in on average from employees in the US versus in the UK? What about among different employees?_**\n",
        "\n"
      ]
    },
    {
      "cell_type": "code",
      "execution_count": null,
      "metadata": {
        "id": "zAon60vs57Fl",
        "outputId": "5b6b6a9d-3dc5-440f-8e61-0087ce53f8eb"
      },
      "outputs": [
        {
          "name": "stdout",
          "output_type": "stream",
          "text": [
            "2019-03-11 16:46:38,554 INFO sqlalchemy.engine.base.Engine SELECT od.OrderId, o.EmployeeId, e.LastName, e.FirstName,\n",
            "                                            e.TitleOfCourtesy, e.Title, e.Country,\n",
            "                                            SUM(od.Quantity * od.UnitPrice * (1-od.Discount)) Revenue\n",
            "                                            FROM Employee e \n",
            "                                            JOIN [Order] o ON e.Id = o.EmployeeId\n",
            "                                            JOIN OrderDetail od ON o.Id = od.OrderId\n",
            "                                            GROUP BY od.OrderId\n",
            "2019-03-11 16:46:38,555 INFO sqlalchemy.engine.base.Engine ()\n"
          ]
        },
        {
          "data": {
            "text/html": [
              "<div>\n",
              "<style scoped>\n",
              "    .dataframe tbody tr th:only-of-type {\n",
              "        vertical-align: middle;\n",
              "    }\n",
              "\n",
              "    .dataframe tbody tr th {\n",
              "        vertical-align: top;\n",
              "    }\n",
              "\n",
              "    .dataframe thead th {\n",
              "        text-align: right;\n",
              "    }\n",
              "</style>\n",
              "<table border=\"1\" class=\"dataframe\">\n",
              "  <thead>\n",
              "    <tr style=\"text-align: right;\">\n",
              "      <th></th>\n",
              "      <th>OrderId</th>\n",
              "      <th>EmployeeId</th>\n",
              "      <th>LastName</th>\n",
              "      <th>FirstName</th>\n",
              "      <th>TitleOfCourtesy</th>\n",
              "      <th>Title</th>\n",
              "      <th>Country</th>\n",
              "      <th>Revenue</th>\n",
              "    </tr>\n",
              "  </thead>\n",
              "  <tbody>\n",
              "    <tr>\n",
              "      <th>0</th>\n",
              "      <td>10248</td>\n",
              "      <td>5</td>\n",
              "      <td>Buchanan</td>\n",
              "      <td>Steven</td>\n",
              "      <td>Mr.</td>\n",
              "      <td>Sales Manager</td>\n",
              "      <td>UK</td>\n",
              "      <td>440.00</td>\n",
              "    </tr>\n",
              "    <tr>\n",
              "      <th>1</th>\n",
              "      <td>10249</td>\n",
              "      <td>6</td>\n",
              "      <td>Suyama</td>\n",
              "      <td>Michael</td>\n",
              "      <td>Mr.</td>\n",
              "      <td>Sales Representative</td>\n",
              "      <td>UK</td>\n",
              "      <td>1863.40</td>\n",
              "    </tr>\n",
              "    <tr>\n",
              "      <th>2</th>\n",
              "      <td>10250</td>\n",
              "      <td>4</td>\n",
              "      <td>Peacock</td>\n",
              "      <td>Margaret</td>\n",
              "      <td>Mrs.</td>\n",
              "      <td>Sales Representative</td>\n",
              "      <td>USA</td>\n",
              "      <td>1552.60</td>\n",
              "    </tr>\n",
              "    <tr>\n",
              "      <th>3</th>\n",
              "      <td>10251</td>\n",
              "      <td>3</td>\n",
              "      <td>Leverling</td>\n",
              "      <td>Janet</td>\n",
              "      <td>Ms.</td>\n",
              "      <td>Sales Representative</td>\n",
              "      <td>USA</td>\n",
              "      <td>654.06</td>\n",
              "    </tr>\n",
              "    <tr>\n",
              "      <th>4</th>\n",
              "      <td>10252</td>\n",
              "      <td>4</td>\n",
              "      <td>Peacock</td>\n",
              "      <td>Margaret</td>\n",
              "      <td>Mrs.</td>\n",
              "      <td>Sales Representative</td>\n",
              "      <td>USA</td>\n",
              "      <td>3597.90</td>\n",
              "    </tr>\n",
              "  </tbody>\n",
              "</table>\n",
              "</div>"
            ],
            "text/plain": [
              "   OrderId  EmployeeId   LastName FirstName TitleOfCourtesy  \\\n",
              "0    10248           5   Buchanan    Steven             Mr.   \n",
              "1    10249           6     Suyama   Michael             Mr.   \n",
              "2    10250           4    Peacock  Margaret            Mrs.   \n",
              "3    10251           3  Leverling     Janet             Ms.   \n",
              "4    10252           4    Peacock  Margaret            Mrs.   \n",
              "\n",
              "                  Title Country  Revenue  \n",
              "0         Sales Manager      UK   440.00  \n",
              "1  Sales Representative      UK  1863.40  \n",
              "2  Sales Representative     USA  1552.60  \n",
              "3  Sales Representative     USA   654.06  \n",
              "4  Sales Representative     USA  3597.90  "
            ]
          },
          "execution_count": 20,
          "metadata": {},
          "output_type": "execute_result"
        }
      ],
      "source": [
        "# Get data on employees and their orders\n",
        "employee_sales_df = pd.read_sql_query('''SELECT od.OrderId, o.EmployeeId, e.LastName, e.FirstName,\n",
        "                                            e.TitleOfCourtesy, e.Title, e.Country,\n",
        "                                            SUM(od.Quantity * od.UnitPrice * (1-od.Discount)) Revenue\n",
        "                                            FROM Employee e\n",
        "                                            JOIN [Order] o ON e.Id = o.EmployeeId\n",
        "                                            JOIN OrderDetail od ON o.Id = od.OrderId\n",
        "                                            GROUP BY od.OrderId''', engine)\n",
        "employee_sales_df.head()"
      ]
    },
    {
      "cell_type": "code",
      "execution_count": null,
      "metadata": {
        "id": "T7qzH7CQ57Fl",
        "outputId": "1e6f6ece-6ec4-4164-ce7b-55790425c60b"
      },
      "outputs": [
        {
          "data": {
            "text/plain": [
              "(830, 8)"
            ]
          },
          "execution_count": 21,
          "metadata": {},
          "output_type": "execute_result"
        }
      ],
      "source": [
        "employee_sales_df.shape"
      ]
    },
    {
      "cell_type": "code",
      "execution_count": null,
      "metadata": {
        "id": "3SLg2pWV57Fm",
        "outputId": "69959cb3-3c69-444f-f024-d6cac6cc74fb"
      },
      "outputs": [
        {
          "data": {
            "text/plain": [
              "OrderId            0\n",
              "EmployeeId         0\n",
              "LastName           0\n",
              "FirstName          0\n",
              "TitleOfCourtesy    0\n",
              "Title              0\n",
              "Country            0\n",
              "Revenue            0\n",
              "dtype: int64"
            ]
          },
          "execution_count": 22,
          "metadata": {},
          "output_type": "execute_result"
        }
      ],
      "source": [
        "employee_sales_df.isna().sum()"
      ]
    },
    {
      "cell_type": "code",
      "execution_count": null,
      "metadata": {
        "id": "rb8d4hmH57Fm",
        "outputId": "1e95c33c-c7fb-44a2-edc9-b3359062e12d"
      },
      "outputs": [
        {
          "data": {
            "text/plain": [
              "array([5, 6, 4, 3, 9, 1, 8, 2, 7])"
            ]
          },
          "execution_count": 23,
          "metadata": {},
          "output_type": "execute_result"
        }
      ],
      "source": [
        "employee_sales_df.EmployeeId.unique()"
      ]
    },
    {
      "cell_type": "code",
      "execution_count": null,
      "metadata": {
        "id": "x2zHoI3f57Fm",
        "outputId": "fb81574f-c3f0-4403-f286-3068377629ed"
      },
      "outputs": [
        {
          "data": {
            "text/plain": [
              "count      830.000000\n",
              "mean      1525.051855\n",
              "std       1845.178595\n",
              "min         12.500000\n",
              "25%        456.688750\n",
              "50%        943.250000\n",
              "75%       1882.200000\n",
              "max      16387.500000\n",
              "Name: Revenue, dtype: float64"
            ]
          },
          "execution_count": 24,
          "metadata": {},
          "output_type": "execute_result"
        }
      ],
      "source": [
        "employee_sales_df.Revenue.describe()"
      ]
    },
    {
      "cell_type": "code",
      "execution_count": null,
      "metadata": {
        "id": "BUUpLrnD57Fm",
        "outputId": "f8a379b0-cea8-4093-ca1c-e09ee8c74fd6"
      },
      "outputs": [
        {
          "data": {
            "image/png": "[encoded data removed]",
            "text/plain": [
              "<Figure size 576x360 with 1 Axes>"
            ]
          },
          "metadata": {
            "needs_background": "light"
          },
          "output_type": "display_data"
        },
        {
          "data": {
            "image/png": "[encoded data removed]",
            "text/plain": [
              "<Figure size 432x288 with 1 Axes>"
            ]
          },
          "metadata": {
            "needs_background": "light"
          },
          "output_type": "display_data"
        }
      ],
      "source": [
        "# Visualize data for normality\n",
        "plt.figure(figsize=(8,5))\n",
        "sns.distplot(employee_sales_df.Revenue)\n",
        "plt.title('Distribution of Revenues')\n",
        "sm.qqplot(employee_sales_df.Revenue, line='s')\n",
        "plt.show()"
      ]
    },
    {
      "cell_type": "markdown",
      "metadata": {
        "id": "A-cMBF2L57Fm"
      },
      "source": [
        "## Create Two Sample Groups"
      ]
    },
    {
      "cell_type": "code",
      "execution_count": null,
      "metadata": {
        "id": "UNwawiPI57Fm"
      },
      "outputs": [],
      "source": [
        "usa = employee_sales_df[employee_sales_df['Country'] == 'USA']['Revenue']\n",
        "uk = employee_sales_df[employee_sales_df['Country'] == 'UK']['Revenue']"
      ]
    },
    {
      "cell_type": "code",
      "execution_count": null,
      "metadata": {
        "id": "911rrPV457Fm",
        "outputId": "3bae4828-caa8-41d2-b62e-07208a1c7922"
      },
      "outputs": [
        {
          "data": {
            "text/plain": [
              "((606,), (224,))"
            ]
          },
          "execution_count": 27,
          "metadata": {},
          "output_type": "execute_result"
        }
      ],
      "source": [
        "# Note more orders filled in the US\n",
        "usa.shape, uk.shape"
      ]
    },
    {
      "cell_type": "code",
      "execution_count": null,
      "metadata": {
        "id": "R9HPBrbq57Fm",
        "outputId": "308f4982-d239-4dab-da4c-df80d9dfe3ba"
      },
      "outputs": [
        {
          "data": {
            "text/html": [
              "<div>\n",
              "<style scoped>\n",
              "    .dataframe tbody tr th:only-of-type {\n",
              "        vertical-align: middle;\n",
              "    }\n",
              "\n",
              "    .dataframe tbody tr th {\n",
              "        vertical-align: top;\n",
              "    }\n",
              "\n",
              "    .dataframe thead th {\n",
              "        text-align: right;\n",
              "    }\n",
              "</style>\n",
              "<table border=\"1\" class=\"dataframe\">\n",
              "  <thead>\n",
              "    <tr style=\"text-align: right;\">\n",
              "      <th></th>\n",
              "      <th>count</th>\n",
              "      <th>mean</th>\n",
              "      <th>std</th>\n",
              "      <th>min</th>\n",
              "      <th>25%</th>\n",
              "      <th>50%</th>\n",
              "      <th>75%</th>\n",
              "      <th>max</th>\n",
              "    </tr>\n",
              "    <tr>\n",
              "      <th>Country</th>\n",
              "      <th></th>\n",
              "      <th></th>\n",
              "      <th></th>\n",
              "      <th></th>\n",
              "      <th></th>\n",
              "      <th></th>\n",
              "      <th></th>\n",
              "      <th></th>\n",
              "    </tr>\n",
              "  </thead>\n",
              "  <tbody>\n",
              "    <tr>\n",
              "      <th>UK</th>\n",
              "      <td>224.0</td>\n",
              "      <td>1538.311221</td>\n",
              "      <td>1892.265365</td>\n",
              "      <td>12.5</td>\n",
              "      <td>454.06625</td>\n",
              "      <td>868.6500</td>\n",
              "      <td>1896.0875</td>\n",
              "      <td>12615.05</td>\n",
              "    </tr>\n",
              "    <tr>\n",
              "      <th>USA</th>\n",
              "      <td>606.0</td>\n",
              "      <td>1520.150703</td>\n",
              "      <td>1829.031323</td>\n",
              "      <td>18.4</td>\n",
              "      <td>456.75000</td>\n",
              "      <td>1013.8725</td>\n",
              "      <td>1847.6600</td>\n",
              "      <td>16387.50</td>\n",
              "    </tr>\n",
              "  </tbody>\n",
              "</table>\n",
              "</div>"
            ],
            "text/plain": [
              "         count         mean          std   min        25%        50%  \\\n",
              "Country                                                                \n",
              "UK       224.0  1538.311221  1892.265365  12.5  454.06625   868.6500   \n",
              "USA      606.0  1520.150703  1829.031323  18.4  456.75000  1013.8725   \n",
              "\n",
              "               75%       max  \n",
              "Country                       \n",
              "UK       1896.0875  12615.05  \n",
              "USA      1847.6600  16387.50  "
            ]
          },
          "execution_count": 28,
          "metadata": {},
          "output_type": "execute_result"
        }
      ],
      "source": [
        "employee_sales_df.Revenue.groupby(employee_sales_df.Country).describe()"
      ]
    },
    {
      "cell_type": "code",
      "execution_count": null,
      "metadata": {
        "id": "Ff1Ezmwt57Fn",
        "outputId": "7de3609d-ecc3-4c09-b2b7-20778af115f4"
      },
      "outputs": [
        {
          "data": {
            "image/png": "[encoded data removed]",
            "text/plain": [
              "<Figure size 576x360 with 1 Axes>"
            ]
          },
          "metadata": {
            "needs_background": "light"
          },
          "output_type": "display_data"
        }
      ],
      "source": [
        "# Visualize Groups\n",
        "plt.figure(figsize=(8,5))\n",
        "sns.distplot(usa, label='USA')\n",
        "sns.distplot(uk, label='UK')\n",
        "plt.axvline(np.mean(usa), color='blue', label='USA Mean Rev')\n",
        "plt.axvline(np.mean(uk), color='red', label='UK Mean Rev')\n",
        "plt.title('Distribution of USA vs UK Revenues')\n",
        "plt.legend()\n",
        "plt.show()"
      ]
    },
    {
      "cell_type": "code",
      "execution_count": null,
      "metadata": {
        "id": "c2u3xB3557Fn",
        "outputId": "6bc76099-02d5-4061-caab-4dd1251a7192"
      },
      "outputs": [
        {
          "name": "stdout",
          "output_type": "stream",
          "text": [
            "Mean for USA: 1520.150702970297\n",
            "Mean for UK: 1538.311220982143\n",
            "Difference in Means: 18.160518011845852\n"
          ]
        }
      ],
      "source": [
        "print('Mean for USA:', np.mean(usa))\n",
        "print('Mean for UK:', np.mean(uk))\n",
        "print('Difference in Means:', np.mean(uk) - np.mean(usa))"
      ]
    },
    {
      "cell_type": "markdown",
      "metadata": {
        "id": "8qj2jkC_57Fn"
      },
      "source": [
        "Although there are almost three times more orders, and therefore a higher total revenue in the USA, the UK has a higher mean revenue."
      ]
    },
    {
      "cell_type": "code",
      "execution_count": null,
      "metadata": {
        "id": "1hgMPkti57Fn"
      },
      "outputs": [],
      "source": [
        "original_diff = np.mean(uk) - np.mean(usa)"
      ]
    },
    {
      "cell_type": "code",
      "execution_count": null,
      "metadata": {
        "id": "gGn8Aj_f57Fn",
        "outputId": "362974b1-10c9-4d02-98fb-915e30c5bd06"
      },
      "outputs": [
        {
          "data": {
            "image/png": "[encoded data removed]",
            "text/plain": [
              "<Figure size 576x360 with 1 Axes>"
            ]
          },
          "metadata": {
            "needs_background": "light"
          },
          "output_type": "display_data"
        }
      ],
      "source": [
        "plt.figure(figsize=(8,5))\n",
        "plt.bar('USA', usa.sum())\n",
        "plt.bar('UK', uk.sum())\n",
        "plt.title('Total Revenue')\n",
        "plt.show()"
      ]
    },
    {
      "cell_type": "markdown",
      "metadata": {
        "id": "y03yOD_B57Fn"
      },
      "source": [
        "## Hypothesis\n",
        "Null Hypothesis: The average revenue from the USA is equal to the average revenue from the UK.\n",
        "<br>\n",
        "\n",
        "$H_0: \\mu_a = \\mu_b$\n",
        "<br>\n",
        "\n",
        "Alternative Hypothesis: The average revenue from the UK is not equal to the average revenue from the USA.\n",
        "<br>\n",
        "\n",
        "$H_a: \\mu_a != \\mu_b$\n",
        "<br>\n",
        "\n",
        "Will use an $\\alpha$ = 0.05"
      ]
    },
    {
      "cell_type": "markdown",
      "metadata": {
        "id": "4s8lvJIm57Fn"
      },
      "source": [
        "## Two Sample T-Test (two tail)\n",
        "For this hypothesis test, since we are comparing two sample means from continuous data against each other to test for significance, we will use a two sample t-test."
      ]
    },
    {
      "cell_type": "code",
      "execution_count": null,
      "metadata": {
        "id": "Y8izWfRV57Fn",
        "outputId": "1f7062e5-c654-4bf2-eb76-16a127113d5f"
      },
      "outputs": [
        {
          "name": "stdout",
          "output_type": "stream",
          "text": [
            "3339835.1899790196\n",
            "3564683.085015848\n"
          ]
        }
      ],
      "source": [
        "# Check to see if variance is the same between the samples\n",
        "print(np.var(usa))\n",
        "print(np.var(uk))"
      ]
    },
    {
      "cell_type": "code",
      "execution_count": null,
      "metadata": {
        "id": "FrD-iHGk57Fo",
        "outputId": "a65dfba4-9fa7-412f-8f49-ac98b288a1f7"
      },
      "outputs": [
        {
          "name": "stdout",
          "output_type": "stream",
          "text": [
            "0.9015080381474145\n"
          ]
        }
      ],
      "source": [
        "# Use Welche's t-test since variance is different\n",
        "t_stat, p_val = stats.ttest_ind(usa, uk, equal_var=False)\n",
        "print(p_val)"
      ]
    },
    {
      "cell_type": "markdown",
      "metadata": {
        "id": "2kGHn7W_57Fo"
      },
      "source": [
        "Since the data for Revenue is highly skewed to the right, I will also use a resampling method in order to make sample distributions that approximate a normal distribution of the mean differences between the revenue for USA and UK.  If less than 5% of the difference between random samples are greater than the `original_diff`, then this would mean that the original difference is significant and not due to random chance and thus there would be reason to reject the null hypothesis. Let's see if the p-value will match our p-value from the t-test."
      ]
    },
    {
      "cell_type": "code",
      "execution_count": null,
      "metadata": {
        "id": "lWb-cNLY57Fo",
        "outputId": "b810478d-e29f-474e-e3c1-f87f19016112"
      },
      "outputs": [
        {
          "data": {
            "text/plain": [
              "0.8904"
            ]
          },
          "execution_count": 35,
          "metadata": {},
          "output_type": "execute_result"
        }
      ],
      "source": [
        "# Generate 10000 random samples of mean differences\n",
        "diffs = []\n",
        "for i in range(10000):\n",
        "    sample_1 = employee_sales_df['Revenue'].sample(415)\n",
        "    sample_2 = employee_sales_df.drop(sample_1.index)['Revenue']\n",
        "    diff = np.mean(sample_1) - np.mean(sample_2)\n",
        "    diffs.append(diff)\n",
        "\n",
        "# Count number of differences greater than our original difference\n",
        "count = 0\n",
        "for diff in diffs:\n",
        "    if diff >= original_diff:\n",
        "        count += 1\n",
        "\n",
        "# Get p-value\n",
        "p_val = count / 10000\n",
        "p_val*2"
      ]
    },
    {
      "cell_type": "code",
      "execution_count": null,
      "metadata": {
        "id": "1HeYpgyI57Fo",
        "outputId": "3bfeacc4-0db0-4942-a9d4-47bdcbf0bfbd"
      },
      "outputs": [
        {
          "data": {
            "image/png": "[encoded data removed]",
            "text/plain": [
              "<Figure size 576x360 with 1 Axes>"
            ]
          },
          "metadata": {
            "needs_background": "light"
          },
          "output_type": "display_data"
        }
      ],
      "source": [
        "# Plot the distibution of mean differences\n",
        "plt.figure(figsize=(8,5))\n",
        "sns.distplot(diffs, label='mean diffs')\n",
        "plt.axvline(original_diff, color='black', label='original diff')\n",
        "plt.title('Distribution of Random Mean Diffs')\n",
        "plt.legend()\n",
        "plt.show()"
      ]
    },
    {
      "cell_type": "markdown",
      "metadata": {
        "id": "mst8Db4J57Fo"
      },
      "source": [
        "We can see that both p-values are around 0.90, meaning we fail to reject the null hypothesis.  Thus we cannot say with 95% confidence that there is a significant difference between average revenue made in the USA vs the UK without it being due to random chance.  "
      ]
    },
    {
      "cell_type": "markdown",
      "metadata": {
        "id": "uQlxWSqk57Fo"
      },
      "source": [
        "## ANOVA\n",
        "Let's take this further to see if there is any significant difference in average revenue between the employees."
      ]
    },
    {
      "cell_type": "code",
      "execution_count": null,
      "metadata": {
        "id": "HtQsWg2e57Fo",
        "outputId": "6d5856ec-b38e-4ade-fc81-bbb087f9afdd"
      },
      "outputs": [
        {
          "data": {
            "text/html": [
              "<div>\n",
              "<style scoped>\n",
              "    .dataframe tbody tr th:only-of-type {\n",
              "        vertical-align: middle;\n",
              "    }\n",
              "\n",
              "    .dataframe tbody tr th {\n",
              "        vertical-align: top;\n",
              "    }\n",
              "\n",
              "    .dataframe thead th {\n",
              "        text-align: right;\n",
              "    }\n",
              "</style>\n",
              "<table border=\"1\" class=\"dataframe\">\n",
              "  <thead>\n",
              "    <tr style=\"text-align: right;\">\n",
              "      <th></th>\n",
              "      <th>count</th>\n",
              "      <th>mean</th>\n",
              "      <th>std</th>\n",
              "      <th>min</th>\n",
              "      <th>25%</th>\n",
              "      <th>50%</th>\n",
              "      <th>75%</th>\n",
              "      <th>max</th>\n",
              "    </tr>\n",
              "    <tr>\n",
              "      <th>EmployeeId</th>\n",
              "      <th></th>\n",
              "      <th></th>\n",
              "      <th></th>\n",
              "      <th></th>\n",
              "      <th></th>\n",
              "      <th></th>\n",
              "      <th></th>\n",
              "      <th></th>\n",
              "    </tr>\n",
              "  </thead>\n",
              "  <tbody>\n",
              "    <tr>\n",
              "      <th>1</th>\n",
              "      <td>123.0</td>\n",
              "      <td>1561.850443</td>\n",
              "      <td>1822.417469</td>\n",
              "      <td>33.75</td>\n",
              "      <td>493.6000</td>\n",
              "      <td>1030.76000</td>\n",
              "      <td>2038.3200</td>\n",
              "      <td>15810.000</td>\n",
              "    </tr>\n",
              "    <tr>\n",
              "      <th>2</th>\n",
              "      <td>96.0</td>\n",
              "      <td>1734.768281</td>\n",
              "      <td>2402.969402</td>\n",
              "      <td>40.00</td>\n",
              "      <td>520.3875</td>\n",
              "      <td>994.94000</td>\n",
              "      <td>1861.1000</td>\n",
              "      <td>16387.500</td>\n",
              "    </tr>\n",
              "    <tr>\n",
              "      <th>3</th>\n",
              "      <td>127.0</td>\n",
              "      <td>1596.951520</td>\n",
              "      <td>2083.477699</td>\n",
              "      <td>45.00</td>\n",
              "      <td>367.7500</td>\n",
              "      <td>1140.00000</td>\n",
              "      <td>1792.4000</td>\n",
              "      <td>10952.845</td>\n",
              "    </tr>\n",
              "    <tr>\n",
              "      <th>4</th>\n",
              "      <td>156.0</td>\n",
              "      <td>1492.890038</td>\n",
              "      <td>1592.512978</td>\n",
              "      <td>18.40</td>\n",
              "      <td>470.2500</td>\n",
              "      <td>1047.00000</td>\n",
              "      <td>1852.3800</td>\n",
              "      <td>11188.400</td>\n",
              "    </tr>\n",
              "    <tr>\n",
              "      <th>5</th>\n",
              "      <td>42.0</td>\n",
              "      <td>1637.911488</td>\n",
              "      <td>1822.002722</td>\n",
              "      <td>103.20</td>\n",
              "      <td>526.1550</td>\n",
              "      <td>934.93750</td>\n",
              "      <td>1988.6450</td>\n",
              "      <td>9210.900</td>\n",
              "    </tr>\n",
              "    <tr>\n",
              "      <th>6</th>\n",
              "      <td>67.0</td>\n",
              "      <td>1103.181037</td>\n",
              "      <td>948.014839</td>\n",
              "      <td>48.00</td>\n",
              "      <td>459.6000</td>\n",
              "      <td>756.00000</td>\n",
              "      <td>1642.8785</td>\n",
              "      <td>4707.540</td>\n",
              "    </tr>\n",
              "    <tr>\n",
              "      <th>7</th>\n",
              "      <td>72.0</td>\n",
              "      <td>1730.114375</td>\n",
              "      <td>2279.490011</td>\n",
              "      <td>36.00</td>\n",
              "      <td>423.0000</td>\n",
              "      <td>825.43750</td>\n",
              "      <td>1955.1000</td>\n",
              "      <td>12615.050</td>\n",
              "    </tr>\n",
              "    <tr>\n",
              "      <th>8</th>\n",
              "      <td>104.0</td>\n",
              "      <td>1219.829591</td>\n",
              "      <td>1057.894400</td>\n",
              "      <td>36.00</td>\n",
              "      <td>414.4500</td>\n",
              "      <td>848.12625</td>\n",
              "      <td>1771.3575</td>\n",
              "      <td>4825.000</td>\n",
              "    </tr>\n",
              "    <tr>\n",
              "      <th>9</th>\n",
              "      <td>43.0</td>\n",
              "      <td>1797.862012</td>\n",
              "      <td>2265.140009</td>\n",
              "      <td>12.50</td>\n",
              "      <td>396.9000</td>\n",
              "      <td>997.00000</td>\n",
              "      <td>1818.9000</td>\n",
              "      <td>11380.000</td>\n",
              "    </tr>\n",
              "  </tbody>\n",
              "</table>\n",
              "</div>"
            ],
            "text/plain": [
              "            count         mean          std     min       25%         50%  \\\n",
              "EmployeeId                                                                  \n",
              "1           123.0  1561.850443  1822.417469   33.75  493.6000  1030.76000   \n",
              "2            96.0  1734.768281  2402.969402   40.00  520.3875   994.94000   \n",
              "3           127.0  1596.951520  2083.477699   45.00  367.7500  1140.00000   \n",
              "4           156.0  1492.890038  1592.512978   18.40  470.2500  1047.00000   \n",
              "5            42.0  1637.911488  1822.002722  103.20  526.1550   934.93750   \n",
              "6            67.0  1103.181037   948.014839   48.00  459.6000   756.00000   \n",
              "7            72.0  1730.114375  2279.490011   36.00  423.0000   825.43750   \n",
              "8           104.0  1219.829591  1057.894400   36.00  414.4500   848.12625   \n",
              "9            43.0  1797.862012  2265.140009   12.50  396.9000   997.00000   \n",
              "\n",
              "                  75%        max  \n",
              "EmployeeId                        \n",
              "1           2038.3200  15810.000  \n",
              "2           1861.1000  16387.500  \n",
              "3           1792.4000  10952.845  \n",
              "4           1852.3800  11188.400  \n",
              "5           1988.6450   9210.900  \n",
              "6           1642.8785   4707.540  \n",
              "7           1955.1000  12615.050  \n",
              "8           1771.3575   4825.000  \n",
              "9           1818.9000  11380.000  "
            ]
          },
          "execution_count": 37,
          "metadata": {},
          "output_type": "execute_result"
        }
      ],
      "source": [
        "# Average renue generated by employee\n",
        "employee_sales_df.Revenue.groupby(employee_sales_df.EmployeeId).describe()"
      ]
    },
    {
      "cell_type": "code",
      "execution_count": null,
      "metadata": {
        "id": "06Wug1tx57Fo",
        "outputId": "cd697833-2867-4fa4-f408-8cb818468bef"
      },
      "outputs": [
        {
          "name": "stdout",
          "output_type": "stream",
          "text": [
            "                     sum_sq     df        F    PR(>F)\n",
            "C(EmployeeId)  3.358256e+07    8.0  1.23576  0.274783\n",
            "Residual       2.788901e+09  821.0      NaN       NaN\n"
          ]
        }
      ],
      "source": [
        "formula = 'Revenue ~ C(EmployeeId)'\n",
        "lm = ols(formula, employee_sales_df).fit()\n",
        "table = sm.stats.anova_lm(lm, typ=2)\n",
        "print(table)"
      ]
    },
    {
      "cell_type": "markdown",
      "metadata": {
        "id": "ph1CEMB457Fp"
      },
      "source": [
        "Same as before we fail to reject any differences between the employees based on average revenue.  This is interesting because although there is no statistical difference between the averages, there is a clear difference in the amount of sales and total revenue.  The USA is generating almost three times the sales as the UK and thus generating more total revenue.  This can be shown in the query below."
      ]
    },
    {
      "cell_type": "code",
      "execution_count": null,
      "metadata": {
        "id": "0vAFgvJt57Fp",
        "outputId": "8927d4b3-0d9a-48a2-ae62-9573d5927c78"
      },
      "outputs": [
        {
          "name": "stdout",
          "output_type": "stream",
          "text": [
            "2019-03-11 16:49:25,317 INFO sqlalchemy.engine.base.Engine SELECT e.Id, e.LastName, e.FirstName, \n",
            "                            e.TitleOfCourtesy, e.Title, e.Country, e.HireDate,\n",
            "                            COUNT(DISTINCT od.OrderId) Orders_filled,\n",
            "                            SUM(od.Quantity) Units_sold,\n",
            "                            SUM((od.UnitPrice * (1 - od.Discount)) * od.Quantity) Revenue\n",
            "                            FROM Employee e\n",
            "                            JOIN [Order] o ON e.Id = o.EmployeeId\n",
            "                            JOIN OrderDetail od ON o.Id = od.OrderId\n",
            "                            GROUP BY e.Id\n",
            "                            \n",
            "2019-03-11 16:49:25,319 INFO sqlalchemy.engine.base.Engine ()\n"
          ]
        },
        {
          "data": {
            "text/html": [
              "<div>\n",
              "<style scoped>\n",
              "    .dataframe tbody tr th:only-of-type {\n",
              "        vertical-align: middle;\n",
              "    }\n",
              "\n",
              "    .dataframe tbody tr th {\n",
              "        vertical-align: top;\n",
              "    }\n",
              "\n",
              "    .dataframe thead th {\n",
              "        text-align: right;\n",
              "    }\n",
              "</style>\n",
              "<table border=\"1\" class=\"dataframe\">\n",
              "  <thead>\n",
              "    <tr style=\"text-align: right;\">\n",
              "      <th></th>\n",
              "      <th>Id</th>\n",
              "      <th>LastName</th>\n",
              "      <th>FirstName</th>\n",
              "      <th>TitleOfCourtesy</th>\n",
              "      <th>Title</th>\n",
              "      <th>Country</th>\n",
              "      <th>HireDate</th>\n",
              "      <th>Orders_filled</th>\n",
              "      <th>Units_sold</th>\n",
              "      <th>Revenue</th>\n",
              "    </tr>\n",
              "  </thead>\n",
              "  <tbody>\n",
              "    <tr>\n",
              "      <th>0</th>\n",
              "      <td>1</td>\n",
              "      <td>Davolio</td>\n",
              "      <td>Nancy</td>\n",
              "      <td>Ms.</td>\n",
              "      <td>Sales Representative</td>\n",
              "      <td>USA</td>\n",
              "      <td>2024-05-01</td>\n",
              "      <td>123</td>\n",
              "      <td>7812</td>\n",
              "      <td>192107.6045</td>\n",
              "    </tr>\n",
              "    <tr>\n",
              "      <th>1</th>\n",
              "      <td>2</td>\n",
              "      <td>Fuller</td>\n",
              "      <td>Andrew</td>\n",
              "      <td>Dr.</td>\n",
              "      <td>Vice President, Sales</td>\n",
              "      <td>USA</td>\n",
              "      <td>2024-08-14</td>\n",
              "      <td>96</td>\n",
              "      <td>6055</td>\n",
              "      <td>166537.7550</td>\n",
              "    </tr>\n",
              "    <tr>\n",
              "      <th>2</th>\n",
              "      <td>3</td>\n",
              "      <td>Leverling</td>\n",
              "      <td>Janet</td>\n",
              "      <td>Ms.</td>\n",
              "      <td>Sales Representative</td>\n",
              "      <td>USA</td>\n",
              "      <td>2024-04-01</td>\n",
              "      <td>127</td>\n",
              "      <td>7852</td>\n",
              "      <td>202812.8430</td>\n",
              "    </tr>\n",
              "    <tr>\n",
              "      <th>3</th>\n",
              "      <td>4</td>\n",
              "      <td>Peacock</td>\n",
              "      <td>Margaret</td>\n",
              "      <td>Mrs.</td>\n",
              "      <td>Sales Representative</td>\n",
              "      <td>USA</td>\n",
              "      <td>2025-05-03</td>\n",
              "      <td>156</td>\n",
              "      <td>9798</td>\n",
              "      <td>232890.8460</td>\n",
              "    </tr>\n",
              "    <tr>\n",
              "      <th>4</th>\n",
              "      <td>5</td>\n",
              "      <td>Buchanan</td>\n",
              "      <td>Steven</td>\n",
              "      <td>Mr.</td>\n",
              "      <td>Sales Manager</td>\n",
              "      <td>UK</td>\n",
              "      <td>2025-10-17</td>\n",
              "      <td>42</td>\n",
              "      <td>3036</td>\n",
              "      <td>68792.2825</td>\n",
              "    </tr>\n",
              "    <tr>\n",
              "      <th>5</th>\n",
              "      <td>6</td>\n",
              "      <td>Suyama</td>\n",
              "      <td>Michael</td>\n",
              "      <td>Mr.</td>\n",
              "      <td>Sales Representative</td>\n",
              "      <td>UK</td>\n",
              "      <td>2025-10-17</td>\n",
              "      <td>67</td>\n",
              "      <td>3527</td>\n",
              "      <td>73913.1295</td>\n",
              "    </tr>\n",
              "    <tr>\n",
              "      <th>6</th>\n",
              "      <td>7</td>\n",
              "      <td>King</td>\n",
              "      <td>Robert</td>\n",
              "      <td>Mr.</td>\n",
              "      <td>Sales Representative</td>\n",
              "      <td>UK</td>\n",
              "      <td>2026-01-02</td>\n",
              "      <td>72</td>\n",
              "      <td>4654</td>\n",
              "      <td>124568.2350</td>\n",
              "    </tr>\n",
              "    <tr>\n",
              "      <th>7</th>\n",
              "      <td>8</td>\n",
              "      <td>Callahan</td>\n",
              "      <td>Laura</td>\n",
              "      <td>Ms.</td>\n",
              "      <td>Inside Sales Coordinator</td>\n",
              "      <td>USA</td>\n",
              "      <td>2026-03-05</td>\n",
              "      <td>104</td>\n",
              "      <td>5913</td>\n",
              "      <td>126862.2775</td>\n",
              "    </tr>\n",
              "    <tr>\n",
              "      <th>8</th>\n",
              "      <td>9</td>\n",
              "      <td>Dodsworth</td>\n",
              "      <td>Anne</td>\n",
              "      <td>Ms.</td>\n",
              "      <td>Sales Representative</td>\n",
              "      <td>UK</td>\n",
              "      <td>2026-11-15</td>\n",
              "      <td>43</td>\n",
              "      <td>2670</td>\n",
              "      <td>77308.0665</td>\n",
              "    </tr>\n",
              "  </tbody>\n",
              "</table>\n",
              "</div>"
            ],
            "text/plain": [
              "   Id   LastName FirstName TitleOfCourtesy                     Title Country  \\\n",
              "0   1    Davolio     Nancy             Ms.      Sales Representative     USA   \n",
              "1   2     Fuller    Andrew             Dr.     Vice President, Sales     USA   \n",
              "2   3  Leverling     Janet             Ms.      Sales Representative     USA   \n",
              "3   4    Peacock  Margaret            Mrs.      Sales Representative     USA   \n",
              "4   5   Buchanan    Steven             Mr.             Sales Manager      UK   \n",
              "5   6     Suyama   Michael             Mr.      Sales Representative      UK   \n",
              "6   7       King    Robert             Mr.      Sales Representative      UK   \n",
              "7   8   Callahan     Laura             Ms.  Inside Sales Coordinator     USA   \n",
              "8   9  Dodsworth      Anne             Ms.      Sales Representative      UK   \n",
              "\n",
              "     HireDate  Orders_filled  Units_sold      Revenue  \n",
              "0  2024-05-01            123        7812  192107.6045  \n",
              "1  2024-08-14             96        6055  166537.7550  \n",
              "2  2024-04-01            127        7852  202812.8430  \n",
              "3  2025-05-03            156        9798  232890.8460  \n",
              "4  2025-10-17             42        3036   68792.2825  \n",
              "5  2025-10-17             67        3527   73913.1295  \n",
              "6  2026-01-02             72        4654  124568.2350  \n",
              "7  2026-03-05            104        5913  126862.2775  \n",
              "8  2026-11-15             43        2670   77308.0665  "
            ]
          },
          "execution_count": 39,
          "metadata": {},
          "output_type": "execute_result"
        }
      ],
      "source": [
        "# Query total revenue based on employee\n",
        "total_revenue_df = pd.read_sql_query('''SELECT e.Id, e.LastName, e.FirstName,\n",
        "                            e.TitleOfCourtesy, e.Title, e.Country, e.HireDate,\n",
        "                            COUNT(DISTINCT od.OrderId) Orders_filled,\n",
        "                            SUM(od.Quantity) Units_sold,\n",
        "                            SUM((od.UnitPrice * (1 - od.Discount)) * od.Quantity) Revenue\n",
        "                            FROM Employee e\n",
        "                            JOIN [Order] o ON e.Id = o.EmployeeId\n",
        "                            JOIN OrderDetail od ON o.Id = od.OrderId\n",
        "                            GROUP BY e.Id\n",
        "                            ''', engine)\n",
        "total_revenue_df"
      ]
    },
    {
      "cell_type": "code",
      "execution_count": null,
      "metadata": {
        "id": "1T0XxyD-57Fp",
        "outputId": "2a08e0c4-a6f6-47d4-ee42-fb31491371b1"
      },
      "outputs": [
        {
          "name": "stdout",
          "output_type": "stream",
          "text": [
            "Difference in Total Revenue: $576629.61\n"
          ]
        }
      ],
      "source": [
        "usa_df = total_revenue_df[total_revenue_df['Country']=='USA']\n",
        "uk_df = total_revenue_df[total_revenue_df['Country']=='UK']\n",
        "print('Difference in Total Revenue: ${}'.format(round(usa_df.Revenue.sum() - uk_df.Revenue.sum(),2)))"
      ]
    },
    {
      "cell_type": "code",
      "execution_count": null,
      "metadata": {
        "id": "5KwrJHN457Fp",
        "outputId": "84a3defd-21de-4639-fda4-84c446fc77b8"
      },
      "outputs": [
        {
          "data": {
            "image/png": "[encoded data removed]",
            "text/plain": [
              "<Figure size 432x288 with 1 Axes>"
            ]
          },
          "metadata": {
            "needs_background": "light"
          },
          "output_type": "display_data"
        }
      ],
      "source": [
        "plt.bar(usa_df.Id, usa_df.Revenue, label='USA employees')\n",
        "plt.bar(uk_df.Id, uk_df.Revenue, label = 'UK employees')\n",
        "plt.xticks(total_revenue_df.Id)\n",
        "plt.title('Total Revenue by Employee Id')\n",
        "plt.legend()\n",
        "plt.show()"
      ]
    },
    {
      "cell_type": "markdown",
      "metadata": {
        "id": "XhumupRD57Fp"
      },
      "source": [
        "Let's now see if there are any significant differences between the sales reps for their respective country"
      ]
    },
    {
      "cell_type": "code",
      "execution_count": null,
      "metadata": {
        "id": "THDoKMKf57Fp"
      },
      "outputs": [],
      "source": [
        "sales_reps_usa = employee_sales_df[(employee_sales_df['Country']=='USA')&(employee_sales_df['Title']=='Sales Representative')]"
      ]
    },
    {
      "cell_type": "code",
      "execution_count": null,
      "metadata": {
        "id": "EwU7hJHK57Fp",
        "outputId": "c9a74c13-6cf8-4ac9-8df0-c9d6a40becc1"
      },
      "outputs": [
        {
          "name": "stdout",
          "output_type": "stream",
          "text": [
            "                    sum_sq     df         F    PR(>F)\n",
            "C(FirstName)  8.005805e+05    2.0  0.119917  0.887025\n",
            "Residual      1.345233e+09  403.0       NaN       NaN\n"
          ]
        }
      ],
      "source": [
        "# Anova test\n",
        "formula = 'Revenue ~ C(FirstName)'\n",
        "lm = ols(formula, sales_reps_usa).fit()\n",
        "table = sm.stats.anova_lm(lm, typ=2)\n",
        "print(table)"
      ]
    },
    {
      "cell_type": "code",
      "execution_count": null,
      "metadata": {
        "id": "hcDxTjuL57Fp"
      },
      "outputs": [],
      "source": [
        "sales_reps_uk = employee_sales_df[(employee_sales_df['Country']=='UK')&(employee_sales_df['Title']=='Sales Representative')]"
      ]
    },
    {
      "cell_type": "code",
      "execution_count": null,
      "metadata": {
        "id": "SFw3I2Lf57Fq",
        "outputId": "61b30950-d151-414f-fac1-49a1ff9db046"
      },
      "outputs": [
        {
          "name": "stdout",
          "output_type": "stream",
          "text": [
            "                    sum_sq     df         F    PR(>F)\n",
            "C(FirstName)  1.813505e+07    2.0  2.521364  0.083201\n",
            "Residual      6.437337e+08  179.0       NaN       NaN\n"
          ]
        }
      ],
      "source": [
        "# ANOVA test\n",
        "formula = 'Revenue ~ C(FirstName)'\n",
        "lm = ols(formula, sales_reps_uk).fit()\n",
        "table = sm.stats.anova_lm(lm, typ=2)\n",
        "print(table)"
      ]
    },
    {
      "cell_type": "markdown",
      "metadata": {
        "id": "OMijGN3757Fq"
      },
      "source": [
        "Again, we fail to reject both null hypothesis' that there is a significant difference between the sales reps of the USA and between the sales reps in the UK.\n",
        "<br>\n",
        "<br>\n",
        "Let's go one step further to see if there is any significant difference between male and female employees."
      ]
    },
    {
      "cell_type": "code",
      "execution_count": null,
      "metadata": {
        "id": "vorXkcud57Fq",
        "outputId": "c3795680-946b-479d-a553-9c9183984b93"
      },
      "outputs": [
        {
          "data": {
            "text/plain": [
              "array(['Mr.', 'Mrs.', 'Ms.', 'Dr.'], dtype=object)"
            ]
          },
          "execution_count": 46,
          "metadata": {},
          "output_type": "execute_result"
        }
      ],
      "source": [
        "# There is one Dr. and the name is Andrew, will assume male\n",
        "employee_sales_df.TitleOfCourtesy.unique()"
      ]
    },
    {
      "cell_type": "code",
      "execution_count": null,
      "metadata": {
        "id": "50oPpkEQ57Fq"
      },
      "outputs": [],
      "source": [
        "male_employees = employee_sales_df[(employee_sales_df['TitleOfCourtesy']=='Mr.') |\n",
        "                                   (employee_sales_df['TitleOfCourtesy']=='Dr.')]\n",
        "female_employees = employee_sales_df[(employee_sales_df['TitleOfCourtesy']=='Mrs.') |\n",
        "                                     (employee_sales_df['TitleOfCourtesy']=='Ms.')]"
      ]
    },
    {
      "cell_type": "code",
      "execution_count": null,
      "metadata": {
        "id": "GAMnZKo257Fq",
        "outputId": "aaf60be6-2fab-4dcb-e877-d0a36d1bbe11"
      },
      "outputs": [
        {
          "name": "stdout",
          "output_type": "stream",
          "text": [
            "Mean Male Revenue: 1566.106144404332\n",
            "Mean Female Revenue: 1504.487590415913\n",
            "Mean difference: 61.61855398841908\n"
          ]
        }
      ],
      "source": [
        "print('Mean Male Revenue:', np.mean(male_employees.Revenue))\n",
        "print('Mean Female Revenue:', np.mean(female_employees.Revenue))\n",
        "print('Mean difference:', np.mean(male_employees.Revenue) - np.mean(female_employees.Revenue))"
      ]
    },
    {
      "cell_type": "code",
      "execution_count": null,
      "metadata": {
        "id": "YsZuocrl57Fq",
        "outputId": "63996054-d44a-4255-9aa5-90be2cb086ab"
      },
      "outputs": [
        {
          "data": {
            "text/plain": [
              "Ttest_indResult(statistic=0.45344886460688966, pvalue=0.6503443688380031)"
            ]
          },
          "execution_count": 49,
          "metadata": {},
          "output_type": "execute_result"
        }
      ],
      "source": [
        "# Two sample t-test (2 tail)\n",
        "stats.ttest_ind(male_employees.Revenue, female_employees.Revenue)"
      ]
    },
    {
      "cell_type": "markdown",
      "metadata": {
        "id": "C4zh4AsG57Fq"
      },
      "source": [
        "And again we fail to reject the null hypothesis, thus there is no significant difference between male and female employees based on the average revenue the bring in.  Hopefully there is equal pay between male and females in their respective roles."
      ]
    },
    {
      "cell_type": "markdown",
      "metadata": {
        "id": "bJJbXk1757Fr"
      },
      "source": [
        "\n",
        "## Results\n",
        "Overall based on our findings, we cannot confidently say there is any statistically significant difference between average revenues generated between the USA and the UK.  We can however say there is a big discrepency between total orders filled and thus total revenue as well where the USA generates much more revenue than the UK.  This could be due to factors where conditions are different in one country versus the other with regards to policy or trade agreements. Or it could also mean that marketying should be pushing more in European market to get more exposure since the UK branch is generating the same revenues on average, they just need more orders. It could also mean they are less efficient for whatever reason, but possibly more data would need to be collected, since there are only 9 employeeds."
      ]
    },
    {
      "cell_type": "markdown",
      "metadata": {
        "id": "XD9CuGRu57Fr"
      },
      "source": [
        "\n",
        "**_Is there any statistically significant difference between shipping companies based on their ship time? What about based on their freight price?_**"
      ]
    },
    {
      "cell_type": "code",
      "execution_count": null,
      "metadata": {
        "id": "89NU4xAL57Fr",
        "outputId": "abd15f31-0131-4eaf-947a-dc550c7db4d3"
      },
      "outputs": [
        {
          "name": "stdout",
          "output_type": "stream",
          "text": [
            "2019-03-11 16:49:35,989 INFO sqlalchemy.engine.base.Engine SELECT * FROM [Order] o JOIN Shipper s ON s.Id = o.ShipVia\n",
            "                            \n",
            "2019-03-11 16:49:35,992 INFO sqlalchemy.engine.base.Engine ()\n"
          ]
        },
        {
          "data": {
            "text/html": [
              "<div>\n",
              "<style scoped>\n",
              "    .dataframe tbody tr th:only-of-type {\n",
              "        vertical-align: middle;\n",
              "    }\n",
              "\n",
              "    .dataframe tbody tr th {\n",
              "        vertical-align: top;\n",
              "    }\n",
              "\n",
              "    .dataframe thead th {\n",
              "        text-align: right;\n",
              "    }\n",
              "</style>\n",
              "<table border=\"1\" class=\"dataframe\">\n",
              "  <thead>\n",
              "    <tr style=\"text-align: right;\">\n",
              "      <th></th>\n",
              "      <th>Id</th>\n",
              "      <th>CustomerId</th>\n",
              "      <th>EmployeeId</th>\n",
              "      <th>OrderDate</th>\n",
              "      <th>RequiredDate</th>\n",
              "      <th>ShippedDate</th>\n",
              "      <th>ShipVia</th>\n",
              "      <th>Freight</th>\n",
              "      <th>ShipName</th>\n",
              "      <th>ShipAddress</th>\n",
              "      <th>ShipCity</th>\n",
              "      <th>ShipRegion</th>\n",
              "      <th>ShipPostalCode</th>\n",
              "      <th>ShipCountry</th>\n",
              "      <th>Id</th>\n",
              "      <th>CompanyName</th>\n",
              "      <th>Phone</th>\n",
              "    </tr>\n",
              "  </thead>\n",
              "  <tbody>\n",
              "    <tr>\n",
              "      <th>0</th>\n",
              "      <td>10248</td>\n",
              "      <td>VINET</td>\n",
              "      <td>5</td>\n",
              "      <td>2012-07-04</td>\n",
              "      <td>2012-08-01</td>\n",
              "      <td>2012-07-16</td>\n",
              "      <td>3</td>\n",
              "      <td>32.38</td>\n",
              "      <td>Vins et alcools Chevalier</td>\n",
              "      <td>59 rue de l'Abbaye</td>\n",
              "      <td>Reims</td>\n",
              "      <td>Western Europe</td>\n",
              "      <td>51100</td>\n",
              "      <td>France</td>\n",
              "      <td>3</td>\n",
              "      <td>Federal Shipping</td>\n",
              "      <td>(503) 555-9931</td>\n",
              "    </tr>\n",
              "    <tr>\n",
              "      <th>1</th>\n",
              "      <td>10249</td>\n",
              "      <td>TOMSP</td>\n",
              "      <td>6</td>\n",
              "      <td>2012-07-05</td>\n",
              "      <td>2012-08-16</td>\n",
              "      <td>2012-07-10</td>\n",
              "      <td>1</td>\n",
              "      <td>11.61</td>\n",
              "      <td>Toms Spezialitäten</td>\n",
              "      <td>Luisenstr. 48</td>\n",
              "      <td>Münster</td>\n",
              "      <td>Western Europe</td>\n",
              "      <td>44087</td>\n",
              "      <td>Germany</td>\n",
              "      <td>1</td>\n",
              "      <td>Speedy Express</td>\n",
              "      <td>(503) 555-9831</td>\n",
              "    </tr>\n",
              "    <tr>\n",
              "      <th>2</th>\n",
              "      <td>10250</td>\n",
              "      <td>HANAR</td>\n",
              "      <td>4</td>\n",
              "      <td>2012-07-08</td>\n",
              "      <td>2012-08-05</td>\n",
              "      <td>2012-07-12</td>\n",
              "      <td>2</td>\n",
              "      <td>65.83</td>\n",
              "      <td>Hanari Carnes</td>\n",
              "      <td>Rua do Paço, 67</td>\n",
              "      <td>Rio de Janeiro</td>\n",
              "      <td>South America</td>\n",
              "      <td>05454-876</td>\n",
              "      <td>Brazil</td>\n",
              "      <td>2</td>\n",
              "      <td>United Package</td>\n",
              "      <td>(503) 555-3199</td>\n",
              "    </tr>\n",
              "    <tr>\n",
              "      <th>3</th>\n",
              "      <td>10251</td>\n",
              "      <td>VICTE</td>\n",
              "      <td>3</td>\n",
              "      <td>2012-07-08</td>\n",
              "      <td>2012-08-05</td>\n",
              "      <td>2012-07-15</td>\n",
              "      <td>1</td>\n",
              "      <td>41.34</td>\n",
              "      <td>Victuailles en stock</td>\n",
              "      <td>2, rue du Commerce</td>\n",
              "      <td>Lyon</td>\n",
              "      <td>Western Europe</td>\n",
              "      <td>69004</td>\n",
              "      <td>France</td>\n",
              "      <td>1</td>\n",
              "      <td>Speedy Express</td>\n",
              "      <td>(503) 555-9831</td>\n",
              "    </tr>\n",
              "    <tr>\n",
              "      <th>4</th>\n",
              "      <td>10252</td>\n",
              "      <td>SUPRD</td>\n",
              "      <td>4</td>\n",
              "      <td>2012-07-09</td>\n",
              "      <td>2012-08-06</td>\n",
              "      <td>2012-07-11</td>\n",
              "      <td>2</td>\n",
              "      <td>51.30</td>\n",
              "      <td>Suprêmes délices</td>\n",
              "      <td>Boulevard Tirou, 255</td>\n",
              "      <td>Charleroi</td>\n",
              "      <td>Western Europe</td>\n",
              "      <td>B-6000</td>\n",
              "      <td>Belgium</td>\n",
              "      <td>2</td>\n",
              "      <td>United Package</td>\n",
              "      <td>(503) 555-3199</td>\n",
              "    </tr>\n",
              "  </tbody>\n",
              "</table>\n",
              "</div>"
            ],
            "text/plain": [
              "      Id CustomerId  EmployeeId   OrderDate RequiredDate ShippedDate  ShipVia  \\\n",
              "0  10248      VINET           5  2012-07-04   2012-08-01  2012-07-16        3   \n",
              "1  10249      TOMSP           6  2012-07-05   2012-08-16  2012-07-10        1   \n",
              "2  10250      HANAR           4  2012-07-08   2012-08-05  2012-07-12        2   \n",
              "3  10251      VICTE           3  2012-07-08   2012-08-05  2012-07-15        1   \n",
              "4  10252      SUPRD           4  2012-07-09   2012-08-06  2012-07-11        2   \n",
              "\n",
              "   Freight                   ShipName           ShipAddress        ShipCity  \\\n",
              "0    32.38  Vins et alcools Chevalier    59 rue de l'Abbaye           Reims   \n",
              "1    11.61         Toms Spezialitäten         Luisenstr. 48         Münster   \n",
              "2    65.83              Hanari Carnes       Rua do Paço, 67  Rio de Janeiro   \n",
              "3    41.34       Victuailles en stock    2, rue du Commerce            Lyon   \n",
              "4    51.30           Suprêmes délices  Boulevard Tirou, 255       Charleroi   \n",
              "\n",
              "       ShipRegion ShipPostalCode ShipCountry  Id       CompanyName  \\\n",
              "0  Western Europe          51100      France   3  Federal Shipping   \n",
              "1  Western Europe          44087     Germany   1    Speedy Express   \n",
              "2   South America      05454-876      Brazil   2    United Package   \n",
              "3  Western Europe          69004      France   1    Speedy Express   \n",
              "4  Western Europe         B-6000     Belgium   2    United Package   \n",
              "\n",
              "            Phone  \n",
              "0  (503) 555-9931  \n",
              "1  (503) 555-9831  \n",
              "2  (503) 555-3199  \n",
              "3  (503) 555-9831  \n",
              "4  (503) 555-3199  "
            ]
          },
          "execution_count": 50,
          "metadata": {},
          "output_type": "execute_result"
        }
      ],
      "source": [
        "# Get shipping data from Orders table\n",
        "orders_df = pd.read_sql_query('''SELECT * FROM [Order] o JOIN Shipper s ON s.Id = o.ShipVia\n",
        "                            ''', engine)\n",
        "orders_df.head()"
      ]
    },
    {
      "cell_type": "code",
      "execution_count": null,
      "metadata": {
        "id": "2F1XU7aL57Fr",
        "outputId": "47bec7f3-aaef-46c7-bade-624931a7d0c3"
      },
      "outputs": [
        {
          "name": "stdout",
          "output_type": "stream",
          "text": [
            "<class 'pandas.core.frame.DataFrame'>\n",
            "RangeIndex: 830 entries, 0 to 829\n",
            "Data columns (total 17 columns):\n",
            "Id                830 non-null int64\n",
            "CustomerId        830 non-null object\n",
            "EmployeeId        830 non-null int64\n",
            "OrderDate         830 non-null object\n",
            "RequiredDate      830 non-null object\n",
            "ShippedDate       809 non-null object\n",
            "ShipVia           830 non-null int64\n",
            "Freight           830 non-null float64\n",
            "ShipName          830 non-null object\n",
            "ShipAddress       830 non-null object\n",
            "ShipCity          830 non-null object\n",
            "ShipRegion        830 non-null object\n",
            "ShipPostalCode    811 non-null object\n",
            "ShipCountry       830 non-null object\n",
            "Id                830 non-null int64\n",
            "CompanyName       830 non-null object\n",
            "Phone             830 non-null object\n",
            "dtypes: float64(1), int64(4), object(12)\n",
            "memory usage: 110.3+ KB\n"
          ]
        }
      ],
      "source": [
        "orders_df.info()"
      ]
    },
    {
      "cell_type": "code",
      "execution_count": null,
      "metadata": {
        "id": "QYZNQf1P57Fr",
        "outputId": "8c0ed737-7a81-46d9-8e8c-d84a950bda96"
      },
      "outputs": [
        {
          "data": {
            "text/html": [
              "<div>\n",
              "<style scoped>\n",
              "    .dataframe tbody tr th:only-of-type {\n",
              "        vertical-align: middle;\n",
              "    }\n",
              "\n",
              "    .dataframe tbody tr th {\n",
              "        vertical-align: top;\n",
              "    }\n",
              "\n",
              "    .dataframe thead th {\n",
              "        text-align: right;\n",
              "    }\n",
              "</style>\n",
              "<table border=\"1\" class=\"dataframe\">\n",
              "  <thead>\n",
              "    <tr style=\"text-align: right;\">\n",
              "      <th></th>\n",
              "      <th>Id</th>\n",
              "      <th>CustomerId</th>\n",
              "      <th>EmployeeId</th>\n",
              "      <th>OrderDate</th>\n",
              "      <th>RequiredDate</th>\n",
              "      <th>ShippedDate</th>\n",
              "      <th>ShipVia</th>\n",
              "      <th>Freight</th>\n",
              "      <th>ShipName</th>\n",
              "      <th>ShipAddress</th>\n",
              "      <th>ShipCity</th>\n",
              "      <th>ShipRegion</th>\n",
              "      <th>ShipPostalCode</th>\n",
              "      <th>ShipCountry</th>\n",
              "      <th>Id</th>\n",
              "      <th>CompanyName</th>\n",
              "      <th>Phone</th>\n",
              "      <th>ShippingTime</th>\n",
              "    </tr>\n",
              "  </thead>\n",
              "  <tbody>\n",
              "    <tr>\n",
              "      <th>0</th>\n",
              "      <td>10248</td>\n",
              "      <td>VINET</td>\n",
              "      <td>5</td>\n",
              "      <td>2012-07-04</td>\n",
              "      <td>2012-08-01</td>\n",
              "      <td>2012-07-16</td>\n",
              "      <td>3</td>\n",
              "      <td>32.38</td>\n",
              "      <td>Vins et alcools Chevalier</td>\n",
              "      <td>59 rue de l'Abbaye</td>\n",
              "      <td>Reims</td>\n",
              "      <td>Western Europe</td>\n",
              "      <td>51100</td>\n",
              "      <td>France</td>\n",
              "      <td>3</td>\n",
              "      <td>Federal Shipping</td>\n",
              "      <td>(503) 555-9931</td>\n",
              "      <td>28 days</td>\n",
              "    </tr>\n",
              "    <tr>\n",
              "      <th>1</th>\n",
              "      <td>10249</td>\n",
              "      <td>TOMSP</td>\n",
              "      <td>6</td>\n",
              "      <td>2012-07-05</td>\n",
              "      <td>2012-08-16</td>\n",
              "      <td>2012-07-10</td>\n",
              "      <td>1</td>\n",
              "      <td>11.61</td>\n",
              "      <td>Toms Spezialitäten</td>\n",
              "      <td>Luisenstr. 48</td>\n",
              "      <td>Münster</td>\n",
              "      <td>Western Europe</td>\n",
              "      <td>44087</td>\n",
              "      <td>Germany</td>\n",
              "      <td>1</td>\n",
              "      <td>Speedy Express</td>\n",
              "      <td>(503) 555-9831</td>\n",
              "      <td>42 days</td>\n",
              "    </tr>\n",
              "    <tr>\n",
              "      <th>2</th>\n",
              "      <td>10250</td>\n",
              "      <td>HANAR</td>\n",
              "      <td>4</td>\n",
              "      <td>2012-07-08</td>\n",
              "      <td>2012-08-05</td>\n",
              "      <td>2012-07-12</td>\n",
              "      <td>2</td>\n",
              "      <td>65.83</td>\n",
              "      <td>Hanari Carnes</td>\n",
              "      <td>Rua do Paço, 67</td>\n",
              "      <td>Rio de Janeiro</td>\n",
              "      <td>South America</td>\n",
              "      <td>05454-876</td>\n",
              "      <td>Brazil</td>\n",
              "      <td>2</td>\n",
              "      <td>United Package</td>\n",
              "      <td>(503) 555-3199</td>\n",
              "      <td>28 days</td>\n",
              "    </tr>\n",
              "    <tr>\n",
              "      <th>3</th>\n",
              "      <td>10251</td>\n",
              "      <td>VICTE</td>\n",
              "      <td>3</td>\n",
              "      <td>2012-07-08</td>\n",
              "      <td>2012-08-05</td>\n",
              "      <td>2012-07-15</td>\n",
              "      <td>1</td>\n",
              "      <td>41.34</td>\n",
              "      <td>Victuailles en stock</td>\n",
              "      <td>2, rue du Commerce</td>\n",
              "      <td>Lyon</td>\n",
              "      <td>Western Europe</td>\n",
              "      <td>69004</td>\n",
              "      <td>France</td>\n",
              "      <td>1</td>\n",
              "      <td>Speedy Express</td>\n",
              "      <td>(503) 555-9831</td>\n",
              "      <td>28 days</td>\n",
              "    </tr>\n",
              "    <tr>\n",
              "      <th>4</th>\n",
              "      <td>10252</td>\n",
              "      <td>SUPRD</td>\n",
              "      <td>4</td>\n",
              "      <td>2012-07-09</td>\n",
              "      <td>2012-08-06</td>\n",
              "      <td>2012-07-11</td>\n",
              "      <td>2</td>\n",
              "      <td>51.30</td>\n",
              "      <td>Suprêmes délices</td>\n",
              "      <td>Boulevard Tirou, 255</td>\n",
              "      <td>Charleroi</td>\n",
              "      <td>Western Europe</td>\n",
              "      <td>B-6000</td>\n",
              "      <td>Belgium</td>\n",
              "      <td>2</td>\n",
              "      <td>United Package</td>\n",
              "      <td>(503) 555-3199</td>\n",
              "      <td>28 days</td>\n",
              "    </tr>\n",
              "    <tr>\n",
              "      <th>5</th>\n",
              "      <td>10253</td>\n",
              "      <td>HANAR</td>\n",
              "      <td>3</td>\n",
              "      <td>2012-07-10</td>\n",
              "      <td>2012-07-24</td>\n",
              "      <td>2012-07-16</td>\n",
              "      <td>2</td>\n",
              "      <td>58.17</td>\n",
              "      <td>Hanari Carnes</td>\n",
              "      <td>Rua do Paço, 67</td>\n",
              "      <td>Rio de Janeiro</td>\n",
              "      <td>South America</td>\n",
              "      <td>05454-876</td>\n",
              "      <td>Brazil</td>\n",
              "      <td>2</td>\n",
              "      <td>United Package</td>\n",
              "      <td>(503) 555-3199</td>\n",
              "      <td>14 days</td>\n",
              "    </tr>\n",
              "    <tr>\n",
              "      <th>6</th>\n",
              "      <td>10254</td>\n",
              "      <td>CHOPS</td>\n",
              "      <td>5</td>\n",
              "      <td>2012-07-11</td>\n",
              "      <td>2012-08-08</td>\n",
              "      <td>2012-07-23</td>\n",
              "      <td>2</td>\n",
              "      <td>22.98</td>\n",
              "      <td>Chop-suey Chinese</td>\n",
              "      <td>Hauptstr. 31</td>\n",
              "      <td>Bern</td>\n",
              "      <td>Western Europe</td>\n",
              "      <td>3012</td>\n",
              "      <td>Switzerland</td>\n",
              "      <td>2</td>\n",
              "      <td>United Package</td>\n",
              "      <td>(503) 555-3199</td>\n",
              "      <td>28 days</td>\n",
              "    </tr>\n",
              "    <tr>\n",
              "      <th>7</th>\n",
              "      <td>10255</td>\n",
              "      <td>RICSU</td>\n",
              "      <td>9</td>\n",
              "      <td>2012-07-12</td>\n",
              "      <td>2012-08-09</td>\n",
              "      <td>2012-07-15</td>\n",
              "      <td>3</td>\n",
              "      <td>148.33</td>\n",
              "      <td>Richter Supermarkt</td>\n",
              "      <td>Starenweg 5</td>\n",
              "      <td>Genève</td>\n",
              "      <td>Western Europe</td>\n",
              "      <td>1204</td>\n",
              "      <td>Switzerland</td>\n",
              "      <td>3</td>\n",
              "      <td>Federal Shipping</td>\n",
              "      <td>(503) 555-9931</td>\n",
              "      <td>28 days</td>\n",
              "    </tr>\n",
              "    <tr>\n",
              "      <th>8</th>\n",
              "      <td>10256</td>\n",
              "      <td>WELLI</td>\n",
              "      <td>3</td>\n",
              "      <td>2012-07-15</td>\n",
              "      <td>2012-08-12</td>\n",
              "      <td>2012-07-17</td>\n",
              "      <td>2</td>\n",
              "      <td>13.97</td>\n",
              "      <td>Wellington Importadora</td>\n",
              "      <td>Rua do Mercado, 12</td>\n",
              "      <td>Resende</td>\n",
              "      <td>South America</td>\n",
              "      <td>08737-363</td>\n",
              "      <td>Brazil</td>\n",
              "      <td>2</td>\n",
              "      <td>United Package</td>\n",
              "      <td>(503) 555-3199</td>\n",
              "      <td>28 days</td>\n",
              "    </tr>\n",
              "    <tr>\n",
              "      <th>9</th>\n",
              "      <td>10257</td>\n",
              "      <td>HILAA</td>\n",
              "      <td>4</td>\n",
              "      <td>2012-07-16</td>\n",
              "      <td>2012-08-13</td>\n",
              "      <td>2012-07-22</td>\n",
              "      <td>3</td>\n",
              "      <td>81.91</td>\n",
              "      <td>HILARION-Abastos</td>\n",
              "      <td>Carrera 22 con Ave. Carlos Soublette #8-35</td>\n",
              "      <td>San Cristóbal</td>\n",
              "      <td>South America</td>\n",
              "      <td>5022</td>\n",
              "      <td>Venezuela</td>\n",
              "      <td>3</td>\n",
              "      <td>Federal Shipping</td>\n",
              "      <td>(503) 555-9931</td>\n",
              "      <td>28 days</td>\n",
              "    </tr>\n",
              "    <tr>\n",
              "      <th>10</th>\n",
              "      <td>10258</td>\n",
              "      <td>ERNSH</td>\n",
              "      <td>1</td>\n",
              "      <td>2012-07-17</td>\n",
              "      <td>2012-08-14</td>\n",
              "      <td>2012-07-23</td>\n",
              "      <td>1</td>\n",
              "      <td>140.51</td>\n",
              "      <td>Ernst Handel</td>\n",
              "      <td>Kirchgasse 6</td>\n",
              "      <td>Graz</td>\n",
              "      <td>Western Europe</td>\n",
              "      <td>8010</td>\n",
              "      <td>Austria</td>\n",
              "      <td>1</td>\n",
              "      <td>Speedy Express</td>\n",
              "      <td>(503) 555-9831</td>\n",
              "      <td>28 days</td>\n",
              "    </tr>\n",
              "    <tr>\n",
              "      <th>11</th>\n",
              "      <td>10259</td>\n",
              "      <td>CENTC</td>\n",
              "      <td>4</td>\n",
              "      <td>2012-07-18</td>\n",
              "      <td>2012-08-15</td>\n",
              "      <td>2012-07-25</td>\n",
              "      <td>3</td>\n",
              "      <td>3.25</td>\n",
              "      <td>Centro comercial Moctezuma</td>\n",
              "      <td>Sierras de Granada 9993</td>\n",
              "      <td>México D.F.</td>\n",
              "      <td>Central America</td>\n",
              "      <td>05022</td>\n",
              "      <td>Mexico</td>\n",
              "      <td>3</td>\n",
              "      <td>Federal Shipping</td>\n",
              "      <td>(503) 555-9931</td>\n",
              "      <td>28 days</td>\n",
              "    </tr>\n",
              "    <tr>\n",
              "      <th>12</th>\n",
              "      <td>10260</td>\n",
              "      <td>OTTIK</td>\n",
              "      <td>4</td>\n",
              "      <td>2012-07-19</td>\n",
              "      <td>2012-08-16</td>\n",
              "      <td>2012-07-29</td>\n",
              "      <td>1</td>\n",
              "      <td>55.09</td>\n",
              "      <td>Ottilies Käseladen</td>\n",
              "      <td>Mehrheimerstr. 369</td>\n",
              "      <td>Köln</td>\n",
              "      <td>Western Europe</td>\n",
              "      <td>50739</td>\n",
              "      <td>Germany</td>\n",
              "      <td>1</td>\n",
              "      <td>Speedy Express</td>\n",
              "      <td>(503) 555-9831</td>\n",
              "      <td>28 days</td>\n",
              "    </tr>\n",
              "    <tr>\n",
              "      <th>13</th>\n",
              "      <td>10261</td>\n",
              "      <td>QUEDE</td>\n",
              "      <td>4</td>\n",
              "      <td>2012-07-19</td>\n",
              "      <td>2012-08-16</td>\n",
              "      <td>2012-07-30</td>\n",
              "      <td>2</td>\n",
              "      <td>3.05</td>\n",
              "      <td>Que Delícia</td>\n",
              "      <td>Rua da Panificadora, 12</td>\n",
              "      <td>Rio de Janeiro</td>\n",
              "      <td>South America</td>\n",
              "      <td>02389-673</td>\n",
              "      <td>Brazil</td>\n",
              "      <td>2</td>\n",
              "      <td>United Package</td>\n",
              "      <td>(503) 555-3199</td>\n",
              "      <td>28 days</td>\n",
              "    </tr>\n",
              "    <tr>\n",
              "      <th>14</th>\n",
              "      <td>10262</td>\n",
              "      <td>RATTC</td>\n",
              "      <td>8</td>\n",
              "      <td>2012-07-22</td>\n",
              "      <td>2012-08-19</td>\n",
              "      <td>2012-07-25</td>\n",
              "      <td>3</td>\n",
              "      <td>48.29</td>\n",
              "      <td>Rattlesnake Canyon Grocery</td>\n",
              "      <td>2817 Milton Dr.</td>\n",
              "      <td>Albuquerque</td>\n",
              "      <td>North America</td>\n",
              "      <td>87110</td>\n",
              "      <td>USA</td>\n",
              "      <td>3</td>\n",
              "      <td>Federal Shipping</td>\n",
              "      <td>(503) 555-9931</td>\n",
              "      <td>28 days</td>\n",
              "    </tr>\n",
              "    <tr>\n",
              "      <th>15</th>\n",
              "      <td>10263</td>\n",
              "      <td>ERNSH</td>\n",
              "      <td>9</td>\n",
              "      <td>2012-07-23</td>\n",
              "      <td>2012-08-20</td>\n",
              "      <td>2012-07-31</td>\n",
              "      <td>3</td>\n",
              "      <td>146.06</td>\n",
              "      <td>Ernst Handel</td>\n",
              "      <td>Kirchgasse 6</td>\n",
              "      <td>Graz</td>\n",
              "      <td>Western Europe</td>\n",
              "      <td>8010</td>\n",
              "      <td>Austria</td>\n",
              "      <td>3</td>\n",
              "      <td>Federal Shipping</td>\n",
              "      <td>(503) 555-9931</td>\n",
              "      <td>28 days</td>\n",
              "    </tr>\n",
              "    <tr>\n",
              "      <th>16</th>\n",
              "      <td>10264</td>\n",
              "      <td>FOLKO</td>\n",
              "      <td>6</td>\n",
              "      <td>2012-07-24</td>\n",
              "      <td>2012-08-21</td>\n",
              "      <td>2012-08-23</td>\n",
              "      <td>3</td>\n",
              "      <td>3.67</td>\n",
              "      <td>Folk och fä HB</td>\n",
              "      <td>Åkergatan 24</td>\n",
              "      <td>Bräcke</td>\n",
              "      <td>Northern Europe</td>\n",
              "      <td>S-844 67</td>\n",
              "      <td>Sweden</td>\n",
              "      <td>3</td>\n",
              "      <td>Federal Shipping</td>\n",
              "      <td>(503) 555-9931</td>\n",
              "      <td>28 days</td>\n",
              "    </tr>\n",
              "    <tr>\n",
              "      <th>17</th>\n",
              "      <td>10265</td>\n",
              "      <td>BLONP</td>\n",
              "      <td>2</td>\n",
              "      <td>2012-07-25</td>\n",
              "      <td>2012-08-22</td>\n",
              "      <td>2012-08-12</td>\n",
              "      <td>1</td>\n",
              "      <td>55.28</td>\n",
              "      <td>Blondel père et fils</td>\n",
              "      <td>24, place Kléber</td>\n",
              "      <td>Strasbourg</td>\n",
              "      <td>Western Europe</td>\n",
              "      <td>67000</td>\n",
              "      <td>France</td>\n",
              "      <td>1</td>\n",
              "      <td>Speedy Express</td>\n",
              "      <td>(503) 555-9831</td>\n",
              "      <td>28 days</td>\n",
              "    </tr>\n",
              "    <tr>\n",
              "      <th>18</th>\n",
              "      <td>10266</td>\n",
              "      <td>WARTH</td>\n",
              "      <td>3</td>\n",
              "      <td>2012-07-26</td>\n",
              "      <td>2012-09-06</td>\n",
              "      <td>2012-07-31</td>\n",
              "      <td>3</td>\n",
              "      <td>25.73</td>\n",
              "      <td>Wartian Herkku</td>\n",
              "      <td>Torikatu 38</td>\n",
              "      <td>Oulu</td>\n",
              "      <td>Scandinavia</td>\n",
              "      <td>90110</td>\n",
              "      <td>Finland</td>\n",
              "      <td>3</td>\n",
              "      <td>Federal Shipping</td>\n",
              "      <td>(503) 555-9931</td>\n",
              "      <td>42 days</td>\n",
              "    </tr>\n",
              "    <tr>\n",
              "      <th>19</th>\n",
              "      <td>10267</td>\n",
              "      <td>FRANK</td>\n",
              "      <td>4</td>\n",
              "      <td>2012-07-29</td>\n",
              "      <td>2012-08-26</td>\n",
              "      <td>2012-08-06</td>\n",
              "      <td>1</td>\n",
              "      <td>208.58</td>\n",
              "      <td>Frankenversand</td>\n",
              "      <td>Berliner Platz 43</td>\n",
              "      <td>München</td>\n",
              "      <td>Western Europe</td>\n",
              "      <td>80805</td>\n",
              "      <td>Germany</td>\n",
              "      <td>1</td>\n",
              "      <td>Speedy Express</td>\n",
              "      <td>(503) 555-9831</td>\n",
              "      <td>28 days</td>\n",
              "    </tr>\n",
              "    <tr>\n",
              "      <th>20</th>\n",
              "      <td>10268</td>\n",
              "      <td>GROSR</td>\n",
              "      <td>8</td>\n",
              "      <td>2012-07-30</td>\n",
              "      <td>2012-08-27</td>\n",
              "      <td>2012-08-02</td>\n",
              "      <td>3</td>\n",
              "      <td>66.29</td>\n",
              "      <td>GROSELLA-Restaurante</td>\n",
              "      <td>5ª Ave. Los Palos Grandes</td>\n",
              "      <td>Caracas</td>\n",
              "      <td>South America</td>\n",
              "      <td>1081</td>\n",
              "      <td>Venezuela</td>\n",
              "      <td>3</td>\n",
              "      <td>Federal Shipping</td>\n",
              "      <td>(503) 555-9931</td>\n",
              "      <td>28 days</td>\n",
              "    </tr>\n",
              "    <tr>\n",
              "      <th>21</th>\n",
              "      <td>10269</td>\n",
              "      <td>WHITC</td>\n",
              "      <td>5</td>\n",
              "      <td>2012-07-31</td>\n",
              "      <td>2012-08-14</td>\n",
              "      <td>2012-08-09</td>\n",
              "      <td>1</td>\n",
              "      <td>4.56</td>\n",
              "      <td>White Clover Markets</td>\n",
              "      <td>1029 - 12th Ave. S.</td>\n",
              "      <td>Seattle</td>\n",
              "      <td>North America</td>\n",
              "      <td>98124</td>\n",
              "      <td>USA</td>\n",
              "      <td>1</td>\n",
              "      <td>Speedy Express</td>\n",
              "      <td>(503) 555-9831</td>\n",
              "      <td>14 days</td>\n",
              "    </tr>\n",
              "    <tr>\n",
              "      <th>22</th>\n",
              "      <td>10270</td>\n",
              "      <td>WARTH</td>\n",
              "      <td>1</td>\n",
              "      <td>2012-08-01</td>\n",
              "      <td>2012-08-29</td>\n",
              "      <td>2012-08-02</td>\n",
              "      <td>1</td>\n",
              "      <td>136.54</td>\n",
              "      <td>Wartian Herkku</td>\n",
              "      <td>Torikatu 38</td>\n",
              "      <td>Oulu</td>\n",
              "      <td>Scandinavia</td>\n",
              "      <td>90110</td>\n",
              "      <td>Finland</td>\n",
              "      <td>1</td>\n",
              "      <td>Speedy Express</td>\n",
              "      <td>(503) 555-9831</td>\n",
              "      <td>28 days</td>\n",
              "    </tr>\n",
              "    <tr>\n",
              "      <th>23</th>\n",
              "      <td>10271</td>\n",
              "      <td>SPLIR</td>\n",
              "      <td>6</td>\n",
              "      <td>2012-08-01</td>\n",
              "      <td>2012-08-29</td>\n",
              "      <td>2012-08-30</td>\n",
              "      <td>2</td>\n",
              "      <td>4.54</td>\n",
              "      <td>Split Rail Beer &amp; Ale</td>\n",
              "      <td>P.O. Box 555</td>\n",
              "      <td>Lander</td>\n",
              "      <td>North America</td>\n",
              "      <td>82520</td>\n",
              "      <td>USA</td>\n",
              "      <td>2</td>\n",
              "      <td>United Package</td>\n",
              "      <td>(503) 555-3199</td>\n",
              "      <td>28 days</td>\n",
              "    </tr>\n",
              "    <tr>\n",
              "      <th>24</th>\n",
              "      <td>10272</td>\n",
              "      <td>RATTC</td>\n",
              "      <td>6</td>\n",
              "      <td>2012-08-02</td>\n",
              "      <td>2012-08-30</td>\n",
              "      <td>2012-08-06</td>\n",
              "      <td>2</td>\n",
              "      <td>98.03</td>\n",
              "      <td>Rattlesnake Canyon Grocery</td>\n",
              "      <td>2817 Milton Dr.</td>\n",
              "      <td>Albuquerque</td>\n",
              "      <td>North America</td>\n",
              "      <td>87110</td>\n",
              "      <td>USA</td>\n",
              "      <td>2</td>\n",
              "      <td>United Package</td>\n",
              "      <td>(503) 555-3199</td>\n",
              "      <td>28 days</td>\n",
              "    </tr>\n",
              "    <tr>\n",
              "      <th>25</th>\n",
              "      <td>10273</td>\n",
              "      <td>QUICK</td>\n",
              "      <td>3</td>\n",
              "      <td>2012-08-05</td>\n",
              "      <td>2012-09-02</td>\n",
              "      <td>2012-08-12</td>\n",
              "      <td>3</td>\n",
              "      <td>76.07</td>\n",
              "      <td>QUICK-Stop</td>\n",
              "      <td>Taucherstraße 10</td>\n",
              "      <td>Cunewalde</td>\n",
              "      <td>Western Europe</td>\n",
              "      <td>01307</td>\n",
              "      <td>Germany</td>\n",
              "      <td>3</td>\n",
              "      <td>Federal Shipping</td>\n",
              "      <td>(503) 555-9931</td>\n",
              "      <td>28 days</td>\n",
              "    </tr>\n",
              "    <tr>\n",
              "      <th>26</th>\n",
              "      <td>10274</td>\n",
              "      <td>VINET</td>\n",
              "      <td>6</td>\n",
              "      <td>2012-08-06</td>\n",
              "      <td>2012-09-03</td>\n",
              "      <td>2012-08-16</td>\n",
              "      <td>1</td>\n",
              "      <td>6.01</td>\n",
              "      <td>Vins et alcools Chevalier</td>\n",
              "      <td>59 rue de l'Abbaye</td>\n",
              "      <td>Reims</td>\n",
              "      <td>Western Europe</td>\n",
              "      <td>51100</td>\n",
              "      <td>France</td>\n",
              "      <td>1</td>\n",
              "      <td>Speedy Express</td>\n",
              "      <td>(503) 555-9831</td>\n",
              "      <td>28 days</td>\n",
              "    </tr>\n",
              "    <tr>\n",
              "      <th>27</th>\n",
              "      <td>10275</td>\n",
              "      <td>MAGAA</td>\n",
              "      <td>1</td>\n",
              "      <td>2012-08-07</td>\n",
              "      <td>2012-09-04</td>\n",
              "      <td>2012-08-09</td>\n",
              "      <td>1</td>\n",
              "      <td>26.93</td>\n",
              "      <td>Magazzini Alimentari Riuniti</td>\n",
              "      <td>Via Ludovico il Moro 22</td>\n",
              "      <td>Bergamo</td>\n",
              "      <td>Southern Europe</td>\n",
              "      <td>24100</td>\n",
              "      <td>Italy</td>\n",
              "      <td>1</td>\n",
              "      <td>Speedy Express</td>\n",
              "      <td>(503) 555-9831</td>\n",
              "      <td>28 days</td>\n",
              "    </tr>\n",
              "    <tr>\n",
              "      <th>28</th>\n",
              "      <td>10276</td>\n",
              "      <td>TORTU</td>\n",
              "      <td>8</td>\n",
              "      <td>2012-08-08</td>\n",
              "      <td>2012-08-22</td>\n",
              "      <td>2012-08-14</td>\n",
              "      <td>3</td>\n",
              "      <td>13.84</td>\n",
              "      <td>Tortuga Restaurante</td>\n",
              "      <td>Avda. Azteca 123</td>\n",
              "      <td>México D.F.</td>\n",
              "      <td>Central America</td>\n",
              "      <td>05033</td>\n",
              "      <td>Mexico</td>\n",
              "      <td>3</td>\n",
              "      <td>Federal Shipping</td>\n",
              "      <td>(503) 555-9931</td>\n",
              "      <td>14 days</td>\n",
              "    </tr>\n",
              "    <tr>\n",
              "      <th>29</th>\n",
              "      <td>10277</td>\n",
              "      <td>MORGK</td>\n",
              "      <td>2</td>\n",
              "      <td>2012-08-09</td>\n",
              "      <td>2012-09-06</td>\n",
              "      <td>2012-08-13</td>\n",
              "      <td>3</td>\n",
              "      <td>125.77</td>\n",
              "      <td>Morgenstern Gesundkost</td>\n",
              "      <td>Heerstr. 22</td>\n",
              "      <td>Leipzig</td>\n",
              "      <td>Western Europe</td>\n",
              "      <td>04179</td>\n",
              "      <td>Germany</td>\n",
              "      <td>3</td>\n",
              "      <td>Federal Shipping</td>\n",
              "      <td>(503) 555-9931</td>\n",
              "      <td>28 days</td>\n",
              "    </tr>\n",
              "    <tr>\n",
              "      <th>...</th>\n",
              "      <td>...</td>\n",
              "      <td>...</td>\n",
              "      <td>...</td>\n",
              "      <td>...</td>\n",
              "      <td>...</td>\n",
              "      <td>...</td>\n",
              "      <td>...</td>\n",
              "      <td>...</td>\n",
              "      <td>...</td>\n",
              "      <td>...</td>\n",
              "      <td>...</td>\n",
              "      <td>...</td>\n",
              "      <td>...</td>\n",
              "      <td>...</td>\n",
              "      <td>...</td>\n",
              "      <td>...</td>\n",
              "      <td>...</td>\n",
              "      <td>...</td>\n",
              "    </tr>\n",
              "    <tr>\n",
              "      <th>800</th>\n",
              "      <td>11048</td>\n",
              "      <td>BOTTM</td>\n",
              "      <td>7</td>\n",
              "      <td>2014-04-24</td>\n",
              "      <td>2014-05-22</td>\n",
              "      <td>2014-04-30</td>\n",
              "      <td>3</td>\n",
              "      <td>24.12</td>\n",
              "      <td>Bottom-Dollar Markets</td>\n",
              "      <td>23 Tsawassen Blvd.</td>\n",
              "      <td>Tsawassen</td>\n",
              "      <td>North America</td>\n",
              "      <td>T2F 8M4</td>\n",
              "      <td>Canada</td>\n",
              "      <td>3</td>\n",
              "      <td>Federal Shipping</td>\n",
              "      <td>(503) 555-9931</td>\n",
              "      <td>28 days</td>\n",
              "    </tr>\n",
              "    <tr>\n",
              "      <th>801</th>\n",
              "      <td>11049</td>\n",
              "      <td>GOURL</td>\n",
              "      <td>3</td>\n",
              "      <td>2014-04-24</td>\n",
              "      <td>2014-05-22</td>\n",
              "      <td>2014-05-04</td>\n",
              "      <td>1</td>\n",
              "      <td>8.34</td>\n",
              "      <td>Gourmet Lanchonetes</td>\n",
              "      <td>Av. Brasil, 442</td>\n",
              "      <td>Campinas</td>\n",
              "      <td>South America</td>\n",
              "      <td>04876-786</td>\n",
              "      <td>Brazil</td>\n",
              "      <td>1</td>\n",
              "      <td>Speedy Express</td>\n",
              "      <td>(503) 555-9831</td>\n",
              "      <td>28 days</td>\n",
              "    </tr>\n",
              "    <tr>\n",
              "      <th>802</th>\n",
              "      <td>11050</td>\n",
              "      <td>FOLKO</td>\n",
              "      <td>8</td>\n",
              "      <td>2014-04-27</td>\n",
              "      <td>2014-05-25</td>\n",
              "      <td>2014-05-05</td>\n",
              "      <td>2</td>\n",
              "      <td>59.41</td>\n",
              "      <td>Folk och fä HB</td>\n",
              "      <td>Åkergatan 24</td>\n",
              "      <td>Bräcke</td>\n",
              "      <td>Northern Europe</td>\n",
              "      <td>S-844 67</td>\n",
              "      <td>Sweden</td>\n",
              "      <td>2</td>\n",
              "      <td>United Package</td>\n",
              "      <td>(503) 555-3199</td>\n",
              "      <td>28 days</td>\n",
              "    </tr>\n",
              "    <tr>\n",
              "      <th>803</th>\n",
              "      <td>11051</td>\n",
              "      <td>LAMAI</td>\n",
              "      <td>7</td>\n",
              "      <td>2014-04-27</td>\n",
              "      <td>2014-05-25</td>\n",
              "      <td>None</td>\n",
              "      <td>3</td>\n",
              "      <td>2.79</td>\n",
              "      <td>La maison d'Asie</td>\n",
              "      <td>1 rue Alsace-Lorraine</td>\n",
              "      <td>Toulouse</td>\n",
              "      <td>Western Europe</td>\n",
              "      <td>31000</td>\n",
              "      <td>France</td>\n",
              "      <td>3</td>\n",
              "      <td>Federal Shipping</td>\n",
              "      <td>(503) 555-9931</td>\n",
              "      <td>28 days</td>\n",
              "    </tr>\n",
              "    <tr>\n",
              "      <th>804</th>\n",
              "      <td>11052</td>\n",
              "      <td>HANAR</td>\n",
              "      <td>3</td>\n",
              "      <td>2014-04-27</td>\n",
              "      <td>2014-05-25</td>\n",
              "      <td>2014-05-01</td>\n",
              "      <td>1</td>\n",
              "      <td>67.26</td>\n",
              "      <td>Hanari Carnes</td>\n",
              "      <td>Rua do Paço, 67</td>\n",
              "      <td>Rio de Janeiro</td>\n",
              "      <td>South America</td>\n",
              "      <td>05454-876</td>\n",
              "      <td>Brazil</td>\n",
              "      <td>1</td>\n",
              "      <td>Speedy Express</td>\n",
              "      <td>(503) 555-9831</td>\n",
              "      <td>28 days</td>\n",
              "    </tr>\n",
              "    <tr>\n",
              "      <th>805</th>\n",
              "      <td>11053</td>\n",
              "      <td>PICCO</td>\n",
              "      <td>2</td>\n",
              "      <td>2014-04-27</td>\n",
              "      <td>2014-05-25</td>\n",
              "      <td>2014-04-29</td>\n",
              "      <td>2</td>\n",
              "      <td>53.05</td>\n",
              "      <td>Piccolo und mehr</td>\n",
              "      <td>Geislweg 14</td>\n",
              "      <td>Salzburg</td>\n",
              "      <td>Western Europe</td>\n",
              "      <td>5020</td>\n",
              "      <td>Austria</td>\n",
              "      <td>2</td>\n",
              "      <td>United Package</td>\n",
              "      <td>(503) 555-3199</td>\n",
              "      <td>28 days</td>\n",
              "    </tr>\n",
              "    <tr>\n",
              "      <th>806</th>\n",
              "      <td>11054</td>\n",
              "      <td>CACTU</td>\n",
              "      <td>8</td>\n",
              "      <td>2014-04-28</td>\n",
              "      <td>2014-05-26</td>\n",
              "      <td>None</td>\n",
              "      <td>1</td>\n",
              "      <td>0.33</td>\n",
              "      <td>Cactus Comidas para llevar</td>\n",
              "      <td>Cerrito 333</td>\n",
              "      <td>Buenos Aires</td>\n",
              "      <td>South America</td>\n",
              "      <td>1010</td>\n",
              "      <td>Argentina</td>\n",
              "      <td>1</td>\n",
              "      <td>Speedy Express</td>\n",
              "      <td>(503) 555-9831</td>\n",
              "      <td>28 days</td>\n",
              "    </tr>\n",
              "    <tr>\n",
              "      <th>807</th>\n",
              "      <td>11055</td>\n",
              "      <td>HILAA</td>\n",
              "      <td>7</td>\n",
              "      <td>2014-04-28</td>\n",
              "      <td>2014-05-26</td>\n",
              "      <td>2014-05-05</td>\n",
              "      <td>2</td>\n",
              "      <td>120.92</td>\n",
              "      <td>HILARION-Abastos</td>\n",
              "      <td>Carrera 22 con Ave. Carlos Soublette #8-35</td>\n",
              "      <td>San Cristóbal</td>\n",
              "      <td>South America</td>\n",
              "      <td>5022</td>\n",
              "      <td>Venezuela</td>\n",
              "      <td>2</td>\n",
              "      <td>United Package</td>\n",
              "      <td>(503) 555-3199</td>\n",
              "      <td>28 days</td>\n",
              "    </tr>\n",
              "    <tr>\n",
              "      <th>808</th>\n",
              "      <td>11056</td>\n",
              "      <td>EASTC</td>\n",
              "      <td>8</td>\n",
              "      <td>2014-04-28</td>\n",
              "      <td>2014-05-12</td>\n",
              "      <td>2014-05-01</td>\n",
              "      <td>2</td>\n",
              "      <td>278.96</td>\n",
              "      <td>Eastern Connection</td>\n",
              "      <td>35 King George</td>\n",
              "      <td>London</td>\n",
              "      <td>British Isles</td>\n",
              "      <td>WX3 6FW</td>\n",
              "      <td>UK</td>\n",
              "      <td>2</td>\n",
              "      <td>United Package</td>\n",
              "      <td>(503) 555-3199</td>\n",
              "      <td>14 days</td>\n",
              "    </tr>\n",
              "    <tr>\n",
              "      <th>809</th>\n",
              "      <td>11057</td>\n",
              "      <td>NORTS</td>\n",
              "      <td>3</td>\n",
              "      <td>2014-04-29</td>\n",
              "      <td>2014-05-27</td>\n",
              "      <td>2014-05-01</td>\n",
              "      <td>3</td>\n",
              "      <td>4.13</td>\n",
              "      <td>North/South</td>\n",
              "      <td>South House 300 Queensbridge</td>\n",
              "      <td>London</td>\n",
              "      <td>British Isles</td>\n",
              "      <td>SW7 1RZ</td>\n",
              "      <td>UK</td>\n",
              "      <td>3</td>\n",
              "      <td>Federal Shipping</td>\n",
              "      <td>(503) 555-9931</td>\n",
              "      <td>28 days</td>\n",
              "    </tr>\n",
              "    <tr>\n",
              "      <th>810</th>\n",
              "      <td>11058</td>\n",
              "      <td>BLAUS</td>\n",
              "      <td>9</td>\n",
              "      <td>2014-04-29</td>\n",
              "      <td>2014-05-27</td>\n",
              "      <td>None</td>\n",
              "      <td>3</td>\n",
              "      <td>31.14</td>\n",
              "      <td>Blauer See Delikatessen</td>\n",
              "      <td>Forsterstr. 57</td>\n",
              "      <td>Mannheim</td>\n",
              "      <td>Western Europe</td>\n",
              "      <td>68306</td>\n",
              "      <td>Germany</td>\n",
              "      <td>3</td>\n",
              "      <td>Federal Shipping</td>\n",
              "      <td>(503) 555-9931</td>\n",
              "      <td>28 days</td>\n",
              "    </tr>\n",
              "    <tr>\n",
              "      <th>811</th>\n",
              "      <td>11059</td>\n",
              "      <td>RICAR</td>\n",
              "      <td>2</td>\n",
              "      <td>2014-04-29</td>\n",
              "      <td>2014-06-10</td>\n",
              "      <td>None</td>\n",
              "      <td>2</td>\n",
              "      <td>85.80</td>\n",
              "      <td>Ricardo Adocicados</td>\n",
              "      <td>Av. Copacabana, 267</td>\n",
              "      <td>Rio de Janeiro</td>\n",
              "      <td>South America</td>\n",
              "      <td>02389-890</td>\n",
              "      <td>Brazil</td>\n",
              "      <td>2</td>\n",
              "      <td>United Package</td>\n",
              "      <td>(503) 555-3199</td>\n",
              "      <td>42 days</td>\n",
              "    </tr>\n",
              "    <tr>\n",
              "      <th>812</th>\n",
              "      <td>11060</td>\n",
              "      <td>FRANS</td>\n",
              "      <td>2</td>\n",
              "      <td>2014-04-30</td>\n",
              "      <td>2014-05-28</td>\n",
              "      <td>2014-05-04</td>\n",
              "      <td>2</td>\n",
              "      <td>10.98</td>\n",
              "      <td>Franchi S.p.A.</td>\n",
              "      <td>Via Monte Bianco 34</td>\n",
              "      <td>Torino</td>\n",
              "      <td>Southern Europe</td>\n",
              "      <td>10100</td>\n",
              "      <td>Italy</td>\n",
              "      <td>2</td>\n",
              "      <td>United Package</td>\n",
              "      <td>(503) 555-3199</td>\n",
              "      <td>28 days</td>\n",
              "    </tr>\n",
              "    <tr>\n",
              "      <th>813</th>\n",
              "      <td>11061</td>\n",
              "      <td>GREAL</td>\n",
              "      <td>4</td>\n",
              "      <td>2014-04-30</td>\n",
              "      <td>2014-06-11</td>\n",
              "      <td>None</td>\n",
              "      <td>3</td>\n",
              "      <td>14.01</td>\n",
              "      <td>Great Lakes Food Market</td>\n",
              "      <td>2732 Baker Blvd.</td>\n",
              "      <td>Eugene</td>\n",
              "      <td>North America</td>\n",
              "      <td>97403</td>\n",
              "      <td>USA</td>\n",
              "      <td>3</td>\n",
              "      <td>Federal Shipping</td>\n",
              "      <td>(503) 555-9931</td>\n",
              "      <td>42 days</td>\n",
              "    </tr>\n",
              "    <tr>\n",
              "      <th>814</th>\n",
              "      <td>11062</td>\n",
              "      <td>REGGC</td>\n",
              "      <td>4</td>\n",
              "      <td>2014-04-30</td>\n",
              "      <td>2014-05-28</td>\n",
              "      <td>None</td>\n",
              "      <td>2</td>\n",
              "      <td>29.93</td>\n",
              "      <td>Reggiani Caseifici</td>\n",
              "      <td>Strada Provinciale 124</td>\n",
              "      <td>Reggio Emilia</td>\n",
              "      <td>Southern Europe</td>\n",
              "      <td>42100</td>\n",
              "      <td>Italy</td>\n",
              "      <td>2</td>\n",
              "      <td>United Package</td>\n",
              "      <td>(503) 555-3199</td>\n",
              "      <td>28 days</td>\n",
              "    </tr>\n",
              "    <tr>\n",
              "      <th>815</th>\n",
              "      <td>11063</td>\n",
              "      <td>HUNGO</td>\n",
              "      <td>3</td>\n",
              "      <td>2014-04-30</td>\n",
              "      <td>2014-05-28</td>\n",
              "      <td>2014-05-06</td>\n",
              "      <td>2</td>\n",
              "      <td>81.73</td>\n",
              "      <td>Hungry Owl All-Night Grocers</td>\n",
              "      <td>8 Johnstown Road</td>\n",
              "      <td>Cork</td>\n",
              "      <td>British Isles</td>\n",
              "      <td>None</td>\n",
              "      <td>Ireland</td>\n",
              "      <td>2</td>\n",
              "      <td>United Package</td>\n",
              "      <td>(503) 555-3199</td>\n",
              "      <td>28 days</td>\n",
              "    </tr>\n",
              "    <tr>\n",
              "      <th>816</th>\n",
              "      <td>11064</td>\n",
              "      <td>SAVEA</td>\n",
              "      <td>1</td>\n",
              "      <td>2014-05-01</td>\n",
              "      <td>2014-05-29</td>\n",
              "      <td>2014-05-04</td>\n",
              "      <td>1</td>\n",
              "      <td>30.09</td>\n",
              "      <td>Save-a-lot Markets</td>\n",
              "      <td>187 Suffolk Ln.</td>\n",
              "      <td>Boise</td>\n",
              "      <td>North America</td>\n",
              "      <td>83720</td>\n",
              "      <td>USA</td>\n",
              "      <td>1</td>\n",
              "      <td>Speedy Express</td>\n",
              "      <td>(503) 555-9831</td>\n",
              "      <td>28 days</td>\n",
              "    </tr>\n",
              "    <tr>\n",
              "      <th>817</th>\n",
              "      <td>11065</td>\n",
              "      <td>LILAS</td>\n",
              "      <td>8</td>\n",
              "      <td>2014-05-01</td>\n",
              "      <td>2014-05-29</td>\n",
              "      <td>None</td>\n",
              "      <td>1</td>\n",
              "      <td>12.91</td>\n",
              "      <td>LILA-Supermercado</td>\n",
              "      <td>Carrera 52 con Ave. Bolívar #65-98 Llano Largo</td>\n",
              "      <td>Barquisimeto</td>\n",
              "      <td>South America</td>\n",
              "      <td>3508</td>\n",
              "      <td>Venezuela</td>\n",
              "      <td>1</td>\n",
              "      <td>Speedy Express</td>\n",
              "      <td>(503) 555-9831</td>\n",
              "      <td>28 days</td>\n",
              "    </tr>\n",
              "    <tr>\n",
              "      <th>818</th>\n",
              "      <td>11066</td>\n",
              "      <td>WHITC</td>\n",
              "      <td>7</td>\n",
              "      <td>2014-05-01</td>\n",
              "      <td>2014-05-29</td>\n",
              "      <td>2014-05-04</td>\n",
              "      <td>2</td>\n",
              "      <td>44.72</td>\n",
              "      <td>White Clover Markets</td>\n",
              "      <td>1029 - 12th Ave. S.</td>\n",
              "      <td>Seattle</td>\n",
              "      <td>North America</td>\n",
              "      <td>98124</td>\n",
              "      <td>USA</td>\n",
              "      <td>2</td>\n",
              "      <td>United Package</td>\n",
              "      <td>(503) 555-3199</td>\n",
              "      <td>28 days</td>\n",
              "    </tr>\n",
              "    <tr>\n",
              "      <th>819</th>\n",
              "      <td>11067</td>\n",
              "      <td>DRACD</td>\n",
              "      <td>1</td>\n",
              "      <td>2014-05-04</td>\n",
              "      <td>2014-05-18</td>\n",
              "      <td>2014-05-06</td>\n",
              "      <td>2</td>\n",
              "      <td>7.98</td>\n",
              "      <td>Drachenblut Delikatessen</td>\n",
              "      <td>Walserweg 21</td>\n",
              "      <td>Aachen</td>\n",
              "      <td>Western Europe</td>\n",
              "      <td>52066</td>\n",
              "      <td>Germany</td>\n",
              "      <td>2</td>\n",
              "      <td>United Package</td>\n",
              "      <td>(503) 555-3199</td>\n",
              "      <td>14 days</td>\n",
              "    </tr>\n",
              "    <tr>\n",
              "      <th>820</th>\n",
              "      <td>11068</td>\n",
              "      <td>QUEE</td>\n",
              "      <td>8</td>\n",
              "      <td>2014-05-04</td>\n",
              "      <td>2014-06-01</td>\n",
              "      <td>None</td>\n",
              "      <td>2</td>\n",
              "      <td>81.75</td>\n",
              "      <td>Queen Cozinha</td>\n",
              "      <td>Alameda dos Canàrios, 891</td>\n",
              "      <td>Sao Paulo</td>\n",
              "      <td>South America</td>\n",
              "      <td>05487-020</td>\n",
              "      <td>Brazil</td>\n",
              "      <td>2</td>\n",
              "      <td>United Package</td>\n",
              "      <td>(503) 555-3199</td>\n",
              "      <td>28 days</td>\n",
              "    </tr>\n",
              "    <tr>\n",
              "      <th>821</th>\n",
              "      <td>11069</td>\n",
              "      <td>TORTU</td>\n",
              "      <td>1</td>\n",
              "      <td>2014-05-04</td>\n",
              "      <td>2014-06-01</td>\n",
              "      <td>2014-05-06</td>\n",
              "      <td>2</td>\n",
              "      <td>15.67</td>\n",
              "      <td>Tortuga Restaurante</td>\n",
              "      <td>Avda. Azteca 123</td>\n",
              "      <td>México D.F.</td>\n",
              "      <td>Central America</td>\n",
              "      <td>05033</td>\n",
              "      <td>Mexico</td>\n",
              "      <td>2</td>\n",
              "      <td>United Package</td>\n",
              "      <td>(503) 555-3199</td>\n",
              "      <td>28 days</td>\n",
              "    </tr>\n",
              "    <tr>\n",
              "      <th>822</th>\n",
              "      <td>11070</td>\n",
              "      <td>LEHMS</td>\n",
              "      <td>2</td>\n",
              "      <td>2014-05-05</td>\n",
              "      <td>2014-06-02</td>\n",
              "      <td>None</td>\n",
              "      <td>1</td>\n",
              "      <td>136.00</td>\n",
              "      <td>Lehmanns Marktstand</td>\n",
              "      <td>Magazinweg 7</td>\n",
              "      <td>Frankfurt a.M.</td>\n",
              "      <td>Western Europe</td>\n",
              "      <td>60528</td>\n",
              "      <td>Germany</td>\n",
              "      <td>1</td>\n",
              "      <td>Speedy Express</td>\n",
              "      <td>(503) 555-9831</td>\n",
              "      <td>28 days</td>\n",
              "    </tr>\n",
              "    <tr>\n",
              "      <th>823</th>\n",
              "      <td>11071</td>\n",
              "      <td>LILAS</td>\n",
              "      <td>1</td>\n",
              "      <td>2014-05-05</td>\n",
              "      <td>2014-06-02</td>\n",
              "      <td>None</td>\n",
              "      <td>1</td>\n",
              "      <td>0.93</td>\n",
              "      <td>LILA-Supermercado</td>\n",
              "      <td>Carrera 52 con Ave. Bolívar #65-98 Llano Largo</td>\n",
              "      <td>Barquisimeto</td>\n",
              "      <td>South America</td>\n",
              "      <td>3508</td>\n",
              "      <td>Venezuela</td>\n",
              "      <td>1</td>\n",
              "      <td>Speedy Express</td>\n",
              "      <td>(503) 555-9831</td>\n",
              "      <td>28 days</td>\n",
              "    </tr>\n",
              "    <tr>\n",
              "      <th>824</th>\n",
              "      <td>11072</td>\n",
              "      <td>ERNSH</td>\n",
              "      <td>4</td>\n",
              "      <td>2014-05-05</td>\n",
              "      <td>2014-06-02</td>\n",
              "      <td>None</td>\n",
              "      <td>2</td>\n",
              "      <td>258.64</td>\n",
              "      <td>Ernst Handel</td>\n",
              "      <td>Kirchgasse 6</td>\n",
              "      <td>Graz</td>\n",
              "      <td>Western Europe</td>\n",
              "      <td>8010</td>\n",
              "      <td>Austria</td>\n",
              "      <td>2</td>\n",
              "      <td>United Package</td>\n",
              "      <td>(503) 555-3199</td>\n",
              "      <td>28 days</td>\n",
              "    </tr>\n",
              "    <tr>\n",
              "      <th>825</th>\n",
              "      <td>11073</td>\n",
              "      <td>PERIC</td>\n",
              "      <td>2</td>\n",
              "      <td>2014-05-05</td>\n",
              "      <td>2014-06-02</td>\n",
              "      <td>None</td>\n",
              "      <td>2</td>\n",
              "      <td>24.95</td>\n",
              "      <td>Pericles Comidas clásicas</td>\n",
              "      <td>Calle Dr. Jorge Cash 321</td>\n",
              "      <td>México D.F.</td>\n",
              "      <td>Central America</td>\n",
              "      <td>05033</td>\n",
              "      <td>Mexico</td>\n",
              "      <td>2</td>\n",
              "      <td>United Package</td>\n",
              "      <td>(503) 555-3199</td>\n",
              "      <td>28 days</td>\n",
              "    </tr>\n",
              "    <tr>\n",
              "      <th>826</th>\n",
              "      <td>11074</td>\n",
              "      <td>SIMOB</td>\n",
              "      <td>7</td>\n",
              "      <td>2014-05-06</td>\n",
              "      <td>2014-06-03</td>\n",
              "      <td>None</td>\n",
              "      <td>2</td>\n",
              "      <td>18.44</td>\n",
              "      <td>Simons bistro</td>\n",
              "      <td>Vinbæltet 34</td>\n",
              "      <td>Kobenhavn</td>\n",
              "      <td>Northern Europe</td>\n",
              "      <td>1734</td>\n",
              "      <td>Denmark</td>\n",
              "      <td>2</td>\n",
              "      <td>United Package</td>\n",
              "      <td>(503) 555-3199</td>\n",
              "      <td>28 days</td>\n",
              "    </tr>\n",
              "    <tr>\n",
              "      <th>827</th>\n",
              "      <td>11075</td>\n",
              "      <td>RICSU</td>\n",
              "      <td>8</td>\n",
              "      <td>2014-05-06</td>\n",
              "      <td>2014-06-03</td>\n",
              "      <td>None</td>\n",
              "      <td>2</td>\n",
              "      <td>6.19</td>\n",
              "      <td>Richter Supermarkt</td>\n",
              "      <td>Starenweg 5</td>\n",
              "      <td>Genève</td>\n",
              "      <td>Western Europe</td>\n",
              "      <td>1204</td>\n",
              "      <td>Switzerland</td>\n",
              "      <td>2</td>\n",
              "      <td>United Package</td>\n",
              "      <td>(503) 555-3199</td>\n",
              "      <td>28 days</td>\n",
              "    </tr>\n",
              "    <tr>\n",
              "      <th>828</th>\n",
              "      <td>11076</td>\n",
              "      <td>BONAP</td>\n",
              "      <td>4</td>\n",
              "      <td>2014-05-06</td>\n",
              "      <td>2014-06-03</td>\n",
              "      <td>None</td>\n",
              "      <td>2</td>\n",
              "      <td>38.28</td>\n",
              "      <td>Bon app'</td>\n",
              "      <td>12, rue des Bouchers</td>\n",
              "      <td>Marseille</td>\n",
              "      <td>Western Europe</td>\n",
              "      <td>13008</td>\n",
              "      <td>France</td>\n",
              "      <td>2</td>\n",
              "      <td>United Package</td>\n",
              "      <td>(503) 555-3199</td>\n",
              "      <td>28 days</td>\n",
              "    </tr>\n",
              "    <tr>\n",
              "      <th>829</th>\n",
              "      <td>11077</td>\n",
              "      <td>RATTC</td>\n",
              "      <td>1</td>\n",
              "      <td>2014-05-06</td>\n",
              "      <td>2014-06-03</td>\n",
              "      <td>None</td>\n",
              "      <td>2</td>\n",
              "      <td>8.53</td>\n",
              "      <td>Rattlesnake Canyon Grocery</td>\n",
              "      <td>2817 Milton Dr.</td>\n",
              "      <td>Albuquerque</td>\n",
              "      <td>North America</td>\n",
              "      <td>87110</td>\n",
              "      <td>USA</td>\n",
              "      <td>2</td>\n",
              "      <td>United Package</td>\n",
              "      <td>(503) 555-3199</td>\n",
              "      <td>28 days</td>\n",
              "    </tr>\n",
              "  </tbody>\n",
              "</table>\n",
              "<p>830 rows × 18 columns</p>\n",
              "</div>"
            ],
            "text/plain": [
              "        Id CustomerId  EmployeeId  OrderDate RequiredDate ShippedDate  \\\n",
              "0    10248      VINET           5 2012-07-04   2012-08-01  2012-07-16   \n",
              "1    10249      TOMSP           6 2012-07-05   2012-08-16  2012-07-10   \n",
              "2    10250      HANAR           4 2012-07-08   2012-08-05  2012-07-12   \n",
              "3    10251      VICTE           3 2012-07-08   2012-08-05  2012-07-15   \n",
              "4    10252      SUPRD           4 2012-07-09   2012-08-06  2012-07-11   \n",
              "5    10253      HANAR           3 2012-07-10   2012-07-24  2012-07-16   \n",
              "6    10254      CHOPS           5 2012-07-11   2012-08-08  2012-07-23   \n",
              "7    10255      RICSU           9 2012-07-12   2012-08-09  2012-07-15   \n",
              "8    10256      WELLI           3 2012-07-15   2012-08-12  2012-07-17   \n",
              "9    10257      HILAA           4 2012-07-16   2012-08-13  2012-07-22   \n",
              "10   10258      ERNSH           1 2012-07-17   2012-08-14  2012-07-23   \n",
              "11   10259      CENTC           4 2012-07-18   2012-08-15  2012-07-25   \n",
              "12   10260      OTTIK           4 2012-07-19   2012-08-16  2012-07-29   \n",
              "13   10261      QUEDE           4 2012-07-19   2012-08-16  2012-07-30   \n",
              "14   10262      RATTC           8 2012-07-22   2012-08-19  2012-07-25   \n",
              "15   10263      ERNSH           9 2012-07-23   2012-08-20  2012-07-31   \n",
              "16   10264      FOLKO           6 2012-07-24   2012-08-21  2012-08-23   \n",
              "17   10265      BLONP           2 2012-07-25   2012-08-22  2012-08-12   \n",
              "18   10266      WARTH           3 2012-07-26   2012-09-06  2012-07-31   \n",
              "19   10267      FRANK           4 2012-07-29   2012-08-26  2012-08-06   \n",
              "20   10268      GROSR           8 2012-07-30   2012-08-27  2012-08-02   \n",
              "21   10269      WHITC           5 2012-07-31   2012-08-14  2012-08-09   \n",
              "22   10270      WARTH           1 2012-08-01   2012-08-29  2012-08-02   \n",
              "23   10271      SPLIR           6 2012-08-01   2012-08-29  2012-08-30   \n",
              "24   10272      RATTC           6 2012-08-02   2012-08-30  2012-08-06   \n",
              "25   10273      QUICK           3 2012-08-05   2012-09-02  2012-08-12   \n",
              "26   10274      VINET           6 2012-08-06   2012-09-03  2012-08-16   \n",
              "27   10275      MAGAA           1 2012-08-07   2012-09-04  2012-08-09   \n",
              "28   10276      TORTU           8 2012-08-08   2012-08-22  2012-08-14   \n",
              "29   10277      MORGK           2 2012-08-09   2012-09-06  2012-08-13   \n",
              "..     ...        ...         ...        ...          ...         ...   \n",
              "800  11048      BOTTM           7 2014-04-24   2014-05-22  2014-04-30   \n",
              "801  11049      GOURL           3 2014-04-24   2014-05-22  2014-05-04   \n",
              "802  11050      FOLKO           8 2014-04-27   2014-05-25  2014-05-05   \n",
              "803  11051      LAMAI           7 2014-04-27   2014-05-25        None   \n",
              "804  11052      HANAR           3 2014-04-27   2014-05-25  2014-05-01   \n",
              "805  11053      PICCO           2 2014-04-27   2014-05-25  2014-04-29   \n",
              "806  11054      CACTU           8 2014-04-28   2014-05-26        None   \n",
              "807  11055      HILAA           7 2014-04-28   2014-05-26  2014-05-05   \n",
              "808  11056      EASTC           8 2014-04-28   2014-05-12  2014-05-01   \n",
              "809  11057      NORTS           3 2014-04-29   2014-05-27  2014-05-01   \n",
              "810  11058      BLAUS           9 2014-04-29   2014-05-27        None   \n",
              "811  11059      RICAR           2 2014-04-29   2014-06-10        None   \n",
              "812  11060      FRANS           2 2014-04-30   2014-05-28  2014-05-04   \n",
              "813  11061      GREAL           4 2014-04-30   2014-06-11        None   \n",
              "814  11062      REGGC           4 2014-04-30   2014-05-28        None   \n",
              "815  11063      HUNGO           3 2014-04-30   2014-05-28  2014-05-06   \n",
              "816  11064      SAVEA           1 2014-05-01   2014-05-29  2014-05-04   \n",
              "817  11065      LILAS           8 2014-05-01   2014-05-29        None   \n",
              "818  11066      WHITC           7 2014-05-01   2014-05-29  2014-05-04   \n",
              "819  11067      DRACD           1 2014-05-04   2014-05-18  2014-05-06   \n",
              "820  11068       QUEE           8 2014-05-04   2014-06-01        None   \n",
              "821  11069      TORTU           1 2014-05-04   2014-06-01  2014-05-06   \n",
              "822  11070      LEHMS           2 2014-05-05   2014-06-02        None   \n",
              "823  11071      LILAS           1 2014-05-05   2014-06-02        None   \n",
              "824  11072      ERNSH           4 2014-05-05   2014-06-02        None   \n",
              "825  11073      PERIC           2 2014-05-05   2014-06-02        None   \n",
              "826  11074      SIMOB           7 2014-05-06   2014-06-03        None   \n",
              "827  11075      RICSU           8 2014-05-06   2014-06-03        None   \n",
              "828  11076      BONAP           4 2014-05-06   2014-06-03        None   \n",
              "829  11077      RATTC           1 2014-05-06   2014-06-03        None   \n",
              "\n",
              "     ShipVia  Freight                      ShipName  \\\n",
              "0          3    32.38     Vins et alcools Chevalier   \n",
              "1          1    11.61            Toms Spezialitäten   \n",
              "2          2    65.83                 Hanari Carnes   \n",
              "3          1    41.34          Victuailles en stock   \n",
              "4          2    51.30              Suprêmes délices   \n",
              "5          2    58.17                 Hanari Carnes   \n",
              "6          2    22.98             Chop-suey Chinese   \n",
              "7          3   148.33            Richter Supermarkt   \n",
              "8          2    13.97        Wellington Importadora   \n",
              "9          3    81.91              HILARION-Abastos   \n",
              "10         1   140.51                  Ernst Handel   \n",
              "11         3     3.25    Centro comercial Moctezuma   \n",
              "12         1    55.09            Ottilies Käseladen   \n",
              "13         2     3.05                   Que Delícia   \n",
              "14         3    48.29    Rattlesnake Canyon Grocery   \n",
              "15         3   146.06                  Ernst Handel   \n",
              "16         3     3.67                Folk och fä HB   \n",
              "17         1    55.28          Blondel père et fils   \n",
              "18         3    25.73                Wartian Herkku   \n",
              "19         1   208.58                Frankenversand   \n",
              "20         3    66.29          GROSELLA-Restaurante   \n",
              "21         1     4.56          White Clover Markets   \n",
              "22         1   136.54                Wartian Herkku   \n",
              "23         2     4.54         Split Rail Beer & Ale   \n",
              "24         2    98.03    Rattlesnake Canyon Grocery   \n",
              "25         3    76.07                    QUICK-Stop   \n",
              "26         1     6.01     Vins et alcools Chevalier   \n",
              "27         1    26.93  Magazzini Alimentari Riuniti   \n",
              "28         3    13.84           Tortuga Restaurante   \n",
              "29         3   125.77        Morgenstern Gesundkost   \n",
              "..       ...      ...                           ...   \n",
              "800        3    24.12         Bottom-Dollar Markets   \n",
              "801        1     8.34           Gourmet Lanchonetes   \n",
              "802        2    59.41                Folk och fä HB   \n",
              "803        3     2.79              La maison d'Asie   \n",
              "804        1    67.26                 Hanari Carnes   \n",
              "805        2    53.05              Piccolo und mehr   \n",
              "806        1     0.33    Cactus Comidas para llevar   \n",
              "807        2   120.92              HILARION-Abastos   \n",
              "808        2   278.96            Eastern Connection   \n",
              "809        3     4.13                   North/South   \n",
              "810        3    31.14       Blauer See Delikatessen   \n",
              "811        2    85.80            Ricardo Adocicados   \n",
              "812        2    10.98                Franchi S.p.A.   \n",
              "813        3    14.01       Great Lakes Food Market   \n",
              "814        2    29.93            Reggiani Caseifici   \n",
              "815        2    81.73  Hungry Owl All-Night Grocers   \n",
              "816        1    30.09            Save-a-lot Markets   \n",
              "817        1    12.91             LILA-Supermercado   \n",
              "818        2    44.72          White Clover Markets   \n",
              "819        2     7.98      Drachenblut Delikatessen   \n",
              "820        2    81.75                 Queen Cozinha   \n",
              "821        2    15.67           Tortuga Restaurante   \n",
              "822        1   136.00           Lehmanns Marktstand   \n",
              "823        1     0.93             LILA-Supermercado   \n",
              "824        2   258.64                  Ernst Handel   \n",
              "825        2    24.95     Pericles Comidas clásicas   \n",
              "826        2    18.44                 Simons bistro   \n",
              "827        2     6.19            Richter Supermarkt   \n",
              "828        2    38.28                      Bon app'   \n",
              "829        2     8.53    Rattlesnake Canyon Grocery   \n",
              "\n",
              "                                        ShipAddress        ShipCity  \\\n",
              "0                                59 rue de l'Abbaye           Reims   \n",
              "1                                     Luisenstr. 48         Münster   \n",
              "2                                   Rua do Paço, 67  Rio de Janeiro   \n",
              "3                                2, rue du Commerce            Lyon   \n",
              "4                              Boulevard Tirou, 255       Charleroi   \n",
              "5                                   Rua do Paço, 67  Rio de Janeiro   \n",
              "6                                      Hauptstr. 31            Bern   \n",
              "7                                       Starenweg 5          Genève   \n",
              "8                                Rua do Mercado, 12         Resende   \n",
              "9        Carrera 22 con Ave. Carlos Soublette #8-35   San Cristóbal   \n",
              "10                                     Kirchgasse 6            Graz   \n",
              "11                          Sierras de Granada 9993     México D.F.   \n",
              "12                               Mehrheimerstr. 369            Köln   \n",
              "13                          Rua da Panificadora, 12  Rio de Janeiro   \n",
              "14                                  2817 Milton Dr.     Albuquerque   \n",
              "15                                     Kirchgasse 6            Graz   \n",
              "16                                     Åkergatan 24          Bräcke   \n",
              "17                                 24, place Kléber      Strasbourg   \n",
              "18                                      Torikatu 38            Oulu   \n",
              "19                                Berliner Platz 43         München   \n",
              "20                        5ª Ave. Los Palos Grandes         Caracas   \n",
              "21                              1029 - 12th Ave. S.         Seattle   \n",
              "22                                      Torikatu 38            Oulu   \n",
              "23                                     P.O. Box 555          Lander   \n",
              "24                                  2817 Milton Dr.     Albuquerque   \n",
              "25                                 Taucherstraße 10       Cunewalde   \n",
              "26                               59 rue de l'Abbaye           Reims   \n",
              "27                          Via Ludovico il Moro 22         Bergamo   \n",
              "28                                 Avda. Azteca 123     México D.F.   \n",
              "29                                      Heerstr. 22         Leipzig   \n",
              "..                                              ...             ...   \n",
              "800                              23 Tsawassen Blvd.       Tsawassen   \n",
              "801                                 Av. Brasil, 442        Campinas   \n",
              "802                                    Åkergatan 24          Bräcke   \n",
              "803                           1 rue Alsace-Lorraine        Toulouse   \n",
              "804                                 Rua do Paço, 67  Rio de Janeiro   \n",
              "805                                     Geislweg 14        Salzburg   \n",
              "806                                     Cerrito 333    Buenos Aires   \n",
              "807      Carrera 22 con Ave. Carlos Soublette #8-35   San Cristóbal   \n",
              "808                                  35 King George          London   \n",
              "809                    South House 300 Queensbridge          London   \n",
              "810                                  Forsterstr. 57        Mannheim   \n",
              "811                             Av. Copacabana, 267  Rio de Janeiro   \n",
              "812                             Via Monte Bianco 34          Torino   \n",
              "813                                2732 Baker Blvd.          Eugene   \n",
              "814                          Strada Provinciale 124   Reggio Emilia   \n",
              "815                                8 Johnstown Road            Cork   \n",
              "816                                 187 Suffolk Ln.           Boise   \n",
              "817  Carrera 52 con Ave. Bolívar #65-98 Llano Largo    Barquisimeto   \n",
              "818                             1029 - 12th Ave. S.         Seattle   \n",
              "819                                    Walserweg 21          Aachen   \n",
              "820                       Alameda dos Canàrios, 891       Sao Paulo   \n",
              "821                                Avda. Azteca 123     México D.F.   \n",
              "822                                    Magazinweg 7  Frankfurt a.M.   \n",
              "823  Carrera 52 con Ave. Bolívar #65-98 Llano Largo    Barquisimeto   \n",
              "824                                    Kirchgasse 6            Graz   \n",
              "825                        Calle Dr. Jorge Cash 321     México D.F.   \n",
              "826                                    Vinbæltet 34       Kobenhavn   \n",
              "827                                     Starenweg 5          Genève   \n",
              "828                            12, rue des Bouchers       Marseille   \n",
              "829                                 2817 Milton Dr.     Albuquerque   \n",
              "\n",
              "          ShipRegion ShipPostalCode  ShipCountry  Id       CompanyName  \\\n",
              "0     Western Europe          51100       France   3  Federal Shipping   \n",
              "1     Western Europe          44087      Germany   1    Speedy Express   \n",
              "2      South America      05454-876       Brazil   2    United Package   \n",
              "3     Western Europe          69004       France   1    Speedy Express   \n",
              "4     Western Europe         B-6000      Belgium   2    United Package   \n",
              "5      South America      05454-876       Brazil   2    United Package   \n",
              "6     Western Europe           3012  Switzerland   2    United Package   \n",
              "7     Western Europe           1204  Switzerland   3  Federal Shipping   \n",
              "8      South America      08737-363       Brazil   2    United Package   \n",
              "9      South America           5022    Venezuela   3  Federal Shipping   \n",
              "10    Western Europe           8010      Austria   1    Speedy Express   \n",
              "11   Central America          05022       Mexico   3  Federal Shipping   \n",
              "12    Western Europe          50739      Germany   1    Speedy Express   \n",
              "13     South America      02389-673       Brazil   2    United Package   \n",
              "14     North America          87110          USA   3  Federal Shipping   \n",
              "15    Western Europe           8010      Austria   3  Federal Shipping   \n",
              "16   Northern Europe       S-844 67       Sweden   3  Federal Shipping   \n",
              "17    Western Europe          67000       France   1    Speedy Express   \n",
              "18       Scandinavia          90110      Finland   3  Federal Shipping   \n",
              "19    Western Europe          80805      Germany   1    Speedy Express   \n",
              "20     South America           1081    Venezuela   3  Federal Shipping   \n",
              "21     North America          98124          USA   1    Speedy Express   \n",
              "22       Scandinavia          90110      Finland   1    Speedy Express   \n",
              "23     North America          82520          USA   2    United Package   \n",
              "24     North America          87110          USA   2    United Package   \n",
              "25    Western Europe          01307      Germany   3  Federal Shipping   \n",
              "26    Western Europe          51100       France   1    Speedy Express   \n",
              "27   Southern Europe          24100        Italy   1    Speedy Express   \n",
              "28   Central America          05033       Mexico   3  Federal Shipping   \n",
              "29    Western Europe          04179      Germany   3  Federal Shipping   \n",
              "..               ...            ...          ...  ..               ...   \n",
              "800    North America        T2F 8M4       Canada   3  Federal Shipping   \n",
              "801    South America      04876-786       Brazil   1    Speedy Express   \n",
              "802  Northern Europe       S-844 67       Sweden   2    United Package   \n",
              "803   Western Europe          31000       France   3  Federal Shipping   \n",
              "804    South America      05454-876       Brazil   1    Speedy Express   \n",
              "805   Western Europe           5020      Austria   2    United Package   \n",
              "806    South America           1010    Argentina   1    Speedy Express   \n",
              "807    South America           5022    Venezuela   2    United Package   \n",
              "808    British Isles        WX3 6FW           UK   2    United Package   \n",
              "809    British Isles        SW7 1RZ           UK   3  Federal Shipping   \n",
              "810   Western Europe          68306      Germany   3  Federal Shipping   \n",
              "811    South America      02389-890       Brazil   2    United Package   \n",
              "812  Southern Europe          10100        Italy   2    United Package   \n",
              "813    North America          97403          USA   3  Federal Shipping   \n",
              "814  Southern Europe          42100        Italy   2    United Package   \n",
              "815    British Isles           None      Ireland   2    United Package   \n",
              "816    North America          83720          USA   1    Speedy Express   \n",
              "817    South America           3508    Venezuela   1    Speedy Express   \n",
              "818    North America          98124          USA   2    United Package   \n",
              "819   Western Europe          52066      Germany   2    United Package   \n",
              "820    South America      05487-020       Brazil   2    United Package   \n",
              "821  Central America          05033       Mexico   2    United Package   \n",
              "822   Western Europe          60528      Germany   1    Speedy Express   \n",
              "823    South America           3508    Venezuela   1    Speedy Express   \n",
              "824   Western Europe           8010      Austria   2    United Package   \n",
              "825  Central America          05033       Mexico   2    United Package   \n",
              "826  Northern Europe           1734      Denmark   2    United Package   \n",
              "827   Western Europe           1204  Switzerland   2    United Package   \n",
              "828   Western Europe          13008       France   2    United Package   \n",
              "829    North America          87110          USA   2    United Package   \n",
              "\n",
              "              Phone ShippingTime  \n",
              "0    (503) 555-9931      28 days  \n",
              "1    (503) 555-9831      42 days  \n",
              "2    (503) 555-3199      28 days  \n",
              "3    (503) 555-9831      28 days  \n",
              "4    (503) 555-3199      28 days  \n",
              "5    (503) 555-3199      14 days  \n",
              "6    (503) 555-3199      28 days  \n",
              "7    (503) 555-9931      28 days  \n",
              "8    (503) 555-3199      28 days  \n",
              "9    (503) 555-9931      28 days  \n",
              "10   (503) 555-9831      28 days  \n",
              "11   (503) 555-9931      28 days  \n",
              "12   (503) 555-9831      28 days  \n",
              "13   (503) 555-3199      28 days  \n",
              "14   (503) 555-9931      28 days  \n",
              "15   (503) 555-9931      28 days  \n",
              "16   (503) 555-9931      28 days  \n",
              "17   (503) 555-9831      28 days  \n",
              "18   (503) 555-9931      42 days  \n",
              "19   (503) 555-9831      28 days  \n",
              "20   (503) 555-9931      28 days  \n",
              "21   (503) 555-9831      14 days  \n",
              "22   (503) 555-9831      28 days  \n",
              "23   (503) 555-3199      28 days  \n",
              "24   (503) 555-3199      28 days  \n",
              "25   (503) 555-9931      28 days  \n",
              "26   (503) 555-9831      28 days  \n",
              "27   (503) 555-9831      28 days  \n",
              "28   (503) 555-9931      14 days  \n",
              "29   (503) 555-9931      28 days  \n",
              "..              ...          ...  \n",
              "800  (503) 555-9931      28 days  \n",
              "801  (503) 555-9831      28 days  \n",
              "802  (503) 555-3199      28 days  \n",
              "803  (503) 555-9931      28 days  \n",
              "804  (503) 555-9831      28 days  \n",
              "805  (503) 555-3199      28 days  \n",
              "806  (503) 555-9831      28 days  \n",
              "807  (503) 555-3199      28 days  \n",
              "808  (503) 555-3199      14 days  \n",
              "809  (503) 555-9931      28 days  \n",
              "810  (503) 555-9931      28 days  \n",
              "811  (503) 555-3199      42 days  \n",
              "812  (503) 555-3199      28 days  \n",
              "813  (503) 555-9931      42 days  \n",
              "814  (503) 555-3199      28 days  \n",
              "815  (503) 555-3199      28 days  \n",
              "816  (503) 555-9831      28 days  \n",
              "817  (503) 555-9831      28 days  \n",
              "818  (503) 555-3199      28 days  \n",
              "819  (503) 555-3199      14 days  \n",
              "820  (503) 555-3199      28 days  \n",
              "821  (503) 555-3199      28 days  \n",
              "822  (503) 555-9831      28 days  \n",
              "823  (503) 555-9831      28 days  \n",
              "824  (503) 555-3199      28 days  \n",
              "825  (503) 555-3199      28 days  \n",
              "826  (503) 555-3199      28 days  \n",
              "827  (503) 555-3199      28 days  \n",
              "828  (503) 555-3199      28 days  \n",
              "829  (503) 555-3199      28 days  \n",
              "\n",
              "[830 rows x 18 columns]"
            ]
          },
          "execution_count": 52,
          "metadata": {},
          "output_type": "execute_result"
        }
      ],
      "source": [
        "# Change RequiredDate and OrderDate to date time, and add column ShippingTime\n",
        "orders_df['RequiredDate'] = pd.to_datetime(orders_df['RequiredDate'])\n",
        "orders_df['OrderDate'] = pd.to_datetime(orders_df['OrderDate'])\n",
        "orders_df['ShippingTime'] = orders_df['RequiredDate'] - orders_df['OrderDate']\n",
        "orders_df"
      ]
    },
    {
      "cell_type": "code",
      "execution_count": null,
      "metadata": {
        "id": "K8MIYuNq57Fr",
        "outputId": "daf595ae-69ff-43d5-d99a-530b2de6985a"
      },
      "outputs": [
        {
          "data": {
            "text/html": [
              "<div>\n",
              "<style scoped>\n",
              "    .dataframe tbody tr th:only-of-type {\n",
              "        vertical-align: middle;\n",
              "    }\n",
              "\n",
              "    .dataframe tbody tr th {\n",
              "        vertical-align: top;\n",
              "    }\n",
              "\n",
              "    .dataframe thead th {\n",
              "        text-align: right;\n",
              "    }\n",
              "</style>\n",
              "<table border=\"1\" class=\"dataframe\">\n",
              "  <thead>\n",
              "    <tr style=\"text-align: right;\">\n",
              "      <th></th>\n",
              "      <th>CompanyName</th>\n",
              "      <th>OrderDate</th>\n",
              "      <th>RequiredDate</th>\n",
              "      <th>ShippingTime</th>\n",
              "    </tr>\n",
              "  </thead>\n",
              "  <tbody>\n",
              "    <tr>\n",
              "      <th>0</th>\n",
              "      <td>Federal Shipping</td>\n",
              "      <td>2012-07-04</td>\n",
              "      <td>2012-08-01</td>\n",
              "      <td>28 days</td>\n",
              "    </tr>\n",
              "    <tr>\n",
              "      <th>1</th>\n",
              "      <td>Speedy Express</td>\n",
              "      <td>2012-07-05</td>\n",
              "      <td>2012-08-16</td>\n",
              "      <td>42 days</td>\n",
              "    </tr>\n",
              "    <tr>\n",
              "      <th>2</th>\n",
              "      <td>United Package</td>\n",
              "      <td>2012-07-08</td>\n",
              "      <td>2012-08-05</td>\n",
              "      <td>28 days</td>\n",
              "    </tr>\n",
              "    <tr>\n",
              "      <th>3</th>\n",
              "      <td>Speedy Express</td>\n",
              "      <td>2012-07-08</td>\n",
              "      <td>2012-08-05</td>\n",
              "      <td>28 days</td>\n",
              "    </tr>\n",
              "    <tr>\n",
              "      <th>4</th>\n",
              "      <td>United Package</td>\n",
              "      <td>2012-07-09</td>\n",
              "      <td>2012-08-06</td>\n",
              "      <td>28 days</td>\n",
              "    </tr>\n",
              "  </tbody>\n",
              "</table>\n",
              "</div>"
            ],
            "text/plain": [
              "        CompanyName  OrderDate RequiredDate ShippingTime\n",
              "0  Federal Shipping 2012-07-04   2012-08-01      28 days\n",
              "1    Speedy Express 2012-07-05   2012-08-16      42 days\n",
              "2    United Package 2012-07-08   2012-08-05      28 days\n",
              "3    Speedy Express 2012-07-08   2012-08-05      28 days\n",
              "4    United Package 2012-07-09   2012-08-06      28 days"
            ]
          },
          "execution_count": 53,
          "metadata": {},
          "output_type": "execute_result"
        }
      ],
      "source": [
        "# Make new df\n",
        "shipping_df = orders_df[['CompanyName', 'OrderDate', 'RequiredDate', 'ShippingTime']]\n",
        "shipping_df.head()"
      ]
    },
    {
      "cell_type": "code",
      "execution_count": null,
      "metadata": {
        "id": "oi9n8VBQ57Fr",
        "outputId": "7008c477-d880-4e0f-a317-9b723aa40f54"
      },
      "outputs": [
        {
          "data": {
            "text/plain": [
              "CompanyName     0\n",
              "OrderDate       0\n",
              "RequiredDate    0\n",
              "ShippingTime    0\n",
              "dtype: int64"
            ]
          },
          "execution_count": 54,
          "metadata": {},
          "output_type": "execute_result"
        }
      ],
      "source": [
        "shipping_df.isna().sum()"
      ]
    },
    {
      "cell_type": "code",
      "execution_count": null,
      "metadata": {
        "id": "4QENsjbq57Fr"
      },
      "outputs": [],
      "source": [
        "# Change ShippingTime column to just amount of days\n",
        "shipping_df['ShippingTime'] = shipping_df['ShippingTime'].dt.days"
      ]
    },
    {
      "cell_type": "code",
      "execution_count": null,
      "metadata": {
        "id": "rq70ThkM57Fr",
        "outputId": "c0828986-f976-4f91-be41-fdb245cab949"
      },
      "outputs": [
        {
          "name": "stdout",
          "output_type": "stream",
          "text": [
            "<class 'pandas.core.frame.DataFrame'>\n",
            "RangeIndex: 830 entries, 0 to 829\n",
            "Data columns (total 4 columns):\n",
            "CompanyName     830 non-null object\n",
            "OrderDate       830 non-null datetime64[ns]\n",
            "RequiredDate    830 non-null datetime64[ns]\n",
            "ShippingTime    830 non-null int64\n",
            "dtypes: datetime64[ns](2), int64(1), object(1)\n",
            "memory usage: 26.0+ KB\n"
          ]
        }
      ],
      "source": [
        "shipping_df.info()"
      ]
    },
    {
      "cell_type": "code",
      "execution_count": null,
      "metadata": {
        "id": "PtST2hq857Fs",
        "outputId": "860eb19e-2514-422c-dcd5-854f3b9053a8"
      },
      "outputs": [
        {
          "data": {
            "text/plain": [
              "array([28, 42, 14])"
            ]
          },
          "execution_count": 57,
          "metadata": {},
          "output_type": "execute_result"
        }
      ],
      "source": [
        "# shipping time seems to take either 2, 4, or 6 weeks\n",
        "shipping_df.ShippingTime.unique()"
      ]
    },
    {
      "cell_type": "code",
      "execution_count": null,
      "metadata": {
        "id": "3s2NxtqK57Fs",
        "outputId": "e67ce9c5-4b90-415a-c629-956467d1dc95"
      },
      "outputs": [
        {
          "data": {
            "image/png": "[encoded data removed]",
            "text/plain": [
              "<Figure size 576x360 with 1 Axes>"
            ]
          },
          "metadata": {
            "needs_background": "light"
          },
          "output_type": "display_data"
        }
      ],
      "source": [
        "plt.figure(figsize=(8,5))\n",
        "plt.hist(shipping_df.ShippingTime, bins=3)\n",
        "plt.title('Shipping TIme Distribution')\n",
        "plt.show()"
      ]
    },
    {
      "cell_type": "markdown",
      "metadata": {
        "id": "aBXONsZV57Fs"
      },
      "source": [
        "## Hypothesis\n",
        "Null Hypothesis: The average shipping time for all three shipping companies are equal\n",
        "<br>\n",
        "\n",
        "$H_0: \\mu_1 = \\mu_2 = \\mu_3$\n",
        "<br>\n",
        "\n",
        "Alternative Hypothesis: The average shipping time for all three shipping companies are not equal\n",
        "<br>\n",
        "\n",
        "$H_a: \\mu_1 != \\mu_2 != \\mu_3$\n",
        "<br>\n",
        "\n",
        "We want to look for significant differences between the shipping companies' shipping times to see if we can improve shipping logistics.\n",
        "<br>\n",
        "\n",
        "Will also use an $\\alpha$ = 0.05"
      ]
    },
    {
      "cell_type": "code",
      "execution_count": null,
      "metadata": {
        "id": "Nl5OGYCx57Fs",
        "outputId": "6ab87a01-c41a-485a-83fe-2b6b508dfcd3"
      },
      "outputs": [
        {
          "data": {
            "text/html": [
              "<div>\n",
              "<style scoped>\n",
              "    .dataframe tbody tr th:only-of-type {\n",
              "        vertical-align: middle;\n",
              "    }\n",
              "\n",
              "    .dataframe tbody tr th {\n",
              "        vertical-align: top;\n",
              "    }\n",
              "\n",
              "    .dataframe thead th {\n",
              "        text-align: right;\n",
              "    }\n",
              "</style>\n",
              "<table border=\"1\" class=\"dataframe\">\n",
              "  <thead>\n",
              "    <tr style=\"text-align: right;\">\n",
              "      <th></th>\n",
              "      <th>count</th>\n",
              "      <th>mean</th>\n",
              "      <th>std</th>\n",
              "      <th>min</th>\n",
              "      <th>25%</th>\n",
              "      <th>50%</th>\n",
              "      <th>75%</th>\n",
              "      <th>max</th>\n",
              "    </tr>\n",
              "    <tr>\n",
              "      <th>CompanyName</th>\n",
              "      <th></th>\n",
              "      <th></th>\n",
              "      <th></th>\n",
              "      <th></th>\n",
              "      <th></th>\n",
              "      <th></th>\n",
              "      <th></th>\n",
              "      <th></th>\n",
              "    </tr>\n",
              "  </thead>\n",
              "  <tbody>\n",
              "    <tr>\n",
              "      <th>Federal Shipping</th>\n",
              "      <td>255.0</td>\n",
              "      <td>27.505882</td>\n",
              "      <td>5.463458</td>\n",
              "      <td>14.0</td>\n",
              "      <td>28.0</td>\n",
              "      <td>28.0</td>\n",
              "      <td>28.0</td>\n",
              "      <td>42.0</td>\n",
              "    </tr>\n",
              "    <tr>\n",
              "      <th>Speedy Express</th>\n",
              "      <td>249.0</td>\n",
              "      <td>28.056225</td>\n",
              "      <td>5.692104</td>\n",
              "      <td>14.0</td>\n",
              "      <td>28.0</td>\n",
              "      <td>28.0</td>\n",
              "      <td>28.0</td>\n",
              "      <td>42.0</td>\n",
              "    </tr>\n",
              "    <tr>\n",
              "      <th>United Package</th>\n",
              "      <td>326.0</td>\n",
              "      <td>28.042945</td>\n",
              "      <td>5.435892</td>\n",
              "      <td>14.0</td>\n",
              "      <td>28.0</td>\n",
              "      <td>28.0</td>\n",
              "      <td>28.0</td>\n",
              "      <td>42.0</td>\n",
              "    </tr>\n",
              "  </tbody>\n",
              "</table>\n",
              "</div>"
            ],
            "text/plain": [
              "                  count       mean       std   min   25%   50%   75%   max\n",
              "CompanyName                                                               \n",
              "Federal Shipping  255.0  27.505882  5.463458  14.0  28.0  28.0  28.0  42.0\n",
              "Speedy Express    249.0  28.056225  5.692104  14.0  28.0  28.0  28.0  42.0\n",
              "United Package    326.0  28.042945  5.435892  14.0  28.0  28.0  28.0  42.0"
            ]
          },
          "execution_count": 59,
          "metadata": {},
          "output_type": "execute_result"
        }
      ],
      "source": [
        "shipping_df.ShippingTime.groupby(shipping_df.CompanyName).describe()"
      ]
    },
    {
      "cell_type": "markdown",
      "metadata": {
        "id": "1oX2J2U057Fs"
      },
      "source": [
        "## ANOVA test"
      ]
    },
    {
      "cell_type": "code",
      "execution_count": null,
      "metadata": {
        "id": "rTD2IYhS57Fs",
        "outputId": "5d0f7dfd-021b-4741-f6f3-60ec79c895b2"
      },
      "outputs": [
        {
          "name": "stdout",
          "output_type": "stream",
          "text": [
            "                      sum_sq     df         F    PR(>F)\n",
            "C(CompanyName)     52.076115    2.0  0.853813  0.426163\n",
            "Residual        25220.352801  827.0       NaN       NaN\n"
          ]
        }
      ],
      "source": [
        "# ANOVA test\n",
        "formula = 'ShippingTime ~ C(CompanyName)'\n",
        "lm = ols(formula, shipping_df).fit()\n",
        "table = sm.stats.anova_lm(lm, typ=2)\n",
        "print(table)"
      ]
    },
    {
      "cell_type": "markdown",
      "metadata": {
        "id": "8ugD5TNU57Fs"
      },
      "source": [
        "After running the ANOVA test, we fail to reject the Null Hypothesis and we cannot say with 95% confidence that there is a statistically significant difference between the three shipping companies' average shipping times.\n",
        "<br>\n",
        "\n",
        "Now let's test if there is any significant difference between the three shipping companies' average freight costs.  This would help the company by selecting the best shipping companies.  Note that freight is the cost after the cost of the goods being shipped, basically a total shipping cost."
      ]
    },
    {
      "cell_type": "code",
      "execution_count": null,
      "metadata": {
        "id": "p7Xgue9v57Fv"
      },
      "outputs": [],
      "source": [
        "freight_df = orders_df[['CompanyName', 'Freight']]"
      ]
    },
    {
      "cell_type": "code",
      "execution_count": null,
      "metadata": {
        "id": "x2XZelb757Fv",
        "outputId": "52c08e97-76ab-41ee-ad39-4a5b2f186147"
      },
      "outputs": [
        {
          "data": {
            "text/html": [
              "<div>\n",
              "<style scoped>\n",
              "    .dataframe tbody tr th:only-of-type {\n",
              "        vertical-align: middle;\n",
              "    }\n",
              "\n",
              "    .dataframe tbody tr th {\n",
              "        vertical-align: top;\n",
              "    }\n",
              "\n",
              "    .dataframe thead th {\n",
              "        text-align: right;\n",
              "    }\n",
              "</style>\n",
              "<table border=\"1\" class=\"dataframe\">\n",
              "  <thead>\n",
              "    <tr style=\"text-align: right;\">\n",
              "      <th></th>\n",
              "      <th>count</th>\n",
              "      <th>mean</th>\n",
              "    </tr>\n",
              "    <tr>\n",
              "      <th>CompanyName</th>\n",
              "      <th></th>\n",
              "      <th></th>\n",
              "    </tr>\n",
              "  </thead>\n",
              "  <tbody>\n",
              "    <tr>\n",
              "      <th>Federal Shipping</th>\n",
              "      <td>255.0</td>\n",
              "      <td>80.441216</td>\n",
              "    </tr>\n",
              "    <tr>\n",
              "      <th>Speedy Express</th>\n",
              "      <td>249.0</td>\n",
              "      <td>65.001325</td>\n",
              "    </tr>\n",
              "    <tr>\n",
              "      <th>United Package</th>\n",
              "      <td>326.0</td>\n",
              "      <td>86.640644</td>\n",
              "    </tr>\n",
              "  </tbody>\n",
              "</table>\n",
              "</div>"
            ],
            "text/plain": [
              "                  count       mean\n",
              "CompanyName                       \n",
              "Federal Shipping  255.0  80.441216\n",
              "Speedy Express    249.0  65.001325\n",
              "United Package    326.0  86.640644"
            ]
          },
          "execution_count": 62,
          "metadata": {},
          "output_type": "execute_result"
        }
      ],
      "source": [
        "freight_df.Freight.groupby(freight_df.CompanyName).describe()[['count', 'mean']]"
      ]
    },
    {
      "cell_type": "code",
      "execution_count": null,
      "metadata": {
        "id": "Cb-II2m-57Fv",
        "outputId": "cb323502-eda8-49cd-aa76-b5e48629c3fd"
      },
      "outputs": [
        {
          "data": {
            "image/png": "[encoded data removed]",
            "text/plain": [
              "<Figure size 576x360 with 1 Axes>"
            ]
          },
          "metadata": {
            "needs_background": "light"
          },
          "output_type": "display_data"
        }
      ],
      "source": [
        "plt.figure(figsize=(8,5))\n",
        "plt.title('Average Freight by Company')\n",
        "\n",
        "comapanies = freight_df.CompanyName.unique()\n",
        "for company in comapanies:\n",
        "    plt.bar(company, freight_df[freight_df['CompanyName']==company]['Freight'].mean())\n",
        "\n",
        "plt.show()"
      ]
    },
    {
      "cell_type": "markdown",
      "metadata": {
        "id": "TAHFm2pK57Fv"
      },
      "source": [
        "Notice how Speedy Express has the lowest average freight cost out of all the shipping companies.  "
      ]
    },
    {
      "cell_type": "code",
      "execution_count": null,
      "metadata": {
        "id": "7Sjt-hYI57Fw",
        "outputId": "971fe123-652a-4c91-b7d5-9b0d61c64e5b"
      },
      "outputs": [
        {
          "name": "stdout",
          "output_type": "stream",
          "text": [
            "Pop Mean: 78.2442048192771\n",
            "SE Mean: 65.00132530120482\n",
            "Mean Diff: -13.242879518072286\n"
          ]
        }
      ],
      "source": [
        "speedy_express = freight_df[freight_df['CompanyName']=='Speedy Express']\n",
        "print('Pop Mean:', np.mean(freight_df.Freight))\n",
        "print('SE Mean:', np.mean(speedy_express.Freight))\n",
        "print('Mean Diff:', np.mean(speedy_express.Freight) - np.mean(freight_df.Freight))"
      ]
    },
    {
      "cell_type": "code",
      "execution_count": null,
      "metadata": {
        "id": "Po72bLet57Fw",
        "outputId": "b7fad3a8-af67-456d-afae-5391d802d604"
      },
      "outputs": [
        {
          "data": {
            "image/png": "[encoded data removed]",
            "text/plain": [
              "<Figure size 576x360 with 1 Axes>"
            ]
          },
          "metadata": {
            "needs_background": "light"
          },
          "output_type": "display_data"
        }
      ],
      "source": [
        "plt.figure(figsize=(8,5))\n",
        "sns.distplot(freight_df.Freight, label='Pop distribution')\n",
        "plt.axvline(np.mean(freight_df.Freight), color='blue', label='Mean pop freight')\n",
        "plt.axvline(np.mean(freight_df[freight_df['CompanyName']=='Speedy Express']['Freight']), color='red', label='Mean SE freight')\n",
        "plt.title('Freight Price Distribution')\n",
        "plt.legend()\n",
        "plt.show()"
      ]
    },
    {
      "cell_type": "markdown",
      "metadata": {
        "id": "TK7Cn1MT57Fw"
      },
      "source": [
        "Notice how the average freight for Speedy Express is less than the average freight for all the shipping companies.\n",
        "<br>\n",
        "## Hypothesis\n",
        "Let's run a one sample t-test(one-tail) for the following hypothesis test:\n",
        "<br>\n",
        "\n",
        "Null Hypothesis: $\\mu_p$ <= $\\mu_s$\n",
        "<br>\n",
        "\n",
        "Alternative Hypothesis: $\\mu_p$ > $\\mu_s$\n",
        "<br>\n",
        "\n",
        "Basically we want to see if the average freight for Speedy Express is significantly less than the average freight for the population."
      ]
    },
    {
      "cell_type": "markdown",
      "metadata": {
        "id": "1z0N9mjN57Fw"
      },
      "source": [
        "## One Sample T-Test (one tail, left)"
      ]
    },
    {
      "cell_type": "code",
      "execution_count": null,
      "metadata": {
        "id": "aSDLnXxW57Fw",
        "outputId": "fc8a3e7c-9316-41f0-edf0-8535aeea51c0"
      },
      "outputs": [
        {
          "name": "stdout",
          "output_type": "stream",
          "text": [
            "P-value: 0.0029995288773551703\n"
          ]
        }
      ],
      "source": [
        "t_stat, p_val = stats.ttest_1samp(freight_df[freight_df['CompanyName']=='Speedy Express']['Freight'], np.mean(freight_df.Freight))\n",
        "print('P-value:', p_val/2)"
      ]
    },
    {
      "cell_type": "markdown",
      "metadata": {
        "id": "FET9AjfD57Fw"
      },
      "source": [
        "## Accept or Reject\n",
        "Here with a p-value less than 0.05, we reject our null hypothesis, therefore we can say with 95% confidence that the average freight for Speedy express is signifcantly cheaper than the population.\n",
        "<br>\n",
        "\n",
        "Let's now dig further to see if there is any signficance between the average freights for each of the shipping companies."
      ]
    },
    {
      "cell_type": "markdown",
      "metadata": {
        "id": "ZkJMmxZk57Fw"
      },
      "source": [
        "## Effect Size"
      ]
    },
    {
      "cell_type": "code",
      "execution_count": null,
      "metadata": {
        "id": "2m8QGY5-57Fw",
        "outputId": "a66e6c05-fdb4-4aa5-ba36-7af5c929ba4a"
      },
      "outputs": [
        {
          "name": "stdout",
          "output_type": "stream",
          "text": [
            "d = -0.12190001384301669\n"
          ]
        }
      ],
      "source": [
        "d = Cohen_d(speedy_express.Freight, freight_df.Freight)\n",
        "print('d = {}'.format(d))"
      ]
    },
    {
      "cell_type": "markdown",
      "metadata": {
        "id": "7SCFBben57Fx"
      },
      "source": [
        "Notice though, the effect size is very small, more data may be needed."
      ]
    },
    {
      "cell_type": "code",
      "execution_count": null,
      "metadata": {
        "id": "ccrhxA1T57Fx",
        "outputId": "6ea8b9fd-0ea2-47ca-b58b-cbbeaf499df2"
      },
      "outputs": [
        {
          "data": {
            "image/png": "[encoded data removed]",
            "text/plain": [
              "<Figure size 576x360 with 1 Axes>"
            ]
          },
          "metadata": {
            "needs_background": "light"
          },
          "output_type": "display_data"
        }
      ],
      "source": [
        "plt.figure(figsize=(8,5))\n",
        "sns.distplot(freight_df[freight_df['CompanyName']=='Federal Shipping']['Freight'], label='Federal Shipping')\n",
        "sns.distplot(freight_df[freight_df['CompanyName']=='Speedy Express']['Freight'], label='Speedy Express')\n",
        "sns.distplot(freight_df[freight_df['CompanyName']=='United Package']['Freight'], label='United Package')\n",
        "plt.axvline(np.mean(freight_df[freight_df['CompanyName']=='Federal Shipping']['Freight']), color='blue', label='Mean Federal Shipping')\n",
        "plt.axvline(np.mean(freight_df[freight_df['CompanyName']=='Speedy Express']['Freight']), color='red', label='Mean Speedy Express')\n",
        "plt.axvline(np.mean(freight_df[freight_df['CompanyName']=='United Package']['Freight']), color='green', label='Mean United Package')\n",
        "plt.title('Freight Distributions by Company')\n",
        "plt.legend()\n",
        "plt.show()"
      ]
    },
    {
      "cell_type": "code",
      "execution_count": null,
      "metadata": {
        "id": "o0TI8HDw57Fx",
        "outputId": "68d74fd2-c7ee-45b5-9864-8c0307b31834"
      },
      "outputs": [
        {
          "name": "stdout",
          "output_type": "stream",
          "text": [
            "                      sum_sq     df        F    PR(>F)\n",
            "C(CompanyName)  6.788200e+04    2.0  2.49781  0.082885\n",
            "Residual        1.123753e+07  827.0      NaN       NaN\n"
          ]
        }
      ],
      "source": [
        "# ANOVA test\n",
        "formula = 'Freight ~ C(CompanyName)'\n",
        "lm = ols(formula, freight_df).fit()\n",
        "table = sm.stats.anova_lm(lm, typ=2)\n",
        "print(table)"
      ]
    },
    {
      "cell_type": "markdown",
      "metadata": {
        "id": "uQljcybv57Fx"
      },
      "source": [
        "Although the average freight costs seem different, we fail to reject the Null Hypothesis, thuse we cannot say with 95% confidence that there is a significant difference between the companies' freight costs without it being due to random chance.\n",
        "\n",
        "## Results\n",
        "Overall, from our findings with regards to the three shipping companies, we did not find any significant difference between their average shipping times or freight costs specifically against each other.  However, testing the average freight of the company with the lowest freight on average, Speedy Express, we can say with 95% confidence that their freight is significantly lower than the general average freight overall. This information is useful for if the company wants to go with one freight company they should go with Speedy Express."
      ]
    },
    {
      "cell_type": "markdown",
      "metadata": {
        "id": "W5XSRE0957Fx"
      },
      "source": [
        "\n",
        "\n",
        "**_Is there any statistical significance on the average revenue generated in the USA compared to the average revenue generated in the rest of the countries?_**"
      ]
    },
    {
      "cell_type": "code",
      "execution_count": null,
      "metadata": {
        "id": "r4XbKZAC57Fx",
        "outputId": "57d11922-94fc-498e-9b55-2d1978af8751"
      },
      "outputs": [
        {
          "name": "stdout",
          "output_type": "stream",
          "text": [
            "2019-03-11 16:49:54,964 INFO sqlalchemy.engine.base.Engine SELECT od.OrderId, o.ShipRegion, o.ShipCountry, SUM(od.Quantity) Quantity,\n",
            "                            SUM(od.Quantity * od.UnitPrice * (1 - od.Discount)) Revenue\n",
            "                            FROM [Order] o \n",
            "                            JOIN OrderDetail od ON od.OrderId = o.Id\n",
            "                            GROUP BY od.OrderId\n",
            "                            \n",
            "2019-03-11 16:49:54,967 INFO sqlalchemy.engine.base.Engine ()\n"
          ]
        },
        {
          "data": {
            "text/html": [
              "<div>\n",
              "<style scoped>\n",
              "    .dataframe tbody tr th:only-of-type {\n",
              "        vertical-align: middle;\n",
              "    }\n",
              "\n",
              "    .dataframe tbody tr th {\n",
              "        vertical-align: top;\n",
              "    }\n",
              "\n",
              "    .dataframe thead th {\n",
              "        text-align: right;\n",
              "    }\n",
              "</style>\n",
              "<table border=\"1\" class=\"dataframe\">\n",
              "  <thead>\n",
              "    <tr style=\"text-align: right;\">\n",
              "      <th></th>\n",
              "      <th>OrderId</th>\n",
              "      <th>ShipRegion</th>\n",
              "      <th>ShipCountry</th>\n",
              "      <th>Quantity</th>\n",
              "      <th>Revenue</th>\n",
              "    </tr>\n",
              "  </thead>\n",
              "  <tbody>\n",
              "    <tr>\n",
              "      <th>0</th>\n",
              "      <td>10248</td>\n",
              "      <td>Western Europe</td>\n",
              "      <td>France</td>\n",
              "      <td>27</td>\n",
              "      <td>440.00</td>\n",
              "    </tr>\n",
              "    <tr>\n",
              "      <th>1</th>\n",
              "      <td>10249</td>\n",
              "      <td>Western Europe</td>\n",
              "      <td>Germany</td>\n",
              "      <td>49</td>\n",
              "      <td>1863.40</td>\n",
              "    </tr>\n",
              "    <tr>\n",
              "      <th>2</th>\n",
              "      <td>10250</td>\n",
              "      <td>South America</td>\n",
              "      <td>Brazil</td>\n",
              "      <td>60</td>\n",
              "      <td>1552.60</td>\n",
              "    </tr>\n",
              "    <tr>\n",
              "      <th>3</th>\n",
              "      <td>10251</td>\n",
              "      <td>Western Europe</td>\n",
              "      <td>France</td>\n",
              "      <td>41</td>\n",
              "      <td>654.06</td>\n",
              "    </tr>\n",
              "    <tr>\n",
              "      <th>4</th>\n",
              "      <td>10252</td>\n",
              "      <td>Western Europe</td>\n",
              "      <td>Belgium</td>\n",
              "      <td>105</td>\n",
              "      <td>3597.90</td>\n",
              "    </tr>\n",
              "  </tbody>\n",
              "</table>\n",
              "</div>"
            ],
            "text/plain": [
              "   OrderId      ShipRegion ShipCountry  Quantity  Revenue\n",
              "0    10248  Western Europe      France        27   440.00\n",
              "1    10249  Western Europe     Germany        49  1863.40\n",
              "2    10250   South America      Brazil        60  1552.60\n",
              "3    10251  Western Europe      France        41   654.06\n",
              "4    10252  Western Europe     Belgium       105  3597.90"
            ]
          },
          "execution_count": 70,
          "metadata": {},
          "output_type": "execute_result"
        }
      ],
      "source": [
        "region_df = pd.read_sql_query('''SELECT od.OrderId, o.ShipRegion, o.ShipCountry, SUM(od.Quantity) Quantity,\n",
        "                            SUM(od.Quantity * od.UnitPrice * (1 - od.Discount)) Revenue\n",
        "                            FROM [Order] o\n",
        "                            JOIN OrderDetail od ON od.OrderId = o.Id\n",
        "                            GROUP BY od.OrderId\n",
        "                            ''', engine)\n",
        "region_df.head()"
      ]
    },
    {
      "cell_type": "code",
      "execution_count": null,
      "metadata": {
        "id": "70lVRUwH57Fx",
        "outputId": "4aeae8ba-0321-4c11-ae85-e6faa4bc6063"
      },
      "outputs": [
        {
          "data": {
            "text/plain": [
              "(830, 5)"
            ]
          },
          "execution_count": 71,
          "metadata": {},
          "output_type": "execute_result"
        }
      ],
      "source": [
        "region_df.shape"
      ]
    },
    {
      "cell_type": "code",
      "execution_count": null,
      "metadata": {
        "id": "44CjnAAp57Fx",
        "outputId": "d762ae64-c158-4a76-e297-7cc7993e3736"
      },
      "outputs": [
        {
          "data": {
            "text/plain": [
              "ShipCountry\n",
              "USA            245584.6105\n",
              "Germany        230284.6335\n",
              "Austria        128003.8385\n",
              "Brazil         106925.7765\n",
              "France          81358.3225\n",
              "UK              58971.3100\n",
              "Venezuela       56810.6290\n",
              "Sweden          54495.1400\n",
              "Canada          50196.2900\n",
              "Ireland         49979.9050\n",
              "Belgium         33824.8550\n",
              "Denmark         32661.0225\n",
              "Switzerland     31692.6590\n",
              "Mexico          23582.0775\n",
              "Finland         18810.0525\n",
              "Spain           17983.2000\n",
              "Italy           15770.1550\n",
              "Portugal        11472.3625\n",
              "Argentina        8119.1000\n",
              "Norway           5735.1500\n",
              "Poland           3531.9500\n",
              "Name: Revenue, dtype: float64"
            ]
          },
          "execution_count": 72,
          "metadata": {},
          "output_type": "execute_result"
        }
      ],
      "source": [
        "# Ranking region by total revenue\n",
        "region_df.Revenue.groupby(region_df.ShipCountry).sum().sort_values(ascending=False)"
      ]
    },
    {
      "cell_type": "code",
      "execution_count": null,
      "metadata": {
        "id": "BcTlqprh57Fy",
        "outputId": "6a8acfaa-638c-4fcf-e350-b689600e6026"
      },
      "outputs": [
        {
          "data": {
            "text/html": [
              "<div>\n",
              "<style scoped>\n",
              "    .dataframe tbody tr th:only-of-type {\n",
              "        vertical-align: middle;\n",
              "    }\n",
              "\n",
              "    .dataframe tbody tr th {\n",
              "        vertical-align: top;\n",
              "    }\n",
              "\n",
              "    .dataframe thead th {\n",
              "        text-align: right;\n",
              "    }\n",
              "</style>\n",
              "<table border=\"1\" class=\"dataframe\">\n",
              "  <thead>\n",
              "    <tr style=\"text-align: right;\">\n",
              "      <th></th>\n",
              "      <th>count</th>\n",
              "      <th>mean</th>\n",
              "      <th>std</th>\n",
              "      <th>min</th>\n",
              "      <th>25%</th>\n",
              "      <th>50%</th>\n",
              "      <th>75%</th>\n",
              "      <th>max</th>\n",
              "    </tr>\n",
              "    <tr>\n",
              "      <th>ShipCountry</th>\n",
              "      <th></th>\n",
              "      <th></th>\n",
              "      <th></th>\n",
              "      <th></th>\n",
              "      <th></th>\n",
              "      <th></th>\n",
              "      <th></th>\n",
              "      <th></th>\n",
              "    </tr>\n",
              "  </thead>\n",
              "  <tbody>\n",
              "    <tr>\n",
              "      <th>Austria</th>\n",
              "      <td>40.0</td>\n",
              "      <td>3200.095963</td>\n",
              "      <td>2242.820195</td>\n",
              "      <td>344.000</td>\n",
              "      <td>1512.6000</td>\n",
              "      <td>2499.7500</td>\n",
              "      <td>4747.1250</td>\n",
              "      <td>8623.4500</td>\n",
              "    </tr>\n",
              "    <tr>\n",
              "      <th>Ireland</th>\n",
              "      <td>19.0</td>\n",
              "      <td>2630.521316</td>\n",
              "      <td>2405.328466</td>\n",
              "      <td>562.600</td>\n",
              "      <td>1354.6750</td>\n",
              "      <td>2023.3800</td>\n",
              "      <td>2582.0000</td>\n",
              "      <td>10835.2400</td>\n",
              "    </tr>\n",
              "    <tr>\n",
              "      <th>USA</th>\n",
              "      <td>122.0</td>\n",
              "      <td>2012.988611</td>\n",
              "      <td>2296.524603</td>\n",
              "      <td>36.000</td>\n",
              "      <td>507.7500</td>\n",
              "      <td>1336.5350</td>\n",
              "      <td>2477.5750</td>\n",
              "      <td>12615.0500</td>\n",
              "    </tr>\n",
              "    <tr>\n",
              "      <th>Germany</th>\n",
              "      <td>122.0</td>\n",
              "      <td>1887.578963</td>\n",
              "      <td>2376.494559</td>\n",
              "      <td>86.400</td>\n",
              "      <td>598.0000</td>\n",
              "      <td>1199.3750</td>\n",
              "      <td>2026.5600</td>\n",
              "      <td>16387.5000</td>\n",
              "    </tr>\n",
              "    <tr>\n",
              "      <th>Denmark</th>\n",
              "      <td>18.0</td>\n",
              "      <td>1814.501250</td>\n",
              "      <td>2509.507709</td>\n",
              "      <td>48.750</td>\n",
              "      <td>706.0000</td>\n",
              "      <td>887.8500</td>\n",
              "      <td>1893.4000</td>\n",
              "      <td>11188.4000</td>\n",
              "    </tr>\n",
              "    <tr>\n",
              "      <th>Belgium</th>\n",
              "      <td>19.0</td>\n",
              "      <td>1780.255526</td>\n",
              "      <td>1259.271010</td>\n",
              "      <td>28.000</td>\n",
              "      <td>848.2500</td>\n",
              "      <td>1434.0000</td>\n",
              "      <td>2482.1500</td>\n",
              "      <td>4581.0000</td>\n",
              "    </tr>\n",
              "    <tr>\n",
              "      <th>Switzerland</th>\n",
              "      <td>18.0</td>\n",
              "      <td>1760.703278</td>\n",
              "      <td>1047.708150</td>\n",
              "      <td>458.755</td>\n",
              "      <td>1103.2450</td>\n",
              "      <td>1708.8000</td>\n",
              "      <td>2258.1750</td>\n",
              "      <td>4666.9400</td>\n",
              "    </tr>\n",
              "    <tr>\n",
              "      <th>Canada</th>\n",
              "      <td>30.0</td>\n",
              "      <td>1673.209667</td>\n",
              "      <td>1822.097425</td>\n",
              "      <td>57.500</td>\n",
              "      <td>659.3000</td>\n",
              "      <td>1051.6625</td>\n",
              "      <td>1877.3875</td>\n",
              "      <td>9194.5600</td>\n",
              "    </tr>\n",
              "    <tr>\n",
              "      <th>Sweden</th>\n",
              "      <td>37.0</td>\n",
              "      <td>1472.841622</td>\n",
              "      <td>1226.215410</td>\n",
              "      <td>74.400</td>\n",
              "      <td>601.8300</td>\n",
              "      <td>1096.2000</td>\n",
              "      <td>2222.2000</td>\n",
              "      <td>4895.4375</td>\n",
              "    </tr>\n",
              "    <tr>\n",
              "      <th>Brazil</th>\n",
              "      <td>83.0</td>\n",
              "      <td>1288.262367</td>\n",
              "      <td>1981.482392</td>\n",
              "      <td>33.750</td>\n",
              "      <td>461.5750</td>\n",
              "      <td>863.2800</td>\n",
              "      <td>1458.4000</td>\n",
              "      <td>15810.0000</td>\n",
              "    </tr>\n",
              "    <tr>\n",
              "      <th>Venezuela</th>\n",
              "      <td>46.0</td>\n",
              "      <td>1235.013674</td>\n",
              "      <td>835.770641</td>\n",
              "      <td>112.000</td>\n",
              "      <td>451.9875</td>\n",
              "      <td>1121.3500</td>\n",
              "      <td>1753.9000</td>\n",
              "      <td>3163.2000</td>\n",
              "    </tr>\n",
              "    <tr>\n",
              "      <th>France</th>\n",
              "      <td>77.0</td>\n",
              "      <td>1056.601591</td>\n",
              "      <td>1172.094763</td>\n",
              "      <td>36.000</td>\n",
              "      <td>360.0000</td>\n",
              "      <td>642.0600</td>\n",
              "      <td>1659.2000</td>\n",
              "      <td>7390.2000</td>\n",
              "    </tr>\n",
              "    <tr>\n",
              "      <th>UK</th>\n",
              "      <td>56.0</td>\n",
              "      <td>1053.059107</td>\n",
              "      <td>994.878374</td>\n",
              "      <td>45.000</td>\n",
              "      <td>354.6250</td>\n",
              "      <td>734.7500</td>\n",
              "      <td>1482.7500</td>\n",
              "      <td>4441.2500</td>\n",
              "    </tr>\n",
              "    <tr>\n",
              "      <th>Norway</th>\n",
              "      <td>6.0</td>\n",
              "      <td>955.858333</td>\n",
              "      <td>891.116437</td>\n",
              "      <td>200.000</td>\n",
              "      <td>530.5875</td>\n",
              "      <td>646.1750</td>\n",
              "      <td>961.3000</td>\n",
              "      <td>2684.4000</td>\n",
              "    </tr>\n",
              "    <tr>\n",
              "      <th>Portugal</th>\n",
              "      <td>13.0</td>\n",
              "      <td>882.489423</td>\n",
              "      <td>764.521305</td>\n",
              "      <td>57.800</td>\n",
              "      <td>259.5050</td>\n",
              "      <td>716.7200</td>\n",
              "      <td>1288.3875</td>\n",
              "      <td>2633.9000</td>\n",
              "    </tr>\n",
              "    <tr>\n",
              "      <th>Finland</th>\n",
              "      <td>22.0</td>\n",
              "      <td>855.002386</td>\n",
              "      <td>664.120535</td>\n",
              "      <td>120.000</td>\n",
              "      <td>397.8375</td>\n",
              "      <td>620.4000</td>\n",
              "      <td>1107.5200</td>\n",
              "      <td>2684.0000</td>\n",
              "    </tr>\n",
              "    <tr>\n",
              "      <th>Mexico</th>\n",
              "      <td>28.0</td>\n",
              "      <td>842.217054</td>\n",
              "      <td>809.899805</td>\n",
              "      <td>88.800</td>\n",
              "      <td>396.2750</td>\n",
              "      <td>614.4000</td>\n",
              "      <td>959.5500</td>\n",
              "      <td>4150.0500</td>\n",
              "    </tr>\n",
              "    <tr>\n",
              "      <th>Spain</th>\n",
              "      <td>23.0</td>\n",
              "      <td>781.878261</td>\n",
              "      <td>895.884696</td>\n",
              "      <td>60.000</td>\n",
              "      <td>155.2000</td>\n",
              "      <td>365.8900</td>\n",
              "      <td>920.0000</td>\n",
              "      <td>3026.8500</td>\n",
              "    </tr>\n",
              "    <tr>\n",
              "      <th>Italy</th>\n",
              "      <td>28.0</td>\n",
              "      <td>563.219821</td>\n",
              "      <td>537.928245</td>\n",
              "      <td>18.400</td>\n",
              "      <td>105.8750</td>\n",
              "      <td>447.5500</td>\n",
              "      <td>705.5750</td>\n",
              "      <td>1692.8000</td>\n",
              "    </tr>\n",
              "    <tr>\n",
              "      <th>Argentina</th>\n",
              "      <td>16.0</td>\n",
              "      <td>507.443750</td>\n",
              "      <td>540.622301</td>\n",
              "      <td>12.500</td>\n",
              "      <td>140.0000</td>\n",
              "      <td>381.3000</td>\n",
              "      <td>691.5250</td>\n",
              "      <td>2220.0000</td>\n",
              "    </tr>\n",
              "    <tr>\n",
              "      <th>Poland</th>\n",
              "      <td>7.0</td>\n",
              "      <td>504.564286</td>\n",
              "      <td>212.238861</td>\n",
              "      <td>160.000</td>\n",
              "      <td>413.6750</td>\n",
              "      <td>459.0000</td>\n",
              "      <td>638.8000</td>\n",
              "      <td>808.0000</td>\n",
              "    </tr>\n",
              "  </tbody>\n",
              "</table>\n",
              "</div>"
            ],
            "text/plain": [
              "             count         mean          std      min        25%        50%  \\\n",
              "ShipCountry                                                                   \n",
              "Austria       40.0  3200.095963  2242.820195  344.000  1512.6000  2499.7500   \n",
              "Ireland       19.0  2630.521316  2405.328466  562.600  1354.6750  2023.3800   \n",
              "USA          122.0  2012.988611  2296.524603   36.000   507.7500  1336.5350   \n",
              "Germany      122.0  1887.578963  2376.494559   86.400   598.0000  1199.3750   \n",
              "Denmark       18.0  1814.501250  2509.507709   48.750   706.0000   887.8500   \n",
              "Belgium       19.0  1780.255526  1259.271010   28.000   848.2500  1434.0000   \n",
              "Switzerland   18.0  1760.703278  1047.708150  458.755  1103.2450  1708.8000   \n",
              "Canada        30.0  1673.209667  1822.097425   57.500   659.3000  1051.6625   \n",
              "Sweden        37.0  1472.841622  1226.215410   74.400   601.8300  1096.2000   \n",
              "Brazil        83.0  1288.262367  1981.482392   33.750   461.5750   863.2800   \n",
              "Venezuela     46.0  1235.013674   835.770641  112.000   451.9875  1121.3500   \n",
              "France        77.0  1056.601591  1172.094763   36.000   360.0000   642.0600   \n",
              "UK            56.0  1053.059107   994.878374   45.000   354.6250   734.7500   \n",
              "Norway         6.0   955.858333   891.116437  200.000   530.5875   646.1750   \n",
              "Portugal      13.0   882.489423   764.521305   57.800   259.5050   716.7200   \n",
              "Finland       22.0   855.002386   664.120535  120.000   397.8375   620.4000   \n",
              "Mexico        28.0   842.217054   809.899805   88.800   396.2750   614.4000   \n",
              "Spain         23.0   781.878261   895.884696   60.000   155.2000   365.8900   \n",
              "Italy         28.0   563.219821   537.928245   18.400   105.8750   447.5500   \n",
              "Argentina     16.0   507.443750   540.622301   12.500   140.0000   381.3000   \n",
              "Poland         7.0   504.564286   212.238861  160.000   413.6750   459.0000   \n",
              "\n",
              "                   75%         max  \n",
              "ShipCountry                         \n",
              "Austria      4747.1250   8623.4500  \n",
              "Ireland      2582.0000  10835.2400  \n",
              "USA          2477.5750  12615.0500  \n",
              "Germany      2026.5600  16387.5000  \n",
              "Denmark      1893.4000  11188.4000  \n",
              "Belgium      2482.1500   4581.0000  \n",
              "Switzerland  2258.1750   4666.9400  \n",
              "Canada       1877.3875   9194.5600  \n",
              "Sweden       2222.2000   4895.4375  \n",
              "Brazil       1458.4000  15810.0000  \n",
              "Venezuela    1753.9000   3163.2000  \n",
              "France       1659.2000   7390.2000  \n",
              "UK           1482.7500   4441.2500  \n",
              "Norway        961.3000   2684.4000  \n",
              "Portugal     1288.3875   2633.9000  \n",
              "Finland      1107.5200   2684.0000  \n",
              "Mexico        959.5500   4150.0500  \n",
              "Spain         920.0000   3026.8500  \n",
              "Italy         705.5750   1692.8000  \n",
              "Argentina     691.5250   2220.0000  \n",
              "Poland        638.8000    808.0000  "
            ]
          },
          "execution_count": 73,
          "metadata": {},
          "output_type": "execute_result"
        }
      ],
      "source": [
        "# Ranking region by average revenue\n",
        "# Note how USA generates more total revenue than the rest of the countries\n",
        "# But on average is the third highest\n",
        "region_df.Revenue.groupby(region_df.ShipCountry).describe().sort_values('mean', ascending=False)"
      ]
    },
    {
      "cell_type": "markdown",
      "metadata": {
        "id": "uOLkEAJR57Fy"
      },
      "source": [
        "## Get USA Sample"
      ]
    },
    {
      "cell_type": "code",
      "execution_count": null,
      "metadata": {
        "id": "M_jwR34457Fy",
        "outputId": "520569f4-8064-4575-cd30-2ea597ce788e"
      },
      "outputs": [
        {
          "name": "stdout",
          "output_type": "stream",
          "text": [
            "population mean: 1525.051854819277\n",
            "usa mean: 2012.9886106557378\n",
            "mean difference: 487.93675583646086\n"
          ]
        }
      ],
      "source": [
        "# Make usa sample\n",
        "usa = region_df[region_df['ShipCountry']=='USA']\n",
        "print('population mean:', np.mean(region_df.Revenue))\n",
        "print('usa mean:', np.mean(usa.Revenue))\n",
        "print('mean difference:', np.mean(usa.Revenue) - np.mean(region_df.Revenue))"
      ]
    },
    {
      "cell_type": "code",
      "execution_count": null,
      "metadata": {
        "id": "MSnEU7cU57Fy",
        "outputId": "8a81d931-926b-44a8-e992-d14f8e5f3b0f"
      },
      "outputs": [
        {
          "data": {
            "image/png": "[encoded data removed]",
            "text/plain": [
              "<Figure size 576x360 with 1 Axes>"
            ]
          },
          "metadata": {
            "needs_background": "light"
          },
          "output_type": "display_data"
        }
      ],
      "source": [
        "plt.figure(figsize=(8,5))\n",
        "sns.distplot(region_df.Revenue, label='Population')\n",
        "sns.distplot(usa.Revenue, label='USA')\n",
        "plt.axvline(np.mean(region_df.Revenue), color='red', label='Mean Pop')\n",
        "plt.axvline(np.mean(usa.Revenue), color='blue', label='Mean USA')\n",
        "plt.title('Distributions of Revenues USA vs Population')\n",
        "plt.legend()\n",
        "plt.show()"
      ]
    },
    {
      "cell_type": "markdown",
      "metadata": {
        "id": "p62AuR3r57Fy"
      },
      "source": [
        "## Hypothesis\n",
        "Null Hypothesis: The average revenue for all the countries is at least equal to the average revenue for the USA.\n",
        "<br>\n",
        "\n",
        "$H_0: \\mu_c >= \\mu_e$\n",
        "<br>\n",
        "\n",
        "Alternative Hypothesis: The average revenue for the USA is greater than the average revenue for all the countries.\n",
        "<br>\n",
        "\n",
        "$H_a: \\mu_c < \\mu_e$\n",
        "<br>\n",
        "\n",
        "We want to see if there is a significant difference between the average revenue for the USA.\n",
        "<br>\n",
        "\n",
        "Will also use an $\\alpha$ = 0.05"
      ]
    },
    {
      "cell_type": "markdown",
      "metadata": {
        "id": "iycVDS9t57Fy"
      },
      "source": [
        "## One Sample T-Test (one tail)"
      ]
    },
    {
      "cell_type": "code",
      "execution_count": null,
      "metadata": {
        "id": "xa-1Qv6Z57Fy",
        "outputId": "1456f19b-5621-4a03-d4d9-4da8c71b9aa6"
      },
      "outputs": [
        {
          "name": "stdout",
          "output_type": "stream",
          "text": [
            "P-Value: 0.01028069250065511\n"
          ]
        }
      ],
      "source": [
        "t_stat, p_val = stats.ttest_1samp(usa.Revenue, np.mean(region_df.Revenue))\n",
        "print('P-Value:', p_val/2)"
      ]
    },
    {
      "cell_type": "markdown",
      "metadata": {
        "id": "bNrZ4Rd_57Fy"
      },
      "source": [
        "## Accept or Reject\n",
        "Based on the p-value being less than our alpha, we can reject the Null Hypothesis and say with 95% confidence that the average revenue from the USA is greater than the average revenue from all of the countries without it being due to random chance."
      ]
    },
    {
      "cell_type": "markdown",
      "metadata": {
        "id": "T72WKY6E57Fy"
      },
      "source": [
        "## Effect Size"
      ]
    },
    {
      "cell_type": "code",
      "execution_count": null,
      "metadata": {
        "id": "nCFfYBdg57Fz",
        "outputId": "13a88a82-2b1a-42cb-cb2c-20dbea45e8c1"
      },
      "outputs": [
        {
          "name": "stdout",
          "output_type": "stream",
          "text": [
            "d = 0.2555994419667684\n"
          ]
        }
      ],
      "source": [
        "d = Cohen_d(usa.Revenue, region_df.Revenue)\n",
        "print('d = {}'.format(d))"
      ]
    },
    {
      "cell_type": "markdown",
      "metadata": {
        "id": "uqGd2AO557Fz"
      },
      "source": [
        "An effect of 0.26 is considered a small effect.  Although it is small, it still means that there is a an effect happening but it is not so obvious to see without investigating like we have with our hypothesis testing.\n",
        "<br>\n",
        "\n",
        "Let's see now if we can get some insight on what are the top products sold in the USA."
      ]
    },
    {
      "cell_type": "code",
      "execution_count": null,
      "metadata": {
        "id": "0TbDPny157Fz",
        "outputId": "c44551d3-50ab-41c4-b9f9-58440f77babb"
      },
      "outputs": [
        {
          "name": "stdout",
          "output_type": "stream",
          "text": [
            "2019-03-11 16:50:03,956 INFO sqlalchemy.engine.base.Engine SELECT od.OrderId,\n",
            "                            c.CategoryName,\n",
            "                            o.ShipRegion,\n",
            "                            o.ShipCountry,\n",
            "                            od.Quantity,\n",
            "                            (od.Quantity * od.UnitPrice * (1 - od.Discount)) Revenue\n",
            "                            From [Order] o\n",
            "                            JOIN OrderDetail od ON od.OrderId = o.Id\n",
            "                            JOIN Product p ON od.ProductId = p.Id\n",
            "                            JOIN Category c ON c.Id = p.CategoryId\n",
            "                            \n",
            "2019-03-11 16:50:03,959 INFO sqlalchemy.engine.base.Engine ()\n"
          ]
        },
        {
          "data": {
            "text/html": [
              "<div>\n",
              "<style scoped>\n",
              "    .dataframe tbody tr th:only-of-type {\n",
              "        vertical-align: middle;\n",
              "    }\n",
              "\n",
              "    .dataframe tbody tr th {\n",
              "        vertical-align: top;\n",
              "    }\n",
              "\n",
              "    .dataframe thead th {\n",
              "        text-align: right;\n",
              "    }\n",
              "</style>\n",
              "<table border=\"1\" class=\"dataframe\">\n",
              "  <thead>\n",
              "    <tr style=\"text-align: right;\">\n",
              "      <th></th>\n",
              "      <th>OrderId</th>\n",
              "      <th>CategoryName</th>\n",
              "      <th>ShipRegion</th>\n",
              "      <th>ShipCountry</th>\n",
              "      <th>Quantity</th>\n",
              "      <th>Revenue</th>\n",
              "    </tr>\n",
              "  </thead>\n",
              "  <tbody>\n",
              "    <tr>\n",
              "      <th>0</th>\n",
              "      <td>10248</td>\n",
              "      <td>Dairy Products</td>\n",
              "      <td>Western Europe</td>\n",
              "      <td>France</td>\n",
              "      <td>12</td>\n",
              "      <td>168.0</td>\n",
              "    </tr>\n",
              "    <tr>\n",
              "      <th>1</th>\n",
              "      <td>10248</td>\n",
              "      <td>Grains/Cereals</td>\n",
              "      <td>Western Europe</td>\n",
              "      <td>France</td>\n",
              "      <td>10</td>\n",
              "      <td>98.0</td>\n",
              "    </tr>\n",
              "    <tr>\n",
              "      <th>2</th>\n",
              "      <td>10248</td>\n",
              "      <td>Dairy Products</td>\n",
              "      <td>Western Europe</td>\n",
              "      <td>France</td>\n",
              "      <td>5</td>\n",
              "      <td>174.0</td>\n",
              "    </tr>\n",
              "    <tr>\n",
              "      <th>3</th>\n",
              "      <td>10249</td>\n",
              "      <td>Produce</td>\n",
              "      <td>Western Europe</td>\n",
              "      <td>Germany</td>\n",
              "      <td>9</td>\n",
              "      <td>167.4</td>\n",
              "    </tr>\n",
              "    <tr>\n",
              "      <th>4</th>\n",
              "      <td>10249</td>\n",
              "      <td>Produce</td>\n",
              "      <td>Western Europe</td>\n",
              "      <td>Germany</td>\n",
              "      <td>40</td>\n",
              "      <td>1696.0</td>\n",
              "    </tr>\n",
              "  </tbody>\n",
              "</table>\n",
              "</div>"
            ],
            "text/plain": [
              "   OrderId    CategoryName      ShipRegion ShipCountry  Quantity  Revenue\n",
              "0    10248  Dairy Products  Western Europe      France        12    168.0\n",
              "1    10248  Grains/Cereals  Western Europe      France        10     98.0\n",
              "2    10248  Dairy Products  Western Europe      France         5    174.0\n",
              "3    10249         Produce  Western Europe     Germany         9    167.4\n",
              "4    10249         Produce  Western Europe     Germany        40   1696.0"
            ]
          },
          "execution_count": 78,
          "metadata": {},
          "output_type": "execute_result"
        }
      ],
      "source": [
        "products_df = pd.read_sql_query('''SELECT od.OrderId,\n",
        "                            c.CategoryName,\n",
        "                            o.ShipRegion,\n",
        "                            o.ShipCountry,\n",
        "                            od.Quantity,\n",
        "                            (od.Quantity * od.UnitPrice * (1 - od.Discount)) Revenue\n",
        "                            From [Order] o\n",
        "                            JOIN OrderDetail od ON od.OrderId = o.Id\n",
        "                            JOIN Product p ON od.ProductId = p.Id\n",
        "                            JOIN Category c ON c.Id = p.CategoryId\n",
        "                            ''', engine)\n",
        "products_df.head()"
      ]
    },
    {
      "cell_type": "code",
      "execution_count": null,
      "metadata": {
        "id": "ZgyFWgRl57Fz",
        "outputId": "03d88994-0d9b-4b4c-fe61-6772673a6330"
      },
      "outputs": [
        {
          "data": {
            "text/plain": [
              "(2155, 6)"
            ]
          },
          "execution_count": 79,
          "metadata": {},
          "output_type": "execute_result"
        }
      ],
      "source": [
        "products_df.shape"
      ]
    },
    {
      "cell_type": "code",
      "execution_count": null,
      "metadata": {
        "id": "jYEMGQOX57Fz",
        "outputId": "b03db6a3-9a89-4de6-923e-0c198c2bcf8d"
      },
      "outputs": [
        {
          "data": {
            "text/plain": [
              "OrderId         0\n",
              "CategoryName    0\n",
              "ShipRegion      0\n",
              "ShipCountry     0\n",
              "Quantity        0\n",
              "Revenue         0\n",
              "dtype: int64"
            ]
          },
          "execution_count": 80,
          "metadata": {},
          "output_type": "execute_result"
        }
      ],
      "source": [
        "products_df.isna().sum()"
      ]
    },
    {
      "cell_type": "code",
      "execution_count": null,
      "metadata": {
        "id": "PkO10_3r57Fz",
        "outputId": "9ad3d56f-3331-4ec9-96ac-1754e1a7cc70"
      },
      "outputs": [
        {
          "data": {
            "text/html": [
              "<div>\n",
              "<style scoped>\n",
              "    .dataframe tbody tr th:only-of-type {\n",
              "        vertical-align: middle;\n",
              "    }\n",
              "\n",
              "    .dataframe tbody tr th {\n",
              "        vertical-align: top;\n",
              "    }\n",
              "\n",
              "    .dataframe thead th {\n",
              "        text-align: right;\n",
              "    }\n",
              "</style>\n",
              "<table border=\"1\" class=\"dataframe\">\n",
              "  <thead>\n",
              "    <tr style=\"text-align: right;\">\n",
              "      <th></th>\n",
              "      <th>count</th>\n",
              "      <th>mean</th>\n",
              "      <th>std</th>\n",
              "      <th>min</th>\n",
              "      <th>25%</th>\n",
              "      <th>50%</th>\n",
              "      <th>75%</th>\n",
              "      <th>max</th>\n",
              "    </tr>\n",
              "    <tr>\n",
              "      <th>CategoryName</th>\n",
              "      <th></th>\n",
              "      <th></th>\n",
              "      <th></th>\n",
              "      <th></th>\n",
              "      <th></th>\n",
              "      <th></th>\n",
              "      <th></th>\n",
              "      <th></th>\n",
              "    </tr>\n",
              "  </thead>\n",
              "  <tbody>\n",
              "    <tr>\n",
              "      <th>Meat/Poultry</th>\n",
              "      <td>173.0</td>\n",
              "      <td>942.325777</td>\n",
              "      <td>1296.746872</td>\n",
              "      <td>17.8800</td>\n",
              "      <td>196.800000</td>\n",
              "      <td>472.000</td>\n",
              "      <td>1170.00</td>\n",
              "      <td>9903.2</td>\n",
              "    </tr>\n",
              "    <tr>\n",
              "      <th>Produce</th>\n",
              "      <td>136.0</td>\n",
              "      <td>735.180735</td>\n",
              "      <td>768.655001</td>\n",
              "      <td>22.5525</td>\n",
              "      <td>217.040625</td>\n",
              "      <td>511.300</td>\n",
              "      <td>1060.00</td>\n",
              "      <td>6042.0</td>\n",
              "    </tr>\n",
              "    <tr>\n",
              "      <th>Beverages</th>\n",
              "      <td>404.0</td>\n",
              "      <td>663.040050</td>\n",
              "      <td>1685.811331</td>\n",
              "      <td>13.5000</td>\n",
              "      <td>108.000000</td>\n",
              "      <td>251.550</td>\n",
              "      <td>504.00</td>\n",
              "      <td>15810.0</td>\n",
              "    </tr>\n",
              "    <tr>\n",
              "      <th>Dairy Products</th>\n",
              "      <td>366.0</td>\n",
              "      <td>640.730287</td>\n",
              "      <td>691.701096</td>\n",
              "      <td>8.5000</td>\n",
              "      <td>190.500000</td>\n",
              "      <td>436.350</td>\n",
              "      <td>858.75</td>\n",
              "      <td>6050.0</td>\n",
              "    </tr>\n",
              "    <tr>\n",
              "      <th>Confections</th>\n",
              "      <td>334.0</td>\n",
              "      <td>501.069536</td>\n",
              "      <td>618.259773</td>\n",
              "      <td>7.3000</td>\n",
              "      <td>139.875000</td>\n",
              "      <td>321.000</td>\n",
              "      <td>589.25</td>\n",
              "      <td>5268.0</td>\n",
              "    </tr>\n",
              "    <tr>\n",
              "      <th>Condiments</th>\n",
              "      <td>216.0</td>\n",
              "      <td>490.958727</td>\n",
              "      <td>462.281963</td>\n",
              "      <td>17.0000</td>\n",
              "      <td>195.000000</td>\n",
              "      <td>340.625</td>\n",
              "      <td>604.00</td>\n",
              "      <td>2565.0</td>\n",
              "    </tr>\n",
              "    <tr>\n",
              "      <th>Grains/Cereals</th>\n",
              "      <td>196.0</td>\n",
              "      <td>488.492793</td>\n",
              "      <td>531.827940</td>\n",
              "      <td>14.0000</td>\n",
              "      <td>126.000000</td>\n",
              "      <td>374.300</td>\n",
              "      <td>665.00</td>\n",
              "      <td>4322.5</td>\n",
              "    </tr>\n",
              "    <tr>\n",
              "      <th>Seafood</th>\n",
              "      <td>330.0</td>\n",
              "      <td>397.762841</td>\n",
              "      <td>426.114617</td>\n",
              "      <td>4.8000</td>\n",
              "      <td>115.800000</td>\n",
              "      <td>287.100</td>\n",
              "      <td>501.65</td>\n",
              "      <td>3125.0</td>\n",
              "    </tr>\n",
              "  </tbody>\n",
              "</table>\n",
              "</div>"
            ],
            "text/plain": [
              "                count        mean          std      min         25%      50%  \\\n",
              "CategoryName                                                                   \n",
              "Meat/Poultry    173.0  942.325777  1296.746872  17.8800  196.800000  472.000   \n",
              "Produce         136.0  735.180735   768.655001  22.5525  217.040625  511.300   \n",
              "Beverages       404.0  663.040050  1685.811331  13.5000  108.000000  251.550   \n",
              "Dairy Products  366.0  640.730287   691.701096   8.5000  190.500000  436.350   \n",
              "Confections     334.0  501.069536   618.259773   7.3000  139.875000  321.000   \n",
              "Condiments      216.0  490.958727   462.281963  17.0000  195.000000  340.625   \n",
              "Grains/Cereals  196.0  488.492793   531.827940  14.0000  126.000000  374.300   \n",
              "Seafood         330.0  397.762841   426.114617   4.8000  115.800000  287.100   \n",
              "\n",
              "                    75%      max  \n",
              "CategoryName                      \n",
              "Meat/Poultry    1170.00   9903.2  \n",
              "Produce         1060.00   6042.0  \n",
              "Beverages        504.00  15810.0  \n",
              "Dairy Products   858.75   6050.0  \n",
              "Confections      589.25   5268.0  \n",
              "Condiments       604.00   2565.0  \n",
              "Grains/Cereals   665.00   4322.5  \n",
              "Seafood          501.65   3125.0  "
            ]
          },
          "execution_count": 81,
          "metadata": {},
          "output_type": "execute_result"
        }
      ],
      "source": [
        "# Average revenue by product category\n",
        "products_df.Revenue.groupby(products_df.CategoryName).describe().sort_values('mean', ascending=False)"
      ]
    },
    {
      "cell_type": "code",
      "execution_count": null,
      "metadata": {
        "id": "riGUfd3Q57Fz",
        "outputId": "b1c6c194-ba3d-47d0-d1f8-57fc4b6e9fa5"
      },
      "outputs": [
        {
          "data": {
            "text/html": [
              "<div>\n",
              "<style scoped>\n",
              "    .dataframe tbody tr th:only-of-type {\n",
              "        vertical-align: middle;\n",
              "    }\n",
              "\n",
              "    .dataframe tbody tr th {\n",
              "        vertical-align: top;\n",
              "    }\n",
              "\n",
              "    .dataframe thead th {\n",
              "        text-align: right;\n",
              "    }\n",
              "</style>\n",
              "<table border=\"1\" class=\"dataframe\">\n",
              "  <thead>\n",
              "    <tr style=\"text-align: right;\">\n",
              "      <th></th>\n",
              "      <th>count</th>\n",
              "      <th>mean</th>\n",
              "      <th>std</th>\n",
              "      <th>min</th>\n",
              "      <th>25%</th>\n",
              "      <th>50%</th>\n",
              "      <th>75%</th>\n",
              "      <th>max</th>\n",
              "    </tr>\n",
              "    <tr>\n",
              "      <th>CategoryName</th>\n",
              "      <th></th>\n",
              "      <th></th>\n",
              "      <th></th>\n",
              "      <th></th>\n",
              "      <th></th>\n",
              "      <th></th>\n",
              "      <th></th>\n",
              "      <th></th>\n",
              "    </tr>\n",
              "  </thead>\n",
              "  <tbody>\n",
              "    <tr>\n",
              "      <th>Meat/Poultry</th>\n",
              "      <td>37.0</td>\n",
              "      <td>1125.271216</td>\n",
              "      <td>1384.535293</td>\n",
              "      <td>29.8000</td>\n",
              "      <td>223.50</td>\n",
              "      <td>592.8000</td>\n",
              "      <td>1638.000</td>\n",
              "      <td>5570.55</td>\n",
              "    </tr>\n",
              "    <tr>\n",
              "      <th>Beverages</th>\n",
              "      <td>61.0</td>\n",
              "      <td>992.147131</td>\n",
              "      <td>2004.364151</td>\n",
              "      <td>31.0000</td>\n",
              "      <td>134.40</td>\n",
              "      <td>285.0000</td>\n",
              "      <td>581.400</td>\n",
              "      <td>10540.00</td>\n",
              "    </tr>\n",
              "    <tr>\n",
              "      <th>Dairy Products</th>\n",
              "      <td>55.0</td>\n",
              "      <td>689.128091</td>\n",
              "      <td>854.036488</td>\n",
              "      <td>16.0000</td>\n",
              "      <td>81.25</td>\n",
              "      <td>412.5000</td>\n",
              "      <td>933.800</td>\n",
              "      <td>4125.00</td>\n",
              "    </tr>\n",
              "    <tr>\n",
              "      <th>Confections</th>\n",
              "      <td>62.0</td>\n",
              "      <td>585.724726</td>\n",
              "      <td>632.692204</td>\n",
              "      <td>30.0000</td>\n",
              "      <td>136.00</td>\n",
              "      <td>383.2000</td>\n",
              "      <td>747.375</td>\n",
              "      <td>2758.00</td>\n",
              "    </tr>\n",
              "    <tr>\n",
              "      <th>Grains/Cereals</th>\n",
              "      <td>33.0</td>\n",
              "      <td>584.562576</td>\n",
              "      <td>489.182896</td>\n",
              "      <td>14.0000</td>\n",
              "      <td>199.50</td>\n",
              "      <td>425.6000</td>\n",
              "      <td>798.000</td>\n",
              "      <td>2128.00</td>\n",
              "    </tr>\n",
              "    <tr>\n",
              "      <th>Produce</th>\n",
              "      <td>18.0</td>\n",
              "      <td>545.351528</td>\n",
              "      <td>480.043048</td>\n",
              "      <td>22.5525</td>\n",
              "      <td>213.75</td>\n",
              "      <td>408.0000</td>\n",
              "      <td>782.475</td>\n",
              "      <td>1800.00</td>\n",
              "    </tr>\n",
              "    <tr>\n",
              "      <th>Condiments</th>\n",
              "      <td>33.0</td>\n",
              "      <td>502.955379</td>\n",
              "      <td>597.041739</td>\n",
              "      <td>17.0000</td>\n",
              "      <td>85.40</td>\n",
              "      <td>268.3875</td>\n",
              "      <td>616.000</td>\n",
              "      <td>2386.80</td>\n",
              "    </tr>\n",
              "    <tr>\n",
              "      <th>Seafood</th>\n",
              "      <td>53.0</td>\n",
              "      <td>443.532123</td>\n",
              "      <td>423.737336</td>\n",
              "      <td>24.0000</td>\n",
              "      <td>157.32</td>\n",
              "      <td>304.0000</td>\n",
              "      <td>562.500</td>\n",
              "      <td>2170.00</td>\n",
              "    </tr>\n",
              "  </tbody>\n",
              "</table>\n",
              "</div>"
            ],
            "text/plain": [
              "                count         mean          std      min     25%       50%  \\\n",
              "CategoryName                                                                 \n",
              "Meat/Poultry     37.0  1125.271216  1384.535293  29.8000  223.50  592.8000   \n",
              "Beverages        61.0   992.147131  2004.364151  31.0000  134.40  285.0000   \n",
              "Dairy Products   55.0   689.128091   854.036488  16.0000   81.25  412.5000   \n",
              "Confections      62.0   585.724726   632.692204  30.0000  136.00  383.2000   \n",
              "Grains/Cereals   33.0   584.562576   489.182896  14.0000  199.50  425.6000   \n",
              "Produce          18.0   545.351528   480.043048  22.5525  213.75  408.0000   \n",
              "Condiments       33.0   502.955379   597.041739  17.0000   85.40  268.3875   \n",
              "Seafood          53.0   443.532123   423.737336  24.0000  157.32  304.0000   \n",
              "\n",
              "                     75%       max  \n",
              "CategoryName                        \n",
              "Meat/Poultry    1638.000   5570.55  \n",
              "Beverages        581.400  10540.00  \n",
              "Dairy Products   933.800   4125.00  \n",
              "Confections      747.375   2758.00  \n",
              "Grains/Cereals   798.000   2128.00  \n",
              "Produce          782.475   1800.00  \n",
              "Condiments       616.000   2386.80  \n",
              "Seafood          562.500   2170.00  "
            ]
          },
          "execution_count": 82,
          "metadata": {},
          "output_type": "execute_result"
        }
      ],
      "source": [
        "# Average revenue by product category in the USA\n",
        "usa_products = products_df[products_df['ShipCountry']=='USA']\n",
        "usa_products.Revenue.groupby(usa_products.CategoryName).describe().sort_values('mean', ascending=False)"
      ]
    },
    {
      "cell_type": "code",
      "execution_count": null,
      "metadata": {
        "id": "9R8Aq9uD57Fz",
        "outputId": "a07d009f-b5db-401a-e84d-36c9b1ff7ed8"
      },
      "outputs": [
        {
          "data": {
            "image/png": "[encoded data removed]",
            "text/plain": [
              "<Figure size 576x360 with 1 Axes>"
            ]
          },
          "metadata": {
            "needs_background": "light"
          },
          "output_type": "display_data"
        }
      ],
      "source": [
        "pop_avg = pd.DataFrame(products_df.Revenue.groupby(products_df.CategoryName).mean())\n",
        "usa_avg = pd.DataFrame(usa_products.Revenue.groupby(usa_products.CategoryName).mean())\n",
        "\n",
        "plt.figure(figsize=(8,5))\n",
        "plt.barh(usa_avg.index, usa_avg.Revenue, label='USA', height=-0.4, align='edge')\n",
        "plt.barh(pop_avg.index, pop_avg.Revenue, label='Population', height=0.4, align='edge')\n",
        "plt.title('Average Revenue USA vs Population')\n",
        "plt.legend()\n",
        "plt.show()"
      ]
    },
    {
      "cell_type": "markdown",
      "metadata": {
        "id": "c8fVtHYa57F0"
      },
      "source": [
        "It seems there is a big discrpency between the amount of Produce sold in the US, let's test to see if it is significant."
      ]
    },
    {
      "cell_type": "code",
      "execution_count": null,
      "metadata": {
        "id": "3kG80FNV57F0",
        "outputId": "d84bcad8-48d0-4d4d-f514-0e32d11ecff4"
      },
      "outputs": [
        {
          "name": "stdout",
          "output_type": "stream",
          "text": [
            "P-value: 0.055845002081287516\n"
          ]
        }
      ],
      "source": [
        "# 1 sample two tail t-test seeing if there is a significant difference between\n",
        "# Produce sold in the USA vs in the population.\n",
        "# Null Hypothesis: USA mean produce is greater than or equal to the population mean produce\n",
        "# Alternative Hypothesis: USA mean produce is less than the population mean produce\n",
        "t_stat, p_val = stats.ttest_1samp(usa_products[usa_products['CategoryName']=='Produce']['Revenue'],\n",
        "                  np.mean(products_df[products_df['CategoryName']=='Produce']['Revenue']))\n",
        "print('P-value:', p_val/2)"
      ]
    },
    {
      "cell_type": "markdown",
      "metadata": {
        "id": "hQUKAA5b57F0"
      },
      "source": [
        "Here we fail to reject the null hypothesis that there is any significant difference between the average amount of produce sold in the USA vs the average amount sold in all the countries.  This is despite the fact that the average revenue from produce in the USA is lower, due to there being a small sample size we cannot say with 95% confidence that there is any significance.\n",
        "\n",
        "## Results\n",
        "Based on our hypothesis testing, we can be 95% sure that there is a significant difference between the average revenue generated in the USA vs the average revenue generated overall.  This information is useful and can also be tested with other countries in order to target the top revenue generating areas.  \n",
        "<br>\n",
        "Further testing can be done to target in on specific countries in order to look for significance in the amount of revenue generated by product category for each country. However more data might be needed since when we get more specific our sample sizes decrease.  We saw that the US generates a lot less revenue from produce on average, but it still wasn't statistically significant.  This trend can be examined further as we get more data."
      ]
    },
    {
      "cell_type": "markdown",
      "metadata": {
        "id": "XhMtJXtA57F0"
      },
      "source": [
        "\n",
        "\n",
        "**_Is there any statistically significant difference between the average reveue brought in from the first quarter of 2014 versus the first quarter of 2013?_**"
      ]
    },
    {
      "cell_type": "code",
      "execution_count": null,
      "metadata": {
        "id": "r1GQIikq57F0",
        "outputId": "aaa853c1-e802-4c80-bb1f-ab5328440e31"
      },
      "outputs": [
        {
          "name": "stdout",
          "output_type": "stream",
          "text": [
            "2019-03-11 16:50:11,076 INFO sqlalchemy.engine.base.Engine SELECT o.Id,\n",
            "                                o.OrderDate,\n",
            "                                SUM(od.Quantity * od.UnitPrice * (1 - od.Discount)) Revenue\n",
            "                                FROM [Order] o\n",
            "                                JOIN OrderDetail od ON od.OrderId=o.Id\n",
            "                                GROUP BY o.Id\n",
            "2019-03-11 16:50:11,079 INFO sqlalchemy.engine.base.Engine ()\n"
          ]
        },
        {
          "data": {
            "text/html": [
              "<div>\n",
              "<style scoped>\n",
              "    .dataframe tbody tr th:only-of-type {\n",
              "        vertical-align: middle;\n",
              "    }\n",
              "\n",
              "    .dataframe tbody tr th {\n",
              "        vertical-align: top;\n",
              "    }\n",
              "\n",
              "    .dataframe thead th {\n",
              "        text-align: right;\n",
              "    }\n",
              "</style>\n",
              "<table border=\"1\" class=\"dataframe\">\n",
              "  <thead>\n",
              "    <tr style=\"text-align: right;\">\n",
              "      <th></th>\n",
              "      <th>Id</th>\n",
              "      <th>OrderDate</th>\n",
              "      <th>Revenue</th>\n",
              "    </tr>\n",
              "  </thead>\n",
              "  <tbody>\n",
              "    <tr>\n",
              "      <th>0</th>\n",
              "      <td>10248</td>\n",
              "      <td>2012-07-04</td>\n",
              "      <td>440.00</td>\n",
              "    </tr>\n",
              "    <tr>\n",
              "      <th>1</th>\n",
              "      <td>10249</td>\n",
              "      <td>2012-07-05</td>\n",
              "      <td>1863.40</td>\n",
              "    </tr>\n",
              "    <tr>\n",
              "      <th>2</th>\n",
              "      <td>10250</td>\n",
              "      <td>2012-07-08</td>\n",
              "      <td>1552.60</td>\n",
              "    </tr>\n",
              "    <tr>\n",
              "      <th>3</th>\n",
              "      <td>10251</td>\n",
              "      <td>2012-07-08</td>\n",
              "      <td>654.06</td>\n",
              "    </tr>\n",
              "    <tr>\n",
              "      <th>4</th>\n",
              "      <td>10252</td>\n",
              "      <td>2012-07-09</td>\n",
              "      <td>3597.90</td>\n",
              "    </tr>\n",
              "  </tbody>\n",
              "</table>\n",
              "</div>"
            ],
            "text/plain": [
              "      Id   OrderDate  Revenue\n",
              "0  10248  2012-07-04   440.00\n",
              "1  10249  2012-07-05  1863.40\n",
              "2  10250  2012-07-08  1552.60\n",
              "3  10251  2012-07-08   654.06\n",
              "4  10252  2012-07-09  3597.90"
            ]
          },
          "execution_count": 85,
          "metadata": {},
          "output_type": "execute_result"
        }
      ],
      "source": [
        "revenue_df = pd.read_sql_query('''SELECT o.Id,\n",
        "                                o.OrderDate,\n",
        "                                SUM(od.Quantity * od.UnitPrice * (1 - od.Discount)) Revenue\n",
        "                                FROM [Order] o\n",
        "                                JOIN OrderDetail od ON od.OrderId=o.Id\n",
        "                                GROUP BY o.Id''', engine)\n",
        "revenue_df.head()"
      ]
    },
    {
      "cell_type": "code",
      "execution_count": null,
      "metadata": {
        "id": "Nwe65ybt57F0",
        "outputId": "e0e79d41-113e-4384-9207-7b8df4be01cd"
      },
      "outputs": [
        {
          "data": {
            "text/plain": [
              "(830, 3)"
            ]
          },
          "execution_count": 86,
          "metadata": {},
          "output_type": "execute_result"
        }
      ],
      "source": [
        "revenue_df.shape"
      ]
    },
    {
      "cell_type": "code",
      "execution_count": null,
      "metadata": {
        "id": "TUcPvVmM57F0"
      },
      "outputs": [],
      "source": [
        "revenue_df.OrderDate = pd.to_datetime(revenue_df.OrderDate)"
      ]
    },
    {
      "cell_type": "code",
      "execution_count": null,
      "metadata": {
        "id": "SAJjzrhI57F0",
        "outputId": "ac393199-641f-4dfe-f258-92bb5e8dad7d"
      },
      "outputs": [
        {
          "name": "stdout",
          "output_type": "stream",
          "text": [
            "<class 'pandas.core.frame.DataFrame'>\n",
            "RangeIndex: 830 entries, 0 to 829\n",
            "Data columns (total 3 columns):\n",
            "Id           830 non-null int64\n",
            "OrderDate    830 non-null datetime64[ns]\n",
            "Revenue      830 non-null float64\n",
            "dtypes: datetime64[ns](1), float64(1), int64(1)\n",
            "memory usage: 19.5 KB\n"
          ]
        }
      ],
      "source": [
        "revenue_df.info()"
      ]
    },
    {
      "cell_type": "code",
      "execution_count": null,
      "metadata": {
        "id": "GbfRBNe-57F0",
        "outputId": "c8ac1a69-c350-47c1-cdff-bd16ac539815"
      },
      "outputs": [
        {
          "data": {
            "text/plain": [
              "2013    408\n",
              "2014    270\n",
              "2012    152\n",
              "Name: OrderDate, dtype: int64"
            ]
          },
          "execution_count": 89,
          "metadata": {},
          "output_type": "execute_result"
        }
      ],
      "source": [
        "revenue_df['OrderDate'].dt.year.value_counts()"
      ]
    },
    {
      "cell_type": "code",
      "execution_count": null,
      "metadata": {
        "id": "uSRTWGmh57F1"
      },
      "outputs": [],
      "source": [
        "revenue_df['year'] = revenue_df['OrderDate'].dt.year\n",
        "revenue_df['month'] = revenue_df['OrderDate'].dt.month"
      ]
    },
    {
      "cell_type": "code",
      "execution_count": null,
      "metadata": {
        "id": "PW-nvoVr57F1",
        "outputId": "7e47d58c-9989-42eb-f70f-d042e57ca5c8"
      },
      "outputs": [
        {
          "data": {
            "text/html": [
              "<div>\n",
              "<style scoped>\n",
              "    .dataframe tbody tr th:only-of-type {\n",
              "        vertical-align: middle;\n",
              "    }\n",
              "\n",
              "    .dataframe tbody tr th {\n",
              "        vertical-align: top;\n",
              "    }\n",
              "\n",
              "    .dataframe thead th {\n",
              "        text-align: right;\n",
              "    }\n",
              "</style>\n",
              "<table border=\"1\" class=\"dataframe\">\n",
              "  <thead>\n",
              "    <tr style=\"text-align: right;\">\n",
              "      <th></th>\n",
              "      <th>Id</th>\n",
              "      <th>OrderDate</th>\n",
              "      <th>Revenue</th>\n",
              "      <th>year</th>\n",
              "      <th>month</th>\n",
              "    </tr>\n",
              "  </thead>\n",
              "  <tbody>\n",
              "    <tr>\n",
              "      <th>0</th>\n",
              "      <td>10248</td>\n",
              "      <td>2012-07-04</td>\n",
              "      <td>440.00</td>\n",
              "      <td>2012</td>\n",
              "      <td>7</td>\n",
              "    </tr>\n",
              "    <tr>\n",
              "      <th>1</th>\n",
              "      <td>10249</td>\n",
              "      <td>2012-07-05</td>\n",
              "      <td>1863.40</td>\n",
              "      <td>2012</td>\n",
              "      <td>7</td>\n",
              "    </tr>\n",
              "    <tr>\n",
              "      <th>2</th>\n",
              "      <td>10250</td>\n",
              "      <td>2012-07-08</td>\n",
              "      <td>1552.60</td>\n",
              "      <td>2012</td>\n",
              "      <td>7</td>\n",
              "    </tr>\n",
              "    <tr>\n",
              "      <th>3</th>\n",
              "      <td>10251</td>\n",
              "      <td>2012-07-08</td>\n",
              "      <td>654.06</td>\n",
              "      <td>2012</td>\n",
              "      <td>7</td>\n",
              "    </tr>\n",
              "    <tr>\n",
              "      <th>4</th>\n",
              "      <td>10252</td>\n",
              "      <td>2012-07-09</td>\n",
              "      <td>3597.90</td>\n",
              "      <td>2012</td>\n",
              "      <td>7</td>\n",
              "    </tr>\n",
              "  </tbody>\n",
              "</table>\n",
              "</div>"
            ],
            "text/plain": [
              "      Id  OrderDate  Revenue  year  month\n",
              "0  10248 2012-07-04   440.00  2012      7\n",
              "1  10249 2012-07-05  1863.40  2012      7\n",
              "2  10250 2012-07-08  1552.60  2012      7\n",
              "3  10251 2012-07-08   654.06  2012      7\n",
              "4  10252 2012-07-09  3597.90  2012      7"
            ]
          },
          "execution_count": 91,
          "metadata": {},
          "output_type": "execute_result"
        }
      ],
      "source": [
        "revenue_df.head()"
      ]
    },
    {
      "cell_type": "markdown",
      "metadata": {
        "id": "xHb-LVe257F1"
      },
      "source": [
        "## Create Sample Groups"
      ]
    },
    {
      "cell_type": "code",
      "execution_count": null,
      "metadata": {
        "cell_style": "center",
        "id": "EUgCF4pX57F1"
      },
      "outputs": [],
      "source": [
        "q1_2014 = revenue_df[(revenue_df['year']==2014) & ((revenue_df['month']==1)|(revenue_df['month']==2)|(revenue_df['month']==3))]\n",
        "q1_2013 = revenue_df[(revenue_df['year']==2013) & ((revenue_df['month']==1)|(revenue_df['month']==2)|(revenue_df['month']==3))]"
      ]
    },
    {
      "cell_type": "code",
      "execution_count": null,
      "metadata": {
        "id": "wPq4d25857F1",
        "outputId": "f1cc86cb-b748-4931-f09e-ef2178eac887"
      },
      "outputs": [
        {
          "name": "stdout",
          "output_type": "stream",
          "text": [
            "Q1 2014 Mean Revenue: 1640.0634780219784\n",
            "Q1 2013 Mean Revenue: 1503.1404891304353\n",
            "Q1 Mean Difference: 136.92298889154313\n"
          ]
        }
      ],
      "source": [
        "print('Q1 2014 Mean Revenue:', np.mean(q1_2014.Revenue))\n",
        "print('Q1 2013 Mean Revenue:', np.mean(q1_2013.Revenue))\n",
        "print('Q1 Mean Difference:', np.mean(q1_2014.Revenue) - np.mean(q1_2013.Revenue))"
      ]
    },
    {
      "cell_type": "code",
      "execution_count": null,
      "metadata": {
        "id": "tlNH6rkI57F1",
        "outputId": "0168e7bb-4512-4284-84f5-55a4fd9843c4"
      },
      "outputs": [
        {
          "data": {
            "image/png": "[encoded data removed]",
            "text/plain": [
              "<Figure size 576x360 with 1 Axes>"
            ]
          },
          "metadata": {
            "needs_background": "light"
          },
          "output_type": "display_data"
        }
      ],
      "source": [
        "plt.figure(figsize=(8,5))\n",
        "sns.distplot(q1_2014.Revenue, label='Q1 2014')\n",
        "sns.distplot(q1_2013.Revenue, label='Q1 2013')\n",
        "plt.axvline(np.mean(q1_2014.Revenue), color='blue', label='Q1 2014 Mean')\n",
        "plt.axvline(np.mean(q1_2013.Revenue), color='red', label='Q1 2013 Mean')\n",
        "plt.title('Q1 Revenue Distribution by Year')\n",
        "plt.legend()\n",
        "plt.show()"
      ]
    },
    {
      "cell_type": "markdown",
      "metadata": {
        "id": "2plrAv5y57F1"
      },
      "source": [
        "## Hypothesis\n",
        "Null Hypothesis: The average revenue for Q1 2013 is at least equal to the average revenue for Q1 2014.\n",
        "<br>\n",
        "\n",
        "$H_0: \\mu_a >= \\mu_b$\n",
        "<br>\n",
        "\n",
        "Alternative Hypothesis: The average revenue for Q1 2014 is greater than the average revenue for Q1 2013.\n",
        "<br>\n",
        "\n",
        "$H_a: \\mu_a < \\mu_b$\n",
        "<br>\n",
        "\n",
        "We want to see if there is a significant difference between the average revenue between the first quarters for 2014 and 2013.\n",
        "<br>\n",
        "\n",
        "Will also use an $\\alpha$ = 0.05"
      ]
    },
    {
      "cell_type": "markdown",
      "metadata": {
        "id": "Pt6JUQyi57F1"
      },
      "source": [
        "## Two Sample T-Test"
      ]
    },
    {
      "cell_type": "code",
      "execution_count": null,
      "metadata": {
        "id": "IrI4vEkL57F1",
        "outputId": "2bf55ea9-73c9-44fe-ab59-fe13e6d7d96e"
      },
      "outputs": [
        {
          "name": "stdout",
          "output_type": "stream",
          "text": [
            "P-value: 0.30482066706087185\n"
          ]
        }
      ],
      "source": [
        "t_stat, p_val = stats.ttest_ind(q1_2014.Revenue, q1_2013.Revenue, equal_var=False)\n",
        "print('P-value:', p_val/2)"
      ]
    },
    {
      "cell_type": "markdown",
      "metadata": {
        "id": "y7XJAqls57F2"
      },
      "source": [
        "## Accept or Reject\n",
        "Here we fail to reject the Null Hypothesis, thus we cannot say with 95% confidence that there is any statistical significance between Q1 2014 and Q1 2013 average revenue without it being due to random chance."
      ]
    },
    {
      "cell_type": "code",
      "execution_count": null,
      "metadata": {
        "id": "HwZ8in1a57F2",
        "outputId": "2c819ea7-0638-4038-847d-f3eb1c607cd7"
      },
      "outputs": [
        {
          "data": {
            "image/png": "[encoded data removed]",
            "text/plain": [
              "<Figure size 576x360 with 1 Axes>"
            ]
          },
          "metadata": {
            "needs_background": "light"
          },
          "output_type": "display_data"
        }
      ],
      "source": [
        "plt.figure(figsize=(8,5))\n",
        "plt.bar(x='Q1 2013', height = np.mean(q1_2013.Revenue))\n",
        "plt.bar(x='Q1 2014', height = np.mean(q1_2014.Revenue))\n",
        "plt.title('Average Revenue Comparison Year Over Year')\n",
        "plt.show()"
      ]
    },
    {
      "cell_type": "code",
      "execution_count": null,
      "metadata": {
        "id": "34zIYofQ57F2",
        "outputId": "4d5df28e-ba68-4c15-9956-2d96649a6094"
      },
      "outputs": [
        {
          "data": {
            "image/png": "[encoded data removed]",
            "text/plain": [
              "<Figure size 576x360 with 1 Axes>"
            ]
          },
          "metadata": {
            "needs_background": "light"
          },
          "output_type": "display_data"
        }
      ],
      "source": [
        "plt.figure(figsize=(8,5))\n",
        "plt.bar(x='Q1 2013', height = (q1_2013.Revenue.sum()))\n",
        "plt.bar(x='Q1 2014', height = (q1_2014.Revenue.sum()))\n",
        "plt.title('Total Revenue Comparison Year over Year')\n",
        "plt.show()"
      ]
    },
    {
      "cell_type": "markdown",
      "metadata": {
        "id": "VHbqhqK957F2"
      },
      "source": [
        "## Results\n",
        "Although we failed to reject our null hypothesis and we cannot say with 95% confidence that the average revenue generated in Q1 2014 is greater than that of Q1 2013, we can still notice that total revenue has increased.  This shows that with out average revenue staying the same, we have been increasing the amount of orders and therefor generating more revenue overall."
      ]
    }
  ],
  "metadata": {
    "kernelspec": {
      "display_name": "learn-env",
      "language": "python",
      "name": "learn-env"
    },
    "language_info": {
      "codemirror_mode": {
        "name": "ipython",
        "version": 3
      },
      "file_extension": ".py",
      "mimetype": "text/x-python",
      "name": "python",
      "nbconvert_exporter": "python",
      "pygments_lexer": "ipython3",
      "version": "3.6.6"
    },
    "toc": {
      "base_numbering": 1,
      "nav_menu": {},
      "number_sections": false,
      "sideBar": true,
      "skip_h1_title": false,
      "title_cell": "Table of Contents",
      "title_sidebar": "Contents",
      "toc_cell": false,
      "toc_position": {},
      "toc_section_display": false,
      "toc_window_display": false
    },
    "colab": {
      "provenance": [],
      "include_colab_link": true
    }
  },
  "nbformat": 4,
  "nbformat_minor": 0
}